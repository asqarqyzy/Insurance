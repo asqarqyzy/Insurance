{
  "nbformat": 4,
  "nbformat_minor": 0,
  "metadata": {
    "colab": {
      "provenance": [],
      "machine_shape": "hm",
      "gpuType": "L4",
      "mount_file_id": "13zDhe0t-VMzcUu8l5mxZsXDCqB3gpMmk",
      "authorship_tag": "ABX9TyOQbCeOjWoOkeZBDTdgw+3L",
      "include_colab_link": true
    },
    "kernelspec": {
      "name": "python3",
      "display_name": "Python 3"
    },
    "language_info": {
      "name": "python"
    },
    "accelerator": "GPU"
  },
  "cells": [
    {
      "cell_type": "markdown",
      "metadata": {
        "id": "view-in-github",
        "colab_type": "text"
      },
      "source": [
        "<a href=\"https://colab.research.google.com/github/asqarqyzy/Insurance/blob/main/Insurance.ipynb\" target=\"_parent\"><img src=\"https://colab.research.google.com/assets/colab-badge.svg\" alt=\"Open In Colab\"/></a>"
      ]
    },
    {
      "cell_type": "markdown",
      "source": [
        "# Import libs and data"
      ],
      "metadata": {
        "id": "xkalvj0OMk7j"
      }
    },
    {
      "cell_type": "code",
      "execution_count": null,
      "metadata": {
        "id": "2Ufe_WZRYyqk"
      },
      "outputs": [],
      "source": [
        "import pandas as pd\n",
        "import numpy as np\n",
        "import matplotlib.pyplot as plt\n",
        "import seaborn as sns\n",
        "from sklearn.preprocessing import StandardScaler\n",
        "from sklearn.model_selection import  train_test_split, cross_val_score, KFold, GridSearchCV,RandomizedSearchCV\n",
        "from sklearn.linear_model import LogisticRegression\n",
        "from sklearn.metrics import confusion_matrix, classification_report, accuracy_score, roc_auc_score\n",
        "from imblearn.over_sampling import SMOTE\n",
        "from sklearn.ensemble import RandomForestClassifier"
      ]
    },
    {
      "cell_type": "code",
      "source": [
        "df_train = pd.read_csv(\"/content/drive/MyDrive/train20240605/train.csv\", index_col=0)"
      ],
      "metadata": {
        "id": "n1MPlY-jY9sE"
      },
      "execution_count": null,
      "outputs": []
    },
    {
      "cell_type": "code",
      "source": [
        "df_test = pd.read_csv(\"/content/drive/MyDrive/test20240605/test.csv\", index_col=0)"
      ],
      "metadata": {
        "id": "eyathb9DE_l8"
      },
      "execution_count": null,
      "outputs": []
    },
    {
      "cell_type": "markdown",
      "source": [
        "# Data structure"
      ],
      "metadata": {
        "id": "wZz9iShwMwbZ"
      }
    },
    {
      "cell_type": "code",
      "source": [
        "df_train.head()"
      ],
      "metadata": {
        "colab": {
          "base_uri": "https://localhost:8080/",
          "height": 342
        },
        "id": "XPqMLsfbaUl4",
        "outputId": "d98103d1-f16b-48ae-e275-3c01ff1d9e23"
      },
      "execution_count": null,
      "outputs": [
        {
          "output_type": "execute_result",
          "data": {
            "text/plain": [
              "       ID_NEW      с_date   Score_p   Score_bm   Score_ae   Score_vy  \\\n",
              "1651     1652  2021-04-13     16651        6.0          2       1993   \n",
              "1748     1749  2021-04-08     16551        2.0          2       2017   \n",
              "3808     3809  2021-04-13     16651        5.0          1       1993   \n",
              "10092   10093  2021-04-09      2920       13.0          4       2014   \n",
              "15603   15604  2020-07-30      1027       13.0          4       2014   \n",
              "\n",
              "        Score_vt   Score_r   Score_bcb      Score_ow  ...  SCORE_6_8  \\\n",
              "1651           4         7           1  1.110100e+08  ...        NaN   \n",
              "1748           4        10           0  1.556391e+09  ...        NaN   \n",
              "3808           4         7           1  1.110100e+08  ...        NaN   \n",
              "10092          4        19           1  5.110111e+08  ...        NaN   \n",
              "15603         10        12           0  4.352301e+09  ...       10.0   \n",
              "\n",
              "       SCORE_6_9  SCORE_7_4  SCORE_7_5  SCORE_7_6  SCORE_7_7  SCORE_7_8  \\\n",
              "1651         NaN        NaN        NaN        NaN        NaN        NaN   \n",
              "1748         NaN        NaN        NaN        NaN        NaN        NaN   \n",
              "3808         NaN        NaN        NaN        NaN        NaN        NaN   \n",
              "10092        NaN        NaN        NaN        NaN        NaN        NaN   \n",
              "15603        9.0        NaN        NaN        NaN        NaN        NaN   \n",
              "\n",
              "       SCORE_7_9  SCORE_9_25  SCORE_11_15  \n",
              "1651         NaN         NaN          NaN  \n",
              "1748         NaN         NaN          NaN  \n",
              "3808         NaN         NaN          NaN  \n",
              "10092        NaN         NaN          NaN  \n",
              "15603        NaN         2.0          0.0  \n",
              "\n",
              "[5 rows x 182 columns]"
            ],
            "text/html": [
              "\n",
              "  <div id=\"df-ac662184-1a7b-4242-9889-491968320e8f\" class=\"colab-df-container\">\n",
              "    <div>\n",
              "<style scoped>\n",
              "    .dataframe tbody tr th:only-of-type {\n",
              "        vertical-align: middle;\n",
              "    }\n",
              "\n",
              "    .dataframe tbody tr th {\n",
              "        vertical-align: top;\n",
              "    }\n",
              "\n",
              "    .dataframe thead th {\n",
              "        text-align: right;\n",
              "    }\n",
              "</style>\n",
              "<table border=\"1\" class=\"dataframe\">\n",
              "  <thead>\n",
              "    <tr style=\"text-align: right;\">\n",
              "      <th></th>\n",
              "      <th>ID_NEW</th>\n",
              "      <th>с_date</th>\n",
              "      <th>Score_p</th>\n",
              "      <th>Score_bm</th>\n",
              "      <th>Score_ae</th>\n",
              "      <th>Score_vy</th>\n",
              "      <th>Score_vt</th>\n",
              "      <th>Score_r</th>\n",
              "      <th>Score_bcb</th>\n",
              "      <th>Score_ow</th>\n",
              "      <th>...</th>\n",
              "      <th>SCORE_6_8</th>\n",
              "      <th>SCORE_6_9</th>\n",
              "      <th>SCORE_7_4</th>\n",
              "      <th>SCORE_7_5</th>\n",
              "      <th>SCORE_7_6</th>\n",
              "      <th>SCORE_7_7</th>\n",
              "      <th>SCORE_7_8</th>\n",
              "      <th>SCORE_7_9</th>\n",
              "      <th>SCORE_9_25</th>\n",
              "      <th>SCORE_11_15</th>\n",
              "    </tr>\n",
              "  </thead>\n",
              "  <tbody>\n",
              "    <tr>\n",
              "      <th>1651</th>\n",
              "      <td>1652</td>\n",
              "      <td>2021-04-13</td>\n",
              "      <td>16651</td>\n",
              "      <td>6.0</td>\n",
              "      <td>2</td>\n",
              "      <td>1993</td>\n",
              "      <td>4</td>\n",
              "      <td>7</td>\n",
              "      <td>1</td>\n",
              "      <td>1.110100e+08</td>\n",
              "      <td>...</td>\n",
              "      <td>NaN</td>\n",
              "      <td>NaN</td>\n",
              "      <td>NaN</td>\n",
              "      <td>NaN</td>\n",
              "      <td>NaN</td>\n",
              "      <td>NaN</td>\n",
              "      <td>NaN</td>\n",
              "      <td>NaN</td>\n",
              "      <td>NaN</td>\n",
              "      <td>NaN</td>\n",
              "    </tr>\n",
              "    <tr>\n",
              "      <th>1748</th>\n",
              "      <td>1749</td>\n",
              "      <td>2021-04-08</td>\n",
              "      <td>16551</td>\n",
              "      <td>2.0</td>\n",
              "      <td>2</td>\n",
              "      <td>2017</td>\n",
              "      <td>4</td>\n",
              "      <td>10</td>\n",
              "      <td>0</td>\n",
              "      <td>1.556391e+09</td>\n",
              "      <td>...</td>\n",
              "      <td>NaN</td>\n",
              "      <td>NaN</td>\n",
              "      <td>NaN</td>\n",
              "      <td>NaN</td>\n",
              "      <td>NaN</td>\n",
              "      <td>NaN</td>\n",
              "      <td>NaN</td>\n",
              "      <td>NaN</td>\n",
              "      <td>NaN</td>\n",
              "      <td>NaN</td>\n",
              "    </tr>\n",
              "    <tr>\n",
              "      <th>3808</th>\n",
              "      <td>3809</td>\n",
              "      <td>2021-04-13</td>\n",
              "      <td>16651</td>\n",
              "      <td>5.0</td>\n",
              "      <td>1</td>\n",
              "      <td>1993</td>\n",
              "      <td>4</td>\n",
              "      <td>7</td>\n",
              "      <td>1</td>\n",
              "      <td>1.110100e+08</td>\n",
              "      <td>...</td>\n",
              "      <td>NaN</td>\n",
              "      <td>NaN</td>\n",
              "      <td>NaN</td>\n",
              "      <td>NaN</td>\n",
              "      <td>NaN</td>\n",
              "      <td>NaN</td>\n",
              "      <td>NaN</td>\n",
              "      <td>NaN</td>\n",
              "      <td>NaN</td>\n",
              "      <td>NaN</td>\n",
              "    </tr>\n",
              "    <tr>\n",
              "      <th>10092</th>\n",
              "      <td>10093</td>\n",
              "      <td>2021-04-09</td>\n",
              "      <td>2920</td>\n",
              "      <td>13.0</td>\n",
              "      <td>4</td>\n",
              "      <td>2014</td>\n",
              "      <td>4</td>\n",
              "      <td>19</td>\n",
              "      <td>1</td>\n",
              "      <td>5.110111e+08</td>\n",
              "      <td>...</td>\n",
              "      <td>NaN</td>\n",
              "      <td>NaN</td>\n",
              "      <td>NaN</td>\n",
              "      <td>NaN</td>\n",
              "      <td>NaN</td>\n",
              "      <td>NaN</td>\n",
              "      <td>NaN</td>\n",
              "      <td>NaN</td>\n",
              "      <td>NaN</td>\n",
              "      <td>NaN</td>\n",
              "    </tr>\n",
              "    <tr>\n",
              "      <th>15603</th>\n",
              "      <td>15604</td>\n",
              "      <td>2020-07-30</td>\n",
              "      <td>1027</td>\n",
              "      <td>13.0</td>\n",
              "      <td>4</td>\n",
              "      <td>2014</td>\n",
              "      <td>10</td>\n",
              "      <td>12</td>\n",
              "      <td>0</td>\n",
              "      <td>4.352301e+09</td>\n",
              "      <td>...</td>\n",
              "      <td>10.0</td>\n",
              "      <td>9.0</td>\n",
              "      <td>NaN</td>\n",
              "      <td>NaN</td>\n",
              "      <td>NaN</td>\n",
              "      <td>NaN</td>\n",
              "      <td>NaN</td>\n",
              "      <td>NaN</td>\n",
              "      <td>2.0</td>\n",
              "      <td>0.0</td>\n",
              "    </tr>\n",
              "  </tbody>\n",
              "</table>\n",
              "<p>5 rows × 182 columns</p>\n",
              "</div>\n",
              "    <div class=\"colab-df-buttons\">\n",
              "\n",
              "  <div class=\"colab-df-container\">\n",
              "    <button class=\"colab-df-convert\" onclick=\"convertToInteractive('df-ac662184-1a7b-4242-9889-491968320e8f')\"\n",
              "            title=\"Convert this dataframe to an interactive table.\"\n",
              "            style=\"display:none;\">\n",
              "\n",
              "  <svg xmlns=\"http://www.w3.org/2000/svg\" height=\"24px\" viewBox=\"0 -960 960 960\">\n",
              "    <path d=\"M120-120v-720h720v720H120Zm60-500h600v-160H180v160Zm220 220h160v-160H400v160Zm0 220h160v-160H400v160ZM180-400h160v-160H180v160Zm440 0h160v-160H620v160ZM180-180h160v-160H180v160Zm440 0h160v-160H620v160Z\"/>\n",
              "  </svg>\n",
              "    </button>\n",
              "\n",
              "  <style>\n",
              "    .colab-df-container {\n",
              "      display:flex;\n",
              "      gap: 12px;\n",
              "    }\n",
              "\n",
              "    .colab-df-convert {\n",
              "      background-color: #E8F0FE;\n",
              "      border: none;\n",
              "      border-radius: 50%;\n",
              "      cursor: pointer;\n",
              "      display: none;\n",
              "      fill: #1967D2;\n",
              "      height: 32px;\n",
              "      padding: 0 0 0 0;\n",
              "      width: 32px;\n",
              "    }\n",
              "\n",
              "    .colab-df-convert:hover {\n",
              "      background-color: #E2EBFA;\n",
              "      box-shadow: 0px 1px 2px rgba(60, 64, 67, 0.3), 0px 1px 3px 1px rgba(60, 64, 67, 0.15);\n",
              "      fill: #174EA6;\n",
              "    }\n",
              "\n",
              "    .colab-df-buttons div {\n",
              "      margin-bottom: 4px;\n",
              "    }\n",
              "\n",
              "    [theme=dark] .colab-df-convert {\n",
              "      background-color: #3B4455;\n",
              "      fill: #D2E3FC;\n",
              "    }\n",
              "\n",
              "    [theme=dark] .colab-df-convert:hover {\n",
              "      background-color: #434B5C;\n",
              "      box-shadow: 0px 1px 3px 1px rgba(0, 0, 0, 0.15);\n",
              "      filter: drop-shadow(0px 1px 2px rgba(0, 0, 0, 0.3));\n",
              "      fill: #FFFFFF;\n",
              "    }\n",
              "  </style>\n",
              "\n",
              "    <script>\n",
              "      const buttonEl =\n",
              "        document.querySelector('#df-ac662184-1a7b-4242-9889-491968320e8f button.colab-df-convert');\n",
              "      buttonEl.style.display =\n",
              "        google.colab.kernel.accessAllowed ? 'block' : 'none';\n",
              "\n",
              "      async function convertToInteractive(key) {\n",
              "        const element = document.querySelector('#df-ac662184-1a7b-4242-9889-491968320e8f');\n",
              "        const dataTable =\n",
              "          await google.colab.kernel.invokeFunction('convertToInteractive',\n",
              "                                                    [key], {});\n",
              "        if (!dataTable) return;\n",
              "\n",
              "        const docLinkHtml = 'Like what you see? Visit the ' +\n",
              "          '<a target=\"_blank\" href=https://colab.research.google.com/notebooks/data_table.ipynb>data table notebook</a>'\n",
              "          + ' to learn more about interactive tables.';\n",
              "        element.innerHTML = '';\n",
              "        dataTable['output_type'] = 'display_data';\n",
              "        await google.colab.output.renderOutput(dataTable, element);\n",
              "        const docLink = document.createElement('div');\n",
              "        docLink.innerHTML = docLinkHtml;\n",
              "        element.appendChild(docLink);\n",
              "      }\n",
              "    </script>\n",
              "  </div>\n",
              "\n",
              "\n",
              "<div id=\"df-5ae4a0ea-5633-40b3-8876-bf2e4122964f\">\n",
              "  <button class=\"colab-df-quickchart\" onclick=\"quickchart('df-5ae4a0ea-5633-40b3-8876-bf2e4122964f')\"\n",
              "            title=\"Suggest charts\"\n",
              "            style=\"display:none;\">\n",
              "\n",
              "<svg xmlns=\"http://www.w3.org/2000/svg\" height=\"24px\"viewBox=\"0 0 24 24\"\n",
              "     width=\"24px\">\n",
              "    <g>\n",
              "        <path d=\"M19 3H5c-1.1 0-2 .9-2 2v14c0 1.1.9 2 2 2h14c1.1 0 2-.9 2-2V5c0-1.1-.9-2-2-2zM9 17H7v-7h2v7zm4 0h-2V7h2v10zm4 0h-2v-4h2v4z\"/>\n",
              "    </g>\n",
              "</svg>\n",
              "  </button>\n",
              "\n",
              "<style>\n",
              "  .colab-df-quickchart {\n",
              "      --bg-color: #E8F0FE;\n",
              "      --fill-color: #1967D2;\n",
              "      --hover-bg-color: #E2EBFA;\n",
              "      --hover-fill-color: #174EA6;\n",
              "      --disabled-fill-color: #AAA;\n",
              "      --disabled-bg-color: #DDD;\n",
              "  }\n",
              "\n",
              "  [theme=dark] .colab-df-quickchart {\n",
              "      --bg-color: #3B4455;\n",
              "      --fill-color: #D2E3FC;\n",
              "      --hover-bg-color: #434B5C;\n",
              "      --hover-fill-color: #FFFFFF;\n",
              "      --disabled-bg-color: #3B4455;\n",
              "      --disabled-fill-color: #666;\n",
              "  }\n",
              "\n",
              "  .colab-df-quickchart {\n",
              "    background-color: var(--bg-color);\n",
              "    border: none;\n",
              "    border-radius: 50%;\n",
              "    cursor: pointer;\n",
              "    display: none;\n",
              "    fill: var(--fill-color);\n",
              "    height: 32px;\n",
              "    padding: 0;\n",
              "    width: 32px;\n",
              "  }\n",
              "\n",
              "  .colab-df-quickchart:hover {\n",
              "    background-color: var(--hover-bg-color);\n",
              "    box-shadow: 0 1px 2px rgba(60, 64, 67, 0.3), 0 1px 3px 1px rgba(60, 64, 67, 0.15);\n",
              "    fill: var(--button-hover-fill-color);\n",
              "  }\n",
              "\n",
              "  .colab-df-quickchart-complete:disabled,\n",
              "  .colab-df-quickchart-complete:disabled:hover {\n",
              "    background-color: var(--disabled-bg-color);\n",
              "    fill: var(--disabled-fill-color);\n",
              "    box-shadow: none;\n",
              "  }\n",
              "\n",
              "  .colab-df-spinner {\n",
              "    border: 2px solid var(--fill-color);\n",
              "    border-color: transparent;\n",
              "    border-bottom-color: var(--fill-color);\n",
              "    animation:\n",
              "      spin 1s steps(1) infinite;\n",
              "  }\n",
              "\n",
              "  @keyframes spin {\n",
              "    0% {\n",
              "      border-color: transparent;\n",
              "      border-bottom-color: var(--fill-color);\n",
              "      border-left-color: var(--fill-color);\n",
              "    }\n",
              "    20% {\n",
              "      border-color: transparent;\n",
              "      border-left-color: var(--fill-color);\n",
              "      border-top-color: var(--fill-color);\n",
              "    }\n",
              "    30% {\n",
              "      border-color: transparent;\n",
              "      border-left-color: var(--fill-color);\n",
              "      border-top-color: var(--fill-color);\n",
              "      border-right-color: var(--fill-color);\n",
              "    }\n",
              "    40% {\n",
              "      border-color: transparent;\n",
              "      border-right-color: var(--fill-color);\n",
              "      border-top-color: var(--fill-color);\n",
              "    }\n",
              "    60% {\n",
              "      border-color: transparent;\n",
              "      border-right-color: var(--fill-color);\n",
              "    }\n",
              "    80% {\n",
              "      border-color: transparent;\n",
              "      border-right-color: var(--fill-color);\n",
              "      border-bottom-color: var(--fill-color);\n",
              "    }\n",
              "    90% {\n",
              "      border-color: transparent;\n",
              "      border-bottom-color: var(--fill-color);\n",
              "    }\n",
              "  }\n",
              "</style>\n",
              "\n",
              "  <script>\n",
              "    async function quickchart(key) {\n",
              "      const quickchartButtonEl =\n",
              "        document.querySelector('#' + key + ' button');\n",
              "      quickchartButtonEl.disabled = true;  // To prevent multiple clicks.\n",
              "      quickchartButtonEl.classList.add('colab-df-spinner');\n",
              "      try {\n",
              "        const charts = await google.colab.kernel.invokeFunction(\n",
              "            'suggestCharts', [key], {});\n",
              "      } catch (error) {\n",
              "        console.error('Error during call to suggestCharts:', error);\n",
              "      }\n",
              "      quickchartButtonEl.classList.remove('colab-df-spinner');\n",
              "      quickchartButtonEl.classList.add('colab-df-quickchart-complete');\n",
              "    }\n",
              "    (() => {\n",
              "      let quickchartButtonEl =\n",
              "        document.querySelector('#df-5ae4a0ea-5633-40b3-8876-bf2e4122964f button');\n",
              "      quickchartButtonEl.style.display =\n",
              "        google.colab.kernel.accessAllowed ? 'block' : 'none';\n",
              "    })();\n",
              "  </script>\n",
              "</div>\n",
              "\n",
              "    </div>\n",
              "  </div>\n"
            ],
            "application/vnd.google.colaboratory.intrinsic+json": {
              "type": "dataframe",
              "variable_name": "df_train"
            }
          },
          "metadata": {},
          "execution_count": 215
        }
      ]
    },
    {
      "cell_type": "code",
      "source": [
        "df_train.info()"
      ],
      "metadata": {
        "colab": {
          "base_uri": "https://localhost:8080/"
        },
        "id": "1prwQfQebVyd",
        "outputId": "aee033f8-954f-4ca8-d00f-ce73adda0570"
      },
      "execution_count": null,
      "outputs": [
        {
          "output_type": "stream",
          "name": "stdout",
          "text": [
            "<class 'pandas.core.frame.DataFrame'>\n",
            "Index: 647734 entries, 1651 to 1334604\n",
            "Columns: 182 entries, ID_NEW to SCORE_11_15\n",
            "dtypes: float64(174), int64(7), object(1)\n",
            "memory usage: 904.4+ MB\n"
          ]
        }
      ]
    },
    {
      "cell_type": "code",
      "source": [
        "df_train.rename(str.strip, axis=1, inplace=True)\n",
        "df_test.rename(str.strip, axis=1, inplace=True)\n",
        "df_train['c_date'] = df_train['с_date']\n",
        "df_test['c_date'] = df_test['с_date']\n",
        "df_train.drop('с_date', axis=1, inplace=True)\n",
        "df_test.drop('с_date', axis=1, inplace=True)"
      ],
      "metadata": {
        "id": "PuQVp7feShnp"
      },
      "execution_count": null,
      "outputs": []
    },
    {
      "cell_type": "code",
      "source": [
        "df_train.drop_duplicates()"
      ],
      "metadata": {
        "colab": {
          "base_uri": "https://localhost:8080/",
          "height": 617
        },
        "collapsed": true,
        "id": "DdJhkMiLiL7x",
        "outputId": "c07fa325-4633-451b-9667-d3d0b04d4c27"
      },
      "execution_count": null,
      "outputs": [
        {
          "output_type": "execute_result",
          "data": {
            "text/plain": [
              "          ID_NEW  Score_p  Score_bm  Score_ae  Score_vy  Score_vt  Score_r  \\\n",
              "1651        1652    16651       6.0         2      1993         4        7   \n",
              "1748        1749    16551       2.0         2      2017         4       10   \n",
              "3808        3809    16651       5.0         1      1993         4        7   \n",
              "10092      10093     2920      13.0         4      2014         4       19   \n",
              "15603      15604     1027      13.0         4      2014        10       12   \n",
              "...          ...      ...       ...       ...       ...       ...      ...   \n",
              "1334570  1334571     9712       7.0         2      2018         4       16   \n",
              "1334573  1334574     1044      13.0         4      2014        10       12   \n",
              "1334584  1334585    19113       8.0         4      2018         4       16   \n",
              "1334596  1334597     8510      13.0         4      2012         4       15   \n",
              "1334604  1334605     5462       4.0         4      1990         4        9   \n",
              "\n",
              "         Score_bcb      Score_ow  Score_ow_sh  ...  SCORE_6_9  SCORE_7_4  \\\n",
              "1651             1  1.110100e+08       1110.0  ...        NaN        NaN   \n",
              "1748             0  1.556391e+09       1556.0  ...        NaN        NaN   \n",
              "3808             1  1.110100e+08       1110.0  ...        NaN        NaN   \n",
              "10092            1  5.110111e+08       5110.0  ...        NaN        NaN   \n",
              "15603            0  4.352301e+09       4352.0  ...        9.0        NaN   \n",
              "...            ...           ...          ...  ...        ...        ...   \n",
              "1334570          1  7.113100e+09       7113.0  ...        8.0        6.0   \n",
              "1334573          0  4.352301e+08       4352.0  ...        1.0        NaN   \n",
              "1334584          1  7.112100e+09       7112.0  ...       10.0        NaN   \n",
              "1334596          1  7.514100e+09       7514.0  ...       10.0       10.0   \n",
              "1334604          1  3.110100e+09       3110.0  ...        1.0        NaN   \n",
              "\n",
              "         SCORE_7_5  SCORE_7_6  SCORE_7_7  SCORE_7_8  SCORE_7_9  SCORE_9_25  \\\n",
              "1651           NaN        NaN        NaN        NaN        NaN         NaN   \n",
              "1748           NaN        NaN        NaN        NaN        NaN         NaN   \n",
              "3808           NaN        NaN        NaN        NaN        NaN         NaN   \n",
              "10092          NaN        NaN        NaN        NaN        NaN         NaN   \n",
              "15603          NaN        NaN        NaN        NaN        NaN         2.0   \n",
              "...            ...        ...        ...        ...        ...         ...   \n",
              "1334570        7.0        7.0        9.0       10.0       10.0        10.0   \n",
              "1334573        NaN        NaN        NaN        NaN        NaN         4.0   \n",
              "1334584        NaN        NaN        NaN        NaN        NaN         9.0   \n",
              "1334596       10.0       10.0       10.0       10.0       10.0         7.0   \n",
              "1334604        NaN        NaN        NaN        NaN        NaN         6.0   \n",
              "\n",
              "         SCORE_11_15      c_date  \n",
              "1651             NaN  2021-04-13  \n",
              "1748             NaN  2021-04-08  \n",
              "3808             NaN  2021-04-13  \n",
              "10092            NaN  2021-04-09  \n",
              "15603            0.0  2020-07-30  \n",
              "...              ...         ...  \n",
              "1334570          0.0  2021-01-20  \n",
              "1334573          0.0  2020-07-31  \n",
              "1334584          0.0  2021-01-29  \n",
              "1334596          0.0  2021-01-18  \n",
              "1334604          0.0  2021-01-31  \n",
              "\n",
              "[647734 rows x 182 columns]"
            ],
            "text/html": [
              "\n",
              "  <div id=\"df-58cbcb7d-33c3-448c-83ff-ee823ed0346c\" class=\"colab-df-container\">\n",
              "    <div>\n",
              "<style scoped>\n",
              "    .dataframe tbody tr th:only-of-type {\n",
              "        vertical-align: middle;\n",
              "    }\n",
              "\n",
              "    .dataframe tbody tr th {\n",
              "        vertical-align: top;\n",
              "    }\n",
              "\n",
              "    .dataframe thead th {\n",
              "        text-align: right;\n",
              "    }\n",
              "</style>\n",
              "<table border=\"1\" class=\"dataframe\">\n",
              "  <thead>\n",
              "    <tr style=\"text-align: right;\">\n",
              "      <th></th>\n",
              "      <th>ID_NEW</th>\n",
              "      <th>Score_p</th>\n",
              "      <th>Score_bm</th>\n",
              "      <th>Score_ae</th>\n",
              "      <th>Score_vy</th>\n",
              "      <th>Score_vt</th>\n",
              "      <th>Score_r</th>\n",
              "      <th>Score_bcb</th>\n",
              "      <th>Score_ow</th>\n",
              "      <th>Score_ow_sh</th>\n",
              "      <th>...</th>\n",
              "      <th>SCORE_6_9</th>\n",
              "      <th>SCORE_7_4</th>\n",
              "      <th>SCORE_7_5</th>\n",
              "      <th>SCORE_7_6</th>\n",
              "      <th>SCORE_7_7</th>\n",
              "      <th>SCORE_7_8</th>\n",
              "      <th>SCORE_7_9</th>\n",
              "      <th>SCORE_9_25</th>\n",
              "      <th>SCORE_11_15</th>\n",
              "      <th>c_date</th>\n",
              "    </tr>\n",
              "  </thead>\n",
              "  <tbody>\n",
              "    <tr>\n",
              "      <th>1651</th>\n",
              "      <td>1652</td>\n",
              "      <td>16651</td>\n",
              "      <td>6.0</td>\n",
              "      <td>2</td>\n",
              "      <td>1993</td>\n",
              "      <td>4</td>\n",
              "      <td>7</td>\n",
              "      <td>1</td>\n",
              "      <td>1.110100e+08</td>\n",
              "      <td>1110.0</td>\n",
              "      <td>...</td>\n",
              "      <td>NaN</td>\n",
              "      <td>NaN</td>\n",
              "      <td>NaN</td>\n",
              "      <td>NaN</td>\n",
              "      <td>NaN</td>\n",
              "      <td>NaN</td>\n",
              "      <td>NaN</td>\n",
              "      <td>NaN</td>\n",
              "      <td>NaN</td>\n",
              "      <td>2021-04-13</td>\n",
              "    </tr>\n",
              "    <tr>\n",
              "      <th>1748</th>\n",
              "      <td>1749</td>\n",
              "      <td>16551</td>\n",
              "      <td>2.0</td>\n",
              "      <td>2</td>\n",
              "      <td>2017</td>\n",
              "      <td>4</td>\n",
              "      <td>10</td>\n",
              "      <td>0</td>\n",
              "      <td>1.556391e+09</td>\n",
              "      <td>1556.0</td>\n",
              "      <td>...</td>\n",
              "      <td>NaN</td>\n",
              "      <td>NaN</td>\n",
              "      <td>NaN</td>\n",
              "      <td>NaN</td>\n",
              "      <td>NaN</td>\n",
              "      <td>NaN</td>\n",
              "      <td>NaN</td>\n",
              "      <td>NaN</td>\n",
              "      <td>NaN</td>\n",
              "      <td>2021-04-08</td>\n",
              "    </tr>\n",
              "    <tr>\n",
              "      <th>3808</th>\n",
              "      <td>3809</td>\n",
              "      <td>16651</td>\n",
              "      <td>5.0</td>\n",
              "      <td>1</td>\n",
              "      <td>1993</td>\n",
              "      <td>4</td>\n",
              "      <td>7</td>\n",
              "      <td>1</td>\n",
              "      <td>1.110100e+08</td>\n",
              "      <td>1110.0</td>\n",
              "      <td>...</td>\n",
              "      <td>NaN</td>\n",
              "      <td>NaN</td>\n",
              "      <td>NaN</td>\n",
              "      <td>NaN</td>\n",
              "      <td>NaN</td>\n",
              "      <td>NaN</td>\n",
              "      <td>NaN</td>\n",
              "      <td>NaN</td>\n",
              "      <td>NaN</td>\n",
              "      <td>2021-04-13</td>\n",
              "    </tr>\n",
              "    <tr>\n",
              "      <th>10092</th>\n",
              "      <td>10093</td>\n",
              "      <td>2920</td>\n",
              "      <td>13.0</td>\n",
              "      <td>4</td>\n",
              "      <td>2014</td>\n",
              "      <td>4</td>\n",
              "      <td>19</td>\n",
              "      <td>1</td>\n",
              "      <td>5.110111e+08</td>\n",
              "      <td>5110.0</td>\n",
              "      <td>...</td>\n",
              "      <td>NaN</td>\n",
              "      <td>NaN</td>\n",
              "      <td>NaN</td>\n",
              "      <td>NaN</td>\n",
              "      <td>NaN</td>\n",
              "      <td>NaN</td>\n",
              "      <td>NaN</td>\n",
              "      <td>NaN</td>\n",
              "      <td>NaN</td>\n",
              "      <td>2021-04-09</td>\n",
              "    </tr>\n",
              "    <tr>\n",
              "      <th>15603</th>\n",
              "      <td>15604</td>\n",
              "      <td>1027</td>\n",
              "      <td>13.0</td>\n",
              "      <td>4</td>\n",
              "      <td>2014</td>\n",
              "      <td>10</td>\n",
              "      <td>12</td>\n",
              "      <td>0</td>\n",
              "      <td>4.352301e+09</td>\n",
              "      <td>4352.0</td>\n",
              "      <td>...</td>\n",
              "      <td>9.0</td>\n",
              "      <td>NaN</td>\n",
              "      <td>NaN</td>\n",
              "      <td>NaN</td>\n",
              "      <td>NaN</td>\n",
              "      <td>NaN</td>\n",
              "      <td>NaN</td>\n",
              "      <td>2.0</td>\n",
              "      <td>0.0</td>\n",
              "      <td>2020-07-30</td>\n",
              "    </tr>\n",
              "    <tr>\n",
              "      <th>...</th>\n",
              "      <td>...</td>\n",
              "      <td>...</td>\n",
              "      <td>...</td>\n",
              "      <td>...</td>\n",
              "      <td>...</td>\n",
              "      <td>...</td>\n",
              "      <td>...</td>\n",
              "      <td>...</td>\n",
              "      <td>...</td>\n",
              "      <td>...</td>\n",
              "      <td>...</td>\n",
              "      <td>...</td>\n",
              "      <td>...</td>\n",
              "      <td>...</td>\n",
              "      <td>...</td>\n",
              "      <td>...</td>\n",
              "      <td>...</td>\n",
              "      <td>...</td>\n",
              "      <td>...</td>\n",
              "      <td>...</td>\n",
              "      <td>...</td>\n",
              "    </tr>\n",
              "    <tr>\n",
              "      <th>1334570</th>\n",
              "      <td>1334571</td>\n",
              "      <td>9712</td>\n",
              "      <td>7.0</td>\n",
              "      <td>2</td>\n",
              "      <td>2018</td>\n",
              "      <td>4</td>\n",
              "      <td>16</td>\n",
              "      <td>1</td>\n",
              "      <td>7.113100e+09</td>\n",
              "      <td>7113.0</td>\n",
              "      <td>...</td>\n",
              "      <td>8.0</td>\n",
              "      <td>6.0</td>\n",
              "      <td>7.0</td>\n",
              "      <td>7.0</td>\n",
              "      <td>9.0</td>\n",
              "      <td>10.0</td>\n",
              "      <td>10.0</td>\n",
              "      <td>10.0</td>\n",
              "      <td>0.0</td>\n",
              "      <td>2021-01-20</td>\n",
              "    </tr>\n",
              "    <tr>\n",
              "      <th>1334573</th>\n",
              "      <td>1334574</td>\n",
              "      <td>1044</td>\n",
              "      <td>13.0</td>\n",
              "      <td>4</td>\n",
              "      <td>2014</td>\n",
              "      <td>10</td>\n",
              "      <td>12</td>\n",
              "      <td>0</td>\n",
              "      <td>4.352301e+08</td>\n",
              "      <td>4352.0</td>\n",
              "      <td>...</td>\n",
              "      <td>1.0</td>\n",
              "      <td>NaN</td>\n",
              "      <td>NaN</td>\n",
              "      <td>NaN</td>\n",
              "      <td>NaN</td>\n",
              "      <td>NaN</td>\n",
              "      <td>NaN</td>\n",
              "      <td>4.0</td>\n",
              "      <td>0.0</td>\n",
              "      <td>2020-07-31</td>\n",
              "    </tr>\n",
              "    <tr>\n",
              "      <th>1334584</th>\n",
              "      <td>1334585</td>\n",
              "      <td>19113</td>\n",
              "      <td>8.0</td>\n",
              "      <td>4</td>\n",
              "      <td>2018</td>\n",
              "      <td>4</td>\n",
              "      <td>16</td>\n",
              "      <td>1</td>\n",
              "      <td>7.112100e+09</td>\n",
              "      <td>7112.0</td>\n",
              "      <td>...</td>\n",
              "      <td>10.0</td>\n",
              "      <td>NaN</td>\n",
              "      <td>NaN</td>\n",
              "      <td>NaN</td>\n",
              "      <td>NaN</td>\n",
              "      <td>NaN</td>\n",
              "      <td>NaN</td>\n",
              "      <td>9.0</td>\n",
              "      <td>0.0</td>\n",
              "      <td>2021-01-29</td>\n",
              "    </tr>\n",
              "    <tr>\n",
              "      <th>1334596</th>\n",
              "      <td>1334597</td>\n",
              "      <td>8510</td>\n",
              "      <td>13.0</td>\n",
              "      <td>4</td>\n",
              "      <td>2012</td>\n",
              "      <td>4</td>\n",
              "      <td>15</td>\n",
              "      <td>1</td>\n",
              "      <td>7.514100e+09</td>\n",
              "      <td>7514.0</td>\n",
              "      <td>...</td>\n",
              "      <td>10.0</td>\n",
              "      <td>10.0</td>\n",
              "      <td>10.0</td>\n",
              "      <td>10.0</td>\n",
              "      <td>10.0</td>\n",
              "      <td>10.0</td>\n",
              "      <td>10.0</td>\n",
              "      <td>7.0</td>\n",
              "      <td>0.0</td>\n",
              "      <td>2021-01-18</td>\n",
              "    </tr>\n",
              "    <tr>\n",
              "      <th>1334604</th>\n",
              "      <td>1334605</td>\n",
              "      <td>5462</td>\n",
              "      <td>4.0</td>\n",
              "      <td>4</td>\n",
              "      <td>1990</td>\n",
              "      <td>4</td>\n",
              "      <td>9</td>\n",
              "      <td>1</td>\n",
              "      <td>3.110100e+09</td>\n",
              "      <td>3110.0</td>\n",
              "      <td>...</td>\n",
              "      <td>1.0</td>\n",
              "      <td>NaN</td>\n",
              "      <td>NaN</td>\n",
              "      <td>NaN</td>\n",
              "      <td>NaN</td>\n",
              "      <td>NaN</td>\n",
              "      <td>NaN</td>\n",
              "      <td>6.0</td>\n",
              "      <td>0.0</td>\n",
              "      <td>2021-01-31</td>\n",
              "    </tr>\n",
              "  </tbody>\n",
              "</table>\n",
              "<p>647734 rows × 182 columns</p>\n",
              "</div>\n",
              "    <div class=\"colab-df-buttons\">\n",
              "\n",
              "  <div class=\"colab-df-container\">\n",
              "    <button class=\"colab-df-convert\" onclick=\"convertToInteractive('df-58cbcb7d-33c3-448c-83ff-ee823ed0346c')\"\n",
              "            title=\"Convert this dataframe to an interactive table.\"\n",
              "            style=\"display:none;\">\n",
              "\n",
              "  <svg xmlns=\"http://www.w3.org/2000/svg\" height=\"24px\" viewBox=\"0 -960 960 960\">\n",
              "    <path d=\"M120-120v-720h720v720H120Zm60-500h600v-160H180v160Zm220 220h160v-160H400v160Zm0 220h160v-160H400v160ZM180-400h160v-160H180v160Zm440 0h160v-160H620v160ZM180-180h160v-160H180v160Zm440 0h160v-160H620v160Z\"/>\n",
              "  </svg>\n",
              "    </button>\n",
              "\n",
              "  <style>\n",
              "    .colab-df-container {\n",
              "      display:flex;\n",
              "      gap: 12px;\n",
              "    }\n",
              "\n",
              "    .colab-df-convert {\n",
              "      background-color: #E8F0FE;\n",
              "      border: none;\n",
              "      border-radius: 50%;\n",
              "      cursor: pointer;\n",
              "      display: none;\n",
              "      fill: #1967D2;\n",
              "      height: 32px;\n",
              "      padding: 0 0 0 0;\n",
              "      width: 32px;\n",
              "    }\n",
              "\n",
              "    .colab-df-convert:hover {\n",
              "      background-color: #E2EBFA;\n",
              "      box-shadow: 0px 1px 2px rgba(60, 64, 67, 0.3), 0px 1px 3px 1px rgba(60, 64, 67, 0.15);\n",
              "      fill: #174EA6;\n",
              "    }\n",
              "\n",
              "    .colab-df-buttons div {\n",
              "      margin-bottom: 4px;\n",
              "    }\n",
              "\n",
              "    [theme=dark] .colab-df-convert {\n",
              "      background-color: #3B4455;\n",
              "      fill: #D2E3FC;\n",
              "    }\n",
              "\n",
              "    [theme=dark] .colab-df-convert:hover {\n",
              "      background-color: #434B5C;\n",
              "      box-shadow: 0px 1px 3px 1px rgba(0, 0, 0, 0.15);\n",
              "      filter: drop-shadow(0px 1px 2px rgba(0, 0, 0, 0.3));\n",
              "      fill: #FFFFFF;\n",
              "    }\n",
              "  </style>\n",
              "\n",
              "    <script>\n",
              "      const buttonEl =\n",
              "        document.querySelector('#df-58cbcb7d-33c3-448c-83ff-ee823ed0346c button.colab-df-convert');\n",
              "      buttonEl.style.display =\n",
              "        google.colab.kernel.accessAllowed ? 'block' : 'none';\n",
              "\n",
              "      async function convertToInteractive(key) {\n",
              "        const element = document.querySelector('#df-58cbcb7d-33c3-448c-83ff-ee823ed0346c');\n",
              "        const dataTable =\n",
              "          await google.colab.kernel.invokeFunction('convertToInteractive',\n",
              "                                                    [key], {});\n",
              "        if (!dataTable) return;\n",
              "\n",
              "        const docLinkHtml = 'Like what you see? Visit the ' +\n",
              "          '<a target=\"_blank\" href=https://colab.research.google.com/notebooks/data_table.ipynb>data table notebook</a>'\n",
              "          + ' to learn more about interactive tables.';\n",
              "        element.innerHTML = '';\n",
              "        dataTable['output_type'] = 'display_data';\n",
              "        await google.colab.output.renderOutput(dataTable, element);\n",
              "        const docLink = document.createElement('div');\n",
              "        docLink.innerHTML = docLinkHtml;\n",
              "        element.appendChild(docLink);\n",
              "      }\n",
              "    </script>\n",
              "  </div>\n",
              "\n",
              "\n",
              "<div id=\"df-d286b34a-7766-4ac7-ae6c-a4deefafa668\">\n",
              "  <button class=\"colab-df-quickchart\" onclick=\"quickchart('df-d286b34a-7766-4ac7-ae6c-a4deefafa668')\"\n",
              "            title=\"Suggest charts\"\n",
              "            style=\"display:none;\">\n",
              "\n",
              "<svg xmlns=\"http://www.w3.org/2000/svg\" height=\"24px\"viewBox=\"0 0 24 24\"\n",
              "     width=\"24px\">\n",
              "    <g>\n",
              "        <path d=\"M19 3H5c-1.1 0-2 .9-2 2v14c0 1.1.9 2 2 2h14c1.1 0 2-.9 2-2V5c0-1.1-.9-2-2-2zM9 17H7v-7h2v7zm4 0h-2V7h2v10zm4 0h-2v-4h2v4z\"/>\n",
              "    </g>\n",
              "</svg>\n",
              "  </button>\n",
              "\n",
              "<style>\n",
              "  .colab-df-quickchart {\n",
              "      --bg-color: #E8F0FE;\n",
              "      --fill-color: #1967D2;\n",
              "      --hover-bg-color: #E2EBFA;\n",
              "      --hover-fill-color: #174EA6;\n",
              "      --disabled-fill-color: #AAA;\n",
              "      --disabled-bg-color: #DDD;\n",
              "  }\n",
              "\n",
              "  [theme=dark] .colab-df-quickchart {\n",
              "      --bg-color: #3B4455;\n",
              "      --fill-color: #D2E3FC;\n",
              "      --hover-bg-color: #434B5C;\n",
              "      --hover-fill-color: #FFFFFF;\n",
              "      --disabled-bg-color: #3B4455;\n",
              "      --disabled-fill-color: #666;\n",
              "  }\n",
              "\n",
              "  .colab-df-quickchart {\n",
              "    background-color: var(--bg-color);\n",
              "    border: none;\n",
              "    border-radius: 50%;\n",
              "    cursor: pointer;\n",
              "    display: none;\n",
              "    fill: var(--fill-color);\n",
              "    height: 32px;\n",
              "    padding: 0;\n",
              "    width: 32px;\n",
              "  }\n",
              "\n",
              "  .colab-df-quickchart:hover {\n",
              "    background-color: var(--hover-bg-color);\n",
              "    box-shadow: 0 1px 2px rgba(60, 64, 67, 0.3), 0 1px 3px 1px rgba(60, 64, 67, 0.15);\n",
              "    fill: var(--button-hover-fill-color);\n",
              "  }\n",
              "\n",
              "  .colab-df-quickchart-complete:disabled,\n",
              "  .colab-df-quickchart-complete:disabled:hover {\n",
              "    background-color: var(--disabled-bg-color);\n",
              "    fill: var(--disabled-fill-color);\n",
              "    box-shadow: none;\n",
              "  }\n",
              "\n",
              "  .colab-df-spinner {\n",
              "    border: 2px solid var(--fill-color);\n",
              "    border-color: transparent;\n",
              "    border-bottom-color: var(--fill-color);\n",
              "    animation:\n",
              "      spin 1s steps(1) infinite;\n",
              "  }\n",
              "\n",
              "  @keyframes spin {\n",
              "    0% {\n",
              "      border-color: transparent;\n",
              "      border-bottom-color: var(--fill-color);\n",
              "      border-left-color: var(--fill-color);\n",
              "    }\n",
              "    20% {\n",
              "      border-color: transparent;\n",
              "      border-left-color: var(--fill-color);\n",
              "      border-top-color: var(--fill-color);\n",
              "    }\n",
              "    30% {\n",
              "      border-color: transparent;\n",
              "      border-left-color: var(--fill-color);\n",
              "      border-top-color: var(--fill-color);\n",
              "      border-right-color: var(--fill-color);\n",
              "    }\n",
              "    40% {\n",
              "      border-color: transparent;\n",
              "      border-right-color: var(--fill-color);\n",
              "      border-top-color: var(--fill-color);\n",
              "    }\n",
              "    60% {\n",
              "      border-color: transparent;\n",
              "      border-right-color: var(--fill-color);\n",
              "    }\n",
              "    80% {\n",
              "      border-color: transparent;\n",
              "      border-right-color: var(--fill-color);\n",
              "      border-bottom-color: var(--fill-color);\n",
              "    }\n",
              "    90% {\n",
              "      border-color: transparent;\n",
              "      border-bottom-color: var(--fill-color);\n",
              "    }\n",
              "  }\n",
              "</style>\n",
              "\n",
              "  <script>\n",
              "    async function quickchart(key) {\n",
              "      const quickchartButtonEl =\n",
              "        document.querySelector('#' + key + ' button');\n",
              "      quickchartButtonEl.disabled = true;  // To prevent multiple clicks.\n",
              "      quickchartButtonEl.classList.add('colab-df-spinner');\n",
              "      try {\n",
              "        const charts = await google.colab.kernel.invokeFunction(\n",
              "            'suggestCharts', [key], {});\n",
              "      } catch (error) {\n",
              "        console.error('Error during call to suggestCharts:', error);\n",
              "      }\n",
              "      quickchartButtonEl.classList.remove('colab-df-spinner');\n",
              "      quickchartButtonEl.classList.add('colab-df-quickchart-complete');\n",
              "    }\n",
              "    (() => {\n",
              "      let quickchartButtonEl =\n",
              "        document.querySelector('#df-d286b34a-7766-4ac7-ae6c-a4deefafa668 button');\n",
              "      quickchartButtonEl.style.display =\n",
              "        google.colab.kernel.accessAllowed ? 'block' : 'none';\n",
              "    })();\n",
              "  </script>\n",
              "</div>\n",
              "\n",
              "    </div>\n",
              "  </div>\n"
            ],
            "application/vnd.google.colaboratory.intrinsic+json": {
              "type": "dataframe"
            }
          },
          "metadata": {},
          "execution_count": 218
        }
      ]
    },
    {
      "cell_type": "code",
      "source": [
        "df_cols = df_train.columns\n",
        "print(df_cols)"
      ],
      "metadata": {
        "colab": {
          "base_uri": "https://localhost:8080/"
        },
        "id": "sfylylY8EPaY",
        "outputId": "ddb7ce80-b7e5-4525-fcbe-f6e4e7abbda4"
      },
      "execution_count": null,
      "outputs": [
        {
          "output_type": "stream",
          "name": "stdout",
          "text": [
            "Index(['ID_NEW', 'Score_p', 'Score_bm', 'Score_ae', 'Score_vy', 'Score_vt',\n",
            "       'Score_r', 'Score_bcb', 'Score_ow', 'Score_ow_sh',\n",
            "       ...\n",
            "       'SCORE_6_9', 'SCORE_7_4', 'SCORE_7_5', 'SCORE_7_6', 'SCORE_7_7',\n",
            "       'SCORE_7_8', 'SCORE_7_9', 'SCORE_9_25', 'SCORE_11_15', 'c_date'],\n",
            "      dtype='object', length=182)\n"
          ]
        }
      ]
    },
    {
      "cell_type": "code",
      "source": [
        "for col in df_cols:\n",
        "  print(col, end=\"', '\")"
      ],
      "metadata": {
        "colab": {
          "base_uri": "https://localhost:8080/"
        },
        "id": "Hr6apXxsEdtt",
        "outputId": "493fd91d-f341-4625-cade-8b559ea2a3f3"
      },
      "execution_count": null,
      "outputs": [
        {
          "output_type": "stream",
          "name": "stdout",
          "text": [
            "ID_NEW', 'Score_p', 'Score_bm', 'Score_ae', 'Score_vy', 'Score_vt', 'Score_r', 'Score_bcb', 'Score_ow', 'Score_ow_sh', 'target_1', 'target_2', 'SCORE_1_1', 'SCORE_1_2', 'SCORE_1_3', 'SCORE_1_4', 'SCORE_1_5', 'SCORE_1_6', 'SCORE_1_7', 'SCORE_1_8', 'SCORE_1_9', 'SCORE_1_10', 'SCORE_2_1', 'SCORE_2_2', 'SCORE_2_3', 'SCORE_3_1', 'SCORE_3_2', 'SCORE_3_3', 'SCORE_3_4', 'SCORE_3_5', 'SCORE_3_6', 'SCORE_3_7', 'SCORE_3_8', 'SCORE_3_9', 'SCORE_3_10', 'SCORE_4_1', 'SCORE_4_2', 'SCORE_4_3', 'SCORE_4_4', 'SCORE_4_5', 'SCORE_4_6', 'SCORE_4_7', 'SCORE_4_8', 'SCORE_4_9', 'SCORE_4_10', 'SCORE_4_11', 'SCORE_4_12', 'SCORE_4_13', 'SCORE_4_14', 'SCORE_4_15', 'SCORE_4_16', 'SCORE_4_17', 'SCORE_4_18', 'SCORE_4_19', 'SCORE_4_20', 'SCORE_4_21', 'SCORE_4_22', 'SCORE_4_23', 'SCORE_4_24', 'SCORE_4_25', 'SCORE_4_26', 'SCORE_4_27', 'SCORE_4_28', 'SCORE_4_29', 'SCORE_4_30', 'SCORE_5_1', 'SCORE_5_2', 'SCORE_5_3', 'SCORE_5_4', 'SCORE_5_5', 'SCORE_5_6', 'SCORE_5_7', 'SCORE_5_8', 'SCORE_5_9', 'SCORE_5_10', 'SCORE_5_11', 'SCORE_5_12', 'SCORE_6_1', 'SCORE_6_2', 'SCORE_6_3', 'SCORE_7_1', 'SCORE_7_2', 'SCORE_7_3', 'SCORE_8_1', 'SCORE_8_2', 'SCORE_8_3', 'SCORE_9_1', 'SCORE_9_2', 'SCORE_9_3', 'SCORE_9_4', 'SCORE_9_5', 'SCORE_9_6', 'SCORE_9_7', 'SCORE_9_8', 'SCORE_9_9', 'SCORE_9_10', 'SCORE_9_11', 'SCORE_9_12', 'SCORE_9_13', 'SCORE_9_14', 'SCORE_9_15', 'SCORE_9_16', 'SCORE_9_17', 'SCORE_9_18', 'SCORE_9_19', 'SCORE_9_20', 'SCORE_9_21', 'SCORE_9_22', 'SCORE_9_23', 'SCORE_9_24', 'SCORE_10_1', 'SCORE_10_2', 'SCORE_10_3', 'SCORE_10_4', 'SCORE_10_5', 'SCORE_10_6', 'SCORE_11_1', 'SCORE_11_2', 'SCORE_11_3', 'SCORE_11_4', 'SCORE_11_5', 'SCORE_11_6', 'SCORE_11_7', 'SCORE_11_8', 'SCORE_11_9', 'SCORE_11_10', 'SCORE_11_11', 'SCORE_11_12', 'SCORE_11_13', 'SCORE_11_14', 'SCORE_1_11', 'SCORE_1_12', 'SCORE_1_13', 'SCORE_1_14', 'SCORE_1_15', 'SCORE_1_16', 'SCORE_1_17', 'SCORE_1_18', 'SCORE_1_19', 'SCORE_1_20', 'SCORE_1_21', 'SCORE_1_10_1', 'SCORE_1_22', 'SCORE_1_23', 'SCORE_1_24', 'SCORE_1_25', 'SCORE_1_26', 'SCORE_2_4', 'SCORE_2_5', 'SCORE_3_1_1', 'SCORE_3_2_1', 'SCORE_3_3_1', 'SCORE_3_4_1', 'SCORE_3_5_1', 'SCORE_3_6_1', 'SCORE_3_7_1', 'SCORE_3_8_1', 'SCORE_3_9_1', 'SCORE_3_10_1', 'SCORE_5_13', 'SCORE_5_14', 'SCORE_5_15', 'SCORE_5_16', 'SCORE_5_17', 'SCORE_5_18', 'SCORE_5_19', 'SCORE_5_20', 'SCORE_6_4', 'SCORE_6_5', 'SCORE_6_6', 'SCORE_6_7', 'SCORE_6_8', 'SCORE_6_9', 'SCORE_7_4', 'SCORE_7_5', 'SCORE_7_6', 'SCORE_7_7', 'SCORE_7_8', 'SCORE_7_9', 'SCORE_9_25', 'SCORE_11_15', 'c_date', '"
          ]
        }
      ]
    },
    {
      "cell_type": "code",
      "source": [
        "dict_col = {}\n",
        "dict_size = {\n",
        "1:26,\n",
        "2:5,\n",
        "3:10,\n",
        "4:30,\n",
        "5:20,\n",
        "6:9,\n",
        "7:9,\n",
        "8:3,\n",
        "9:25,\n",
        "10:6,\n",
        "11:15}\n",
        "\n",
        "dict_col[0] = ['ID_NEW', 'c_date', 'Score_p', 'Score_bm', 'Score_ae', 'Score_vy', 'Score_vt', 'Score_r', 'Score_bcb', 'Score_ow', 'Score_ow_sh']\n",
        "dict_col[100] = ['target_1', 'target_2']\n",
        "for j in range(1, 12):\n",
        "  dict_col[j] = ['SCORE_' + str(j) + '_' + str(i) for i in range(1, dict_size[j] + 1)]\n",
        "\n",
        "dict_col[1].append('SCORE_1_10_1')\n",
        "dict_col[3] = ['SCORE_' + str(3) + '_' + str(i) + '_' + '1' for i in range(1, dict_size[3] + 1)]"
      ],
      "metadata": {
        "id": "t1RBeyk9Erwk"
      },
      "execution_count": null,
      "outputs": []
    },
    {
      "cell_type": "code",
      "source": [
        "dict_col"
      ],
      "metadata": {
        "colab": {
          "base_uri": "https://localhost:8080/"
        },
        "collapsed": true,
        "id": "FnGziiP0Jt4k",
        "outputId": "b48c25ab-037b-4233-ba49-5fdb1c71f4c6"
      },
      "execution_count": null,
      "outputs": [
        {
          "output_type": "execute_result",
          "data": {
            "text/plain": [
              "{0: ['ID_NEW',\n",
              "  'c_date',\n",
              "  'Score_p',\n",
              "  'Score_bm',\n",
              "  'Score_ae',\n",
              "  'Score_vy',\n",
              "  'Score_vt',\n",
              "  'Score_r',\n",
              "  'Score_bcb',\n",
              "  'Score_ow',\n",
              "  'Score_ow_sh'],\n",
              " 100: ['target_1', 'target_2'],\n",
              " 1: ['SCORE_1_1',\n",
              "  'SCORE_1_2',\n",
              "  'SCORE_1_3',\n",
              "  'SCORE_1_4',\n",
              "  'SCORE_1_5',\n",
              "  'SCORE_1_6',\n",
              "  'SCORE_1_7',\n",
              "  'SCORE_1_8',\n",
              "  'SCORE_1_9',\n",
              "  'SCORE_1_10',\n",
              "  'SCORE_1_11',\n",
              "  'SCORE_1_12',\n",
              "  'SCORE_1_13',\n",
              "  'SCORE_1_14',\n",
              "  'SCORE_1_15',\n",
              "  'SCORE_1_16',\n",
              "  'SCORE_1_17',\n",
              "  'SCORE_1_18',\n",
              "  'SCORE_1_19',\n",
              "  'SCORE_1_20',\n",
              "  'SCORE_1_21',\n",
              "  'SCORE_1_22',\n",
              "  'SCORE_1_23',\n",
              "  'SCORE_1_24',\n",
              "  'SCORE_1_25',\n",
              "  'SCORE_1_26',\n",
              "  'SCORE_1_10_1'],\n",
              " 2: ['SCORE_2_1', 'SCORE_2_2', 'SCORE_2_3', 'SCORE_2_4', 'SCORE_2_5'],\n",
              " 3: ['SCORE_3_1_1',\n",
              "  'SCORE_3_2_1',\n",
              "  'SCORE_3_3_1',\n",
              "  'SCORE_3_4_1',\n",
              "  'SCORE_3_5_1',\n",
              "  'SCORE_3_6_1',\n",
              "  'SCORE_3_7_1',\n",
              "  'SCORE_3_8_1',\n",
              "  'SCORE_3_9_1',\n",
              "  'SCORE_3_10_1'],\n",
              " 4: ['SCORE_4_1',\n",
              "  'SCORE_4_2',\n",
              "  'SCORE_4_3',\n",
              "  'SCORE_4_4',\n",
              "  'SCORE_4_5',\n",
              "  'SCORE_4_6',\n",
              "  'SCORE_4_7',\n",
              "  'SCORE_4_8',\n",
              "  'SCORE_4_9',\n",
              "  'SCORE_4_10',\n",
              "  'SCORE_4_11',\n",
              "  'SCORE_4_12',\n",
              "  'SCORE_4_13',\n",
              "  'SCORE_4_14',\n",
              "  'SCORE_4_15',\n",
              "  'SCORE_4_16',\n",
              "  'SCORE_4_17',\n",
              "  'SCORE_4_18',\n",
              "  'SCORE_4_19',\n",
              "  'SCORE_4_20',\n",
              "  'SCORE_4_21',\n",
              "  'SCORE_4_22',\n",
              "  'SCORE_4_23',\n",
              "  'SCORE_4_24',\n",
              "  'SCORE_4_25',\n",
              "  'SCORE_4_26',\n",
              "  'SCORE_4_27',\n",
              "  'SCORE_4_28',\n",
              "  'SCORE_4_29',\n",
              "  'SCORE_4_30'],\n",
              " 5: ['SCORE_5_1',\n",
              "  'SCORE_5_2',\n",
              "  'SCORE_5_3',\n",
              "  'SCORE_5_4',\n",
              "  'SCORE_5_5',\n",
              "  'SCORE_5_6',\n",
              "  'SCORE_5_7',\n",
              "  'SCORE_5_8',\n",
              "  'SCORE_5_9',\n",
              "  'SCORE_5_10',\n",
              "  'SCORE_5_11',\n",
              "  'SCORE_5_12',\n",
              "  'SCORE_5_13',\n",
              "  'SCORE_5_14',\n",
              "  'SCORE_5_15',\n",
              "  'SCORE_5_16',\n",
              "  'SCORE_5_17',\n",
              "  'SCORE_5_18',\n",
              "  'SCORE_5_19',\n",
              "  'SCORE_5_20'],\n",
              " 6: ['SCORE_6_1',\n",
              "  'SCORE_6_2',\n",
              "  'SCORE_6_3',\n",
              "  'SCORE_6_4',\n",
              "  'SCORE_6_5',\n",
              "  'SCORE_6_6',\n",
              "  'SCORE_6_7',\n",
              "  'SCORE_6_8',\n",
              "  'SCORE_6_9'],\n",
              " 7: ['SCORE_7_1',\n",
              "  'SCORE_7_2',\n",
              "  'SCORE_7_3',\n",
              "  'SCORE_7_4',\n",
              "  'SCORE_7_5',\n",
              "  'SCORE_7_6',\n",
              "  'SCORE_7_7',\n",
              "  'SCORE_7_8',\n",
              "  'SCORE_7_9'],\n",
              " 8: ['SCORE_8_1', 'SCORE_8_2', 'SCORE_8_3'],\n",
              " 9: ['SCORE_9_1',\n",
              "  'SCORE_9_2',\n",
              "  'SCORE_9_3',\n",
              "  'SCORE_9_4',\n",
              "  'SCORE_9_5',\n",
              "  'SCORE_9_6',\n",
              "  'SCORE_9_7',\n",
              "  'SCORE_9_8',\n",
              "  'SCORE_9_9',\n",
              "  'SCORE_9_10',\n",
              "  'SCORE_9_11',\n",
              "  'SCORE_9_12',\n",
              "  'SCORE_9_13',\n",
              "  'SCORE_9_14',\n",
              "  'SCORE_9_15',\n",
              "  'SCORE_9_16',\n",
              "  'SCORE_9_17',\n",
              "  'SCORE_9_18',\n",
              "  'SCORE_9_19',\n",
              "  'SCORE_9_20',\n",
              "  'SCORE_9_21',\n",
              "  'SCORE_9_22',\n",
              "  'SCORE_9_23',\n",
              "  'SCORE_9_24',\n",
              "  'SCORE_9_25'],\n",
              " 10: ['SCORE_10_1',\n",
              "  'SCORE_10_2',\n",
              "  'SCORE_10_3',\n",
              "  'SCORE_10_4',\n",
              "  'SCORE_10_5',\n",
              "  'SCORE_10_6'],\n",
              " 11: ['SCORE_11_1',\n",
              "  'SCORE_11_2',\n",
              "  'SCORE_11_3',\n",
              "  'SCORE_11_4',\n",
              "  'SCORE_11_5',\n",
              "  'SCORE_11_6',\n",
              "  'SCORE_11_7',\n",
              "  'SCORE_11_8',\n",
              "  'SCORE_11_9',\n",
              "  'SCORE_11_10',\n",
              "  'SCORE_11_11',\n",
              "  'SCORE_11_12',\n",
              "  'SCORE_11_13',\n",
              "  'SCORE_11_14',\n",
              "  'SCORE_11_15']}"
            ]
          },
          "metadata": {},
          "execution_count": 222
        }
      ]
    },
    {
      "cell_type": "markdown",
      "source": [
        "## Target variables imbalanced"
      ],
      "metadata": {
        "id": "iJvG9ha4tE89"
      }
    },
    {
      "cell_type": "code",
      "source": [
        "df_train.target_2.value_counts()\n"
      ],
      "metadata": {
        "colab": {
          "base_uri": "https://localhost:8080/"
        },
        "id": "jzc8TX2AtIdB",
        "outputId": "8c8c3582-3fd8-4001-dd08-1b1fd55a8504"
      },
      "execution_count": null,
      "outputs": [
        {
          "output_type": "execute_result",
          "data": {
            "text/plain": [
              "target_2\n",
              "0.0    643039\n",
              "1.0      4695\n",
              "Name: count, dtype: int64"
            ]
          },
          "metadata": {},
          "execution_count": 223
        }
      ]
    },
    {
      "cell_type": "code",
      "source": [
        "df_train.target_1.value_counts()"
      ],
      "metadata": {
        "colab": {
          "base_uri": "https://localhost:8080/"
        },
        "id": "AFNe4FwctaLF",
        "outputId": "17d580db-dcbc-49e8-9469-e22e85b3cfa9"
      },
      "execution_count": null,
      "outputs": [
        {
          "output_type": "execute_result",
          "data": {
            "text/plain": [
              "target_1\n",
              "0.0          643039\n",
              "1750200.0       106\n",
              "1837800.0        28\n",
              "1666800.0        15\n",
              "243669.0         12\n",
              "              ...  \n",
              "56269.0           1\n",
              "66011.0           1\n",
              "1081413.0         1\n",
              "60195.0           1\n",
              "353618.0          1\n",
              "Name: count, Length: 4319, dtype: int64"
            ]
          },
          "metadata": {},
          "execution_count": 224
        }
      ]
    },
    {
      "cell_type": "code",
      "source": [
        "df_train[df_train.target_1 > 1]['target_1'].describe()"
      ],
      "metadata": {
        "colab": {
          "base_uri": "https://localhost:8080/"
        },
        "id": "NELI_eRptgLH",
        "outputId": "5ecdbe2b-46e0-49dc-cc8a-fea9a65c6922"
      },
      "execution_count": null,
      "outputs": [
        {
          "output_type": "execute_result",
          "data": {
            "text/plain": [
              "count    4.695000e+03\n",
              "mean     6.529838e+05\n",
              "std      1.654824e+06\n",
              "min      5.000000e+03\n",
              "25%      1.594815e+05\n",
              "50%      3.282990e+05\n",
              "75%      6.659105e+05\n",
              "max      6.458520e+07\n",
              "Name: target_1, dtype: float64"
            ]
          },
          "metadata": {},
          "execution_count": 225
        }
      ]
    },
    {
      "cell_type": "code",
      "source": [
        "df_train[dict_col[0]].info()"
      ],
      "metadata": {
        "colab": {
          "base_uri": "https://localhost:8080/"
        },
        "id": "FV6R3n5ULeRc",
        "outputId": "a83cd29b-85eb-40ac-baae-e7079522b0b1"
      },
      "execution_count": null,
      "outputs": [
        {
          "output_type": "stream",
          "name": "stdout",
          "text": [
            "<class 'pandas.core.frame.DataFrame'>\n",
            "Index: 647734 entries, 1651 to 1334604\n",
            "Data columns (total 11 columns):\n",
            " #   Column       Non-Null Count   Dtype  \n",
            "---  ------       --------------   -----  \n",
            " 0   ID_NEW       647734 non-null  int64  \n",
            " 1   c_date       647734 non-null  object \n",
            " 2   Score_p      647734 non-null  int64  \n",
            " 3   Score_bm     647688 non-null  float64\n",
            " 4   Score_ae     647734 non-null  int64  \n",
            " 5   Score_vy     647734 non-null  int64  \n",
            " 6   Score_vt     647734 non-null  int64  \n",
            " 7   Score_r      647734 non-null  int64  \n",
            " 8   Score_bcb    647734 non-null  int64  \n",
            " 9   Score_ow     647730 non-null  float64\n",
            " 10  Score_ow_sh  647730 non-null  float64\n",
            "dtypes: float64(3), int64(7), object(1)\n",
            "memory usage: 59.3+ MB\n"
          ]
        }
      ]
    },
    {
      "cell_type": "markdown",
      "source": [
        "Score_bm, Score_ow, Score_ow_sh - имеют пустые значения.\n",
        "Кроме даты все значения числовые."
      ],
      "metadata": {
        "id": "f2hdQbP-NXbS"
      }
    },
    {
      "cell_type": "markdown",
      "source": [
        "### Creating features from date - \"c_date\""
      ],
      "metadata": {
        "id": "A4yqg3PhNNuS"
      }
    },
    {
      "cell_type": "code",
      "source": [
        "df_train['c_date'] = pd.to_datetime(df_train['c_date'])\n",
        "df_test['c_date'] = pd.to_datetime(df_test['c_date'])"
      ],
      "metadata": {
        "id": "qzyJNQiOVhCy"
      },
      "execution_count": null,
      "outputs": []
    },
    {
      "cell_type": "code",
      "source": [
        "df_cdate = df_train.c_date.value_counts().reset_index()\n",
        "df_cdate_sorted = df_cdate.sort_values(by='c_date')\n",
        "df_cdate_sorted"
      ],
      "metadata": {
        "colab": {
          "base_uri": "https://localhost:8080/",
          "height": 423
        },
        "id": "P9AwUzSVOMHF",
        "outputId": "aa137a30-40af-48e1-abe0-6127aad09771"
      },
      "execution_count": null,
      "outputs": [
        {
          "output_type": "execute_result",
          "data": {
            "text/plain": [
              "        c_date  count\n",
              "433 2001-01-01     24\n",
              "429 2020-01-01     99\n",
              "427 2020-01-02    124\n",
              "418 2020-01-03    162\n",
              "420 2020-01-04    159\n",
              "..         ...    ...\n",
              "25  2021-05-27   2699\n",
              "18  2021-05-28   2751\n",
              "166 2021-05-29   1832\n",
              "416 2021-05-30    198\n",
              "3   2021-05-31   3059\n",
              "\n",
              "[501 rows x 2 columns]"
            ],
            "text/html": [
              "\n",
              "  <div id=\"df-e85f004f-3f9e-475e-9652-7dca1e8cc320\" class=\"colab-df-container\">\n",
              "    <div>\n",
              "<style scoped>\n",
              "    .dataframe tbody tr th:only-of-type {\n",
              "        vertical-align: middle;\n",
              "    }\n",
              "\n",
              "    .dataframe tbody tr th {\n",
              "        vertical-align: top;\n",
              "    }\n",
              "\n",
              "    .dataframe thead th {\n",
              "        text-align: right;\n",
              "    }\n",
              "</style>\n",
              "<table border=\"1\" class=\"dataframe\">\n",
              "  <thead>\n",
              "    <tr style=\"text-align: right;\">\n",
              "      <th></th>\n",
              "      <th>c_date</th>\n",
              "      <th>count</th>\n",
              "    </tr>\n",
              "  </thead>\n",
              "  <tbody>\n",
              "    <tr>\n",
              "      <th>433</th>\n",
              "      <td>2001-01-01</td>\n",
              "      <td>24</td>\n",
              "    </tr>\n",
              "    <tr>\n",
              "      <th>429</th>\n",
              "      <td>2020-01-01</td>\n",
              "      <td>99</td>\n",
              "    </tr>\n",
              "    <tr>\n",
              "      <th>427</th>\n",
              "      <td>2020-01-02</td>\n",
              "      <td>124</td>\n",
              "    </tr>\n",
              "    <tr>\n",
              "      <th>418</th>\n",
              "      <td>2020-01-03</td>\n",
              "      <td>162</td>\n",
              "    </tr>\n",
              "    <tr>\n",
              "      <th>420</th>\n",
              "      <td>2020-01-04</td>\n",
              "      <td>159</td>\n",
              "    </tr>\n",
              "    <tr>\n",
              "      <th>...</th>\n",
              "      <td>...</td>\n",
              "      <td>...</td>\n",
              "    </tr>\n",
              "    <tr>\n",
              "      <th>25</th>\n",
              "      <td>2021-05-27</td>\n",
              "      <td>2699</td>\n",
              "    </tr>\n",
              "    <tr>\n",
              "      <th>18</th>\n",
              "      <td>2021-05-28</td>\n",
              "      <td>2751</td>\n",
              "    </tr>\n",
              "    <tr>\n",
              "      <th>166</th>\n",
              "      <td>2021-05-29</td>\n",
              "      <td>1832</td>\n",
              "    </tr>\n",
              "    <tr>\n",
              "      <th>416</th>\n",
              "      <td>2021-05-30</td>\n",
              "      <td>198</td>\n",
              "    </tr>\n",
              "    <tr>\n",
              "      <th>3</th>\n",
              "      <td>2021-05-31</td>\n",
              "      <td>3059</td>\n",
              "    </tr>\n",
              "  </tbody>\n",
              "</table>\n",
              "<p>501 rows × 2 columns</p>\n",
              "</div>\n",
              "    <div class=\"colab-df-buttons\">\n",
              "\n",
              "  <div class=\"colab-df-container\">\n",
              "    <button class=\"colab-df-convert\" onclick=\"convertToInteractive('df-e85f004f-3f9e-475e-9652-7dca1e8cc320')\"\n",
              "            title=\"Convert this dataframe to an interactive table.\"\n",
              "            style=\"display:none;\">\n",
              "\n",
              "  <svg xmlns=\"http://www.w3.org/2000/svg\" height=\"24px\" viewBox=\"0 -960 960 960\">\n",
              "    <path d=\"M120-120v-720h720v720H120Zm60-500h600v-160H180v160Zm220 220h160v-160H400v160Zm0 220h160v-160H400v160ZM180-400h160v-160H180v160Zm440 0h160v-160H620v160ZM180-180h160v-160H180v160Zm440 0h160v-160H620v160Z\"/>\n",
              "  </svg>\n",
              "    </button>\n",
              "\n",
              "  <style>\n",
              "    .colab-df-container {\n",
              "      display:flex;\n",
              "      gap: 12px;\n",
              "    }\n",
              "\n",
              "    .colab-df-convert {\n",
              "      background-color: #E8F0FE;\n",
              "      border: none;\n",
              "      border-radius: 50%;\n",
              "      cursor: pointer;\n",
              "      display: none;\n",
              "      fill: #1967D2;\n",
              "      height: 32px;\n",
              "      padding: 0 0 0 0;\n",
              "      width: 32px;\n",
              "    }\n",
              "\n",
              "    .colab-df-convert:hover {\n",
              "      background-color: #E2EBFA;\n",
              "      box-shadow: 0px 1px 2px rgba(60, 64, 67, 0.3), 0px 1px 3px 1px rgba(60, 64, 67, 0.15);\n",
              "      fill: #174EA6;\n",
              "    }\n",
              "\n",
              "    .colab-df-buttons div {\n",
              "      margin-bottom: 4px;\n",
              "    }\n",
              "\n",
              "    [theme=dark] .colab-df-convert {\n",
              "      background-color: #3B4455;\n",
              "      fill: #D2E3FC;\n",
              "    }\n",
              "\n",
              "    [theme=dark] .colab-df-convert:hover {\n",
              "      background-color: #434B5C;\n",
              "      box-shadow: 0px 1px 3px 1px rgba(0, 0, 0, 0.15);\n",
              "      filter: drop-shadow(0px 1px 2px rgba(0, 0, 0, 0.3));\n",
              "      fill: #FFFFFF;\n",
              "    }\n",
              "  </style>\n",
              "\n",
              "    <script>\n",
              "      const buttonEl =\n",
              "        document.querySelector('#df-e85f004f-3f9e-475e-9652-7dca1e8cc320 button.colab-df-convert');\n",
              "      buttonEl.style.display =\n",
              "        google.colab.kernel.accessAllowed ? 'block' : 'none';\n",
              "\n",
              "      async function convertToInteractive(key) {\n",
              "        const element = document.querySelector('#df-e85f004f-3f9e-475e-9652-7dca1e8cc320');\n",
              "        const dataTable =\n",
              "          await google.colab.kernel.invokeFunction('convertToInteractive',\n",
              "                                                    [key], {});\n",
              "        if (!dataTable) return;\n",
              "\n",
              "        const docLinkHtml = 'Like what you see? Visit the ' +\n",
              "          '<a target=\"_blank\" href=https://colab.research.google.com/notebooks/data_table.ipynb>data table notebook</a>'\n",
              "          + ' to learn more about interactive tables.';\n",
              "        element.innerHTML = '';\n",
              "        dataTable['output_type'] = 'display_data';\n",
              "        await google.colab.output.renderOutput(dataTable, element);\n",
              "        const docLink = document.createElement('div');\n",
              "        docLink.innerHTML = docLinkHtml;\n",
              "        element.appendChild(docLink);\n",
              "      }\n",
              "    </script>\n",
              "  </div>\n",
              "\n",
              "\n",
              "<div id=\"df-a26c7122-cfe9-4ce7-841e-ca1c79efbca5\">\n",
              "  <button class=\"colab-df-quickchart\" onclick=\"quickchart('df-a26c7122-cfe9-4ce7-841e-ca1c79efbca5')\"\n",
              "            title=\"Suggest charts\"\n",
              "            style=\"display:none;\">\n",
              "\n",
              "<svg xmlns=\"http://www.w3.org/2000/svg\" height=\"24px\"viewBox=\"0 0 24 24\"\n",
              "     width=\"24px\">\n",
              "    <g>\n",
              "        <path d=\"M19 3H5c-1.1 0-2 .9-2 2v14c0 1.1.9 2 2 2h14c1.1 0 2-.9 2-2V5c0-1.1-.9-2-2-2zM9 17H7v-7h2v7zm4 0h-2V7h2v10zm4 0h-2v-4h2v4z\"/>\n",
              "    </g>\n",
              "</svg>\n",
              "  </button>\n",
              "\n",
              "<style>\n",
              "  .colab-df-quickchart {\n",
              "      --bg-color: #E8F0FE;\n",
              "      --fill-color: #1967D2;\n",
              "      --hover-bg-color: #E2EBFA;\n",
              "      --hover-fill-color: #174EA6;\n",
              "      --disabled-fill-color: #AAA;\n",
              "      --disabled-bg-color: #DDD;\n",
              "  }\n",
              "\n",
              "  [theme=dark] .colab-df-quickchart {\n",
              "      --bg-color: #3B4455;\n",
              "      --fill-color: #D2E3FC;\n",
              "      --hover-bg-color: #434B5C;\n",
              "      --hover-fill-color: #FFFFFF;\n",
              "      --disabled-bg-color: #3B4455;\n",
              "      --disabled-fill-color: #666;\n",
              "  }\n",
              "\n",
              "  .colab-df-quickchart {\n",
              "    background-color: var(--bg-color);\n",
              "    border: none;\n",
              "    border-radius: 50%;\n",
              "    cursor: pointer;\n",
              "    display: none;\n",
              "    fill: var(--fill-color);\n",
              "    height: 32px;\n",
              "    padding: 0;\n",
              "    width: 32px;\n",
              "  }\n",
              "\n",
              "  .colab-df-quickchart:hover {\n",
              "    background-color: var(--hover-bg-color);\n",
              "    box-shadow: 0 1px 2px rgba(60, 64, 67, 0.3), 0 1px 3px 1px rgba(60, 64, 67, 0.15);\n",
              "    fill: var(--button-hover-fill-color);\n",
              "  }\n",
              "\n",
              "  .colab-df-quickchart-complete:disabled,\n",
              "  .colab-df-quickchart-complete:disabled:hover {\n",
              "    background-color: var(--disabled-bg-color);\n",
              "    fill: var(--disabled-fill-color);\n",
              "    box-shadow: none;\n",
              "  }\n",
              "\n",
              "  .colab-df-spinner {\n",
              "    border: 2px solid var(--fill-color);\n",
              "    border-color: transparent;\n",
              "    border-bottom-color: var(--fill-color);\n",
              "    animation:\n",
              "      spin 1s steps(1) infinite;\n",
              "  }\n",
              "\n",
              "  @keyframes spin {\n",
              "    0% {\n",
              "      border-color: transparent;\n",
              "      border-bottom-color: var(--fill-color);\n",
              "      border-left-color: var(--fill-color);\n",
              "    }\n",
              "    20% {\n",
              "      border-color: transparent;\n",
              "      border-left-color: var(--fill-color);\n",
              "      border-top-color: var(--fill-color);\n",
              "    }\n",
              "    30% {\n",
              "      border-color: transparent;\n",
              "      border-left-color: var(--fill-color);\n",
              "      border-top-color: var(--fill-color);\n",
              "      border-right-color: var(--fill-color);\n",
              "    }\n",
              "    40% {\n",
              "      border-color: transparent;\n",
              "      border-right-color: var(--fill-color);\n",
              "      border-top-color: var(--fill-color);\n",
              "    }\n",
              "    60% {\n",
              "      border-color: transparent;\n",
              "      border-right-color: var(--fill-color);\n",
              "    }\n",
              "    80% {\n",
              "      border-color: transparent;\n",
              "      border-right-color: var(--fill-color);\n",
              "      border-bottom-color: var(--fill-color);\n",
              "    }\n",
              "    90% {\n",
              "      border-color: transparent;\n",
              "      border-bottom-color: var(--fill-color);\n",
              "    }\n",
              "  }\n",
              "</style>\n",
              "\n",
              "  <script>\n",
              "    async function quickchart(key) {\n",
              "      const quickchartButtonEl =\n",
              "        document.querySelector('#' + key + ' button');\n",
              "      quickchartButtonEl.disabled = true;  // To prevent multiple clicks.\n",
              "      quickchartButtonEl.classList.add('colab-df-spinner');\n",
              "      try {\n",
              "        const charts = await google.colab.kernel.invokeFunction(\n",
              "            'suggestCharts', [key], {});\n",
              "      } catch (error) {\n",
              "        console.error('Error during call to suggestCharts:', error);\n",
              "      }\n",
              "      quickchartButtonEl.classList.remove('colab-df-spinner');\n",
              "      quickchartButtonEl.classList.add('colab-df-quickchart-complete');\n",
              "    }\n",
              "    (() => {\n",
              "      let quickchartButtonEl =\n",
              "        document.querySelector('#df-a26c7122-cfe9-4ce7-841e-ca1c79efbca5 button');\n",
              "      quickchartButtonEl.style.display =\n",
              "        google.colab.kernel.accessAllowed ? 'block' : 'none';\n",
              "    })();\n",
              "  </script>\n",
              "</div>\n",
              "\n",
              "  <div id=\"id_39f4d75c-fdda-410e-9ec2-590d7c5d1a2f\">\n",
              "    <style>\n",
              "      .colab-df-generate {\n",
              "        background-color: #E8F0FE;\n",
              "        border: none;\n",
              "        border-radius: 50%;\n",
              "        cursor: pointer;\n",
              "        display: none;\n",
              "        fill: #1967D2;\n",
              "        height: 32px;\n",
              "        padding: 0 0 0 0;\n",
              "        width: 32px;\n",
              "      }\n",
              "\n",
              "      .colab-df-generate:hover {\n",
              "        background-color: #E2EBFA;\n",
              "        box-shadow: 0px 1px 2px rgba(60, 64, 67, 0.3), 0px 1px 3px 1px rgba(60, 64, 67, 0.15);\n",
              "        fill: #174EA6;\n",
              "      }\n",
              "\n",
              "      [theme=dark] .colab-df-generate {\n",
              "        background-color: #3B4455;\n",
              "        fill: #D2E3FC;\n",
              "      }\n",
              "\n",
              "      [theme=dark] .colab-df-generate:hover {\n",
              "        background-color: #434B5C;\n",
              "        box-shadow: 0px 1px 3px 1px rgba(0, 0, 0, 0.15);\n",
              "        filter: drop-shadow(0px 1px 2px rgba(0, 0, 0, 0.3));\n",
              "        fill: #FFFFFF;\n",
              "      }\n",
              "    </style>\n",
              "    <button class=\"colab-df-generate\" onclick=\"generateWithVariable('df_cdate_sorted')\"\n",
              "            title=\"Generate code using this dataframe.\"\n",
              "            style=\"display:none;\">\n",
              "\n",
              "  <svg xmlns=\"http://www.w3.org/2000/svg\" height=\"24px\"viewBox=\"0 0 24 24\"\n",
              "       width=\"24px\">\n",
              "    <path d=\"M7,19H8.4L18.45,9,17,7.55,7,17.6ZM5,21V16.75L18.45,3.32a2,2,0,0,1,2.83,0l1.4,1.43a1.91,1.91,0,0,1,.58,1.4,1.91,1.91,0,0,1-.58,1.4L9.25,21ZM18.45,9,17,7.55Zm-12,3A5.31,5.31,0,0,0,4.9,8.1,5.31,5.31,0,0,0,1,6.5,5.31,5.31,0,0,0,4.9,4.9,5.31,5.31,0,0,0,6.5,1,5.31,5.31,0,0,0,8.1,4.9,5.31,5.31,0,0,0,12,6.5,5.46,5.46,0,0,0,6.5,12Z\"/>\n",
              "  </svg>\n",
              "    </button>\n",
              "    <script>\n",
              "      (() => {\n",
              "      const buttonEl =\n",
              "        document.querySelector('#id_39f4d75c-fdda-410e-9ec2-590d7c5d1a2f button.colab-df-generate');\n",
              "      buttonEl.style.display =\n",
              "        google.colab.kernel.accessAllowed ? 'block' : 'none';\n",
              "\n",
              "      buttonEl.onclick = () => {\n",
              "        google.colab.notebook.generateWithVariable('df_cdate_sorted');\n",
              "      }\n",
              "      })();\n",
              "    </script>\n",
              "  </div>\n",
              "\n",
              "    </div>\n",
              "  </div>\n"
            ],
            "application/vnd.google.colaboratory.intrinsic+json": {
              "type": "dataframe",
              "variable_name": "df_cdate_sorted",
              "summary": "{\n  \"name\": \"df_cdate_sorted\",\n  \"rows\": 501,\n  \"fields\": [\n    {\n      \"column\": \"c_date\",\n      \"properties\": {\n        \"dtype\": \"date\",\n        \"min\": \"2001-01-01 00:00:00\",\n        \"max\": \"2021-05-31 00:00:00\",\n        \"num_unique_values\": 501,\n        \"samples\": [\n          \"2021-01-09 00:00:00\",\n          \"2020-03-14 00:00:00\",\n          \"2021-01-22 00:00:00\"\n        ],\n        \"semantic_type\": \"\",\n        \"description\": \"\"\n      }\n    },\n    {\n      \"column\": \"count\",\n      \"properties\": {\n        \"dtype\": \"number\",\n        \"std\": 916,\n        \"min\": 1,\n        \"max\": 3230,\n        \"num_unique_values\": 408,\n        \"samples\": [\n          2,\n          1611,\n          2259\n        ],\n        \"semantic_type\": \"\",\n        \"description\": \"\"\n      }\n    }\n  ]\n}"
            }
          },
          "metadata": {},
          "execution_count": 228
        }
      ]
    },
    {
      "cell_type": "code",
      "source": [
        "# @title Timeline c_date\n",
        "sns.lineplot(data=df_cdate_sorted, x='c_date', y='count')\n",
        "plt.show()"
      ],
      "metadata": {
        "colab": {
          "base_uri": "https://localhost:8080/",
          "height": 450
        },
        "collapsed": true,
        "cellView": "form",
        "id": "bDmFqnGPYCZ4",
        "outputId": "15be0f4e-1f73-48d9-caf2-dfea32721a9d"
      },
      "execution_count": null,
      "outputs": [
        {
          "output_type": "display_data",
          "data": {
            "text/plain": [
              "<Figure size 640x480 with 1 Axes>"
            ],
            "image/png": "[encoded data removed]"
          },
          "metadata": {}
        }
      ]
    },
    {
      "cell_type": "code",
      "source": [
        "# @title Timeline 2020+\n",
        "sns.lineplot(data=df_cdate_sorted[df_cdate_sorted.c_date.dt.year >= 2020], x='c_date', y='count')\n",
        "plt.xticks(rotation=90)\n",
        "plt.show()"
      ],
      "metadata": {
        "colab": {
          "base_uri": "https://localhost:8080/",
          "height": 493
        },
        "collapsed": true,
        "cellView": "form",
        "id": "NqrRmfkzbRMW",
        "outputId": "d2413745-f8a0-41f0-fdc6-535b0a2adceb"
      },
      "execution_count": null,
      "outputs": [
        {
          "output_type": "display_data",
          "data": {
            "text/plain": [
              "<Figure size 640x480 with 1 Axes>"
            ],
            "image/png": "[encoded data removed]"
          },
          "metadata": {}
        }
      ]
    },
    {
      "cell_type": "code",
      "source": [
        "# @title Timeline 2021\n",
        "sns.lineplot(data=df_cdate_sorted[df_cdate_sorted.c_date.dt.year == 2021], x='c_date', y='count')\n",
        "plt.xticks(rotation=90)\n",
        "plt.show()"
      ],
      "metadata": {
        "colab": {
          "base_uri": "https://localhost:8080/",
          "height": 493
        },
        "collapsed": true,
        "cellView": "form",
        "id": "i0lP6MaecB0W",
        "outputId": "f280bae8-4760-4f79-a8bc-2859e2b439ea"
      },
      "execution_count": null,
      "outputs": [
        {
          "output_type": "display_data",
          "data": {
            "text/plain": [
              "<Figure size 640x480 with 1 Axes>"
            ],
            "image/png": "[encoded data removed]"
          },
          "metadata": {}
        }
      ]
    },
    {
      "cell_type": "code",
      "source": [
        "# @title Timeline 2021-04\n",
        "sns.lineplot(data=df_cdate_sorted[(df_cdate_sorted.c_date.dt.year == 2021) & (df_cdate_sorted.c_date.dt.month == 4)], x='c_date', y='count')\n",
        "plt.xticks(rotation=90)\n",
        "plt.show()"
      ],
      "metadata": {
        "colab": {
          "base_uri": "https://localhost:8080/",
          "height": 516
        },
        "collapsed": true,
        "cellView": "form",
        "id": "QD2V4jj0cO9N",
        "outputId": "693f6910-5fa7-4b07-8e84-cd25c1d18cd8"
      },
      "execution_count": null,
      "outputs": [
        {
          "output_type": "display_data",
          "data": {
            "text/plain": [
              "<Figure size 640x480 with 1 Axes>"
            ],
            "image/png": "[encoded data removed]"
          },
          "metadata": {}
        }
      ]
    },
    {
      "cell_type": "code",
      "source": [
        "df_train[\"dd_c_date\"] = df_train.c_date.dt.day\n",
        "df_train[\"qq_c_date\"] = df_train.c_date.dt.quarter\n",
        "df_train[\"yy_c_date\"] = df_train.c_date.dt.year\n",
        "df_train[\"wd_c_date\"] = df_train.c_date.dt.weekday\n",
        "df_train[\"dy_c_date\"] = df_train.c_date.dt.dayofyear\n",
        "df_train[\"wy_c_date\"] = df_train.c_date.dt.isocalendar().week\n",
        "df_train[\"is_weekend_c_date\"] = (df_train.c_date.dt.weekday > 4)\n",
        "df_train.drop('c_date', axis=1, inplace=True)\n",
        "dict_col[0].remove('c_date')"
      ],
      "metadata": {
        "id": "NwQILYTqNMuU"
      },
      "execution_count": null,
      "outputs": []
    },
    {
      "cell_type": "code",
      "source": [
        "# @title Creating features for test data\n",
        "df_test[\"dd_c_date\"] = df_test.c_date.dt.day\n",
        "df_test[\"qq_c_date\"] = df_test.c_date.dt.quarter\n",
        "df_test[\"yy_c_date\"] = df_test.c_date.dt.year\n",
        "df_test[\"wd_c_date\"] = df_test.c_date.dt.weekday\n",
        "df_test[\"dy_c_date\"] = df_test.c_date.dt.dayofyear\n",
        "df_test[\"wy_c_date\"] = df_test.c_date.dt.isocalendar().week\n",
        "df_test[\"is_weekend_c_date\"] = (df_test.c_date.dt.weekday > 4)\n",
        "df_test.drop('c_date', axis=1, inplace=True)"
      ],
      "metadata": {
        "cellView": "form",
        "id": "qVKnhtC8jvSK"
      },
      "execution_count": null,
      "outputs": []
    },
    {
      "cell_type": "code",
      "source": [
        "df_train[[\"dd_c_date\",\"qq_c_date\", \"yy_c_date\", \"wd_c_date\", \"is_weekend_c_date\", \"dy_c_date\", \"wy_c_date\", \"target_2\"]].corr()"
      ],
      "metadata": {
        "colab": {
          "base_uri": "https://localhost:8080/",
          "height": 320
        },
        "collapsed": true,
        "id": "hw8SjNImvmfu",
        "outputId": "fef86fa5-475e-4da1-a93a-74a5a8c5520f"
      },
      "execution_count": null,
      "outputs": [
        {
          "output_type": "execute_result",
          "data": {
            "text/plain": [
              "                   dd_c_date  qq_c_date  yy_c_date  wd_c_date  \\\n",
              "dd_c_date           1.000000   0.040253  -0.030372   0.027995   \n",
              "qq_c_date           0.040253   1.000000  -0.723298  -0.007688   \n",
              "yy_c_date          -0.030372  -0.723298   1.000000   0.013880   \n",
              "wd_c_date           0.027995  -0.007688   0.013880   1.000000   \n",
              "is_weekend_c_date   0.016260   0.001275  -0.000972   0.694263   \n",
              "dy_c_date           0.103187   0.975282  -0.743090  -0.009387   \n",
              "wy_c_date           0.087330   0.963739  -0.741491  -0.012275   \n",
              "target_2            0.000986   0.001296  -0.002700   0.002802   \n",
              "\n",
              "                   is_weekend_c_date  dy_c_date  wy_c_date  target_2  \n",
              "dd_c_date                   0.016260   0.103187   0.087330  0.000986  \n",
              "qq_c_date                   0.001275   0.975282   0.963739  0.001296  \n",
              "yy_c_date                  -0.000972  -0.743090  -0.741491 -0.002700  \n",
              "wd_c_date                   0.694263  -0.009387  -0.012275  0.002802  \n",
              "is_weekend_c_date           1.000000   0.001829   0.005123  0.000981  \n",
              "dy_c_date                   0.001829   1.000000   0.985458  0.001406  \n",
              "wy_c_date                   0.005123   0.985458   1.000000  0.001552  \n",
              "target_2                    0.000981   0.001406   0.001552  1.000000  "
            ],
            "text/html": [
              "\n",
              "  <div id=\"df-cd074aa6-6724-48e8-8840-443ddd94c446\" class=\"colab-df-container\">\n",
              "    <div>\n",
              "<style scoped>\n",
              "    .dataframe tbody tr th:only-of-type {\n",
              "        vertical-align: middle;\n",
              "    }\n",
              "\n",
              "    .dataframe tbody tr th {\n",
              "        vertical-align: top;\n",
              "    }\n",
              "\n",
              "    .dataframe thead th {\n",
              "        text-align: right;\n",
              "    }\n",
              "</style>\n",
              "<table border=\"1\" class=\"dataframe\">\n",
              "  <thead>\n",
              "    <tr style=\"text-align: right;\">\n",
              "      <th></th>\n",
              "      <th>dd_c_date</th>\n",
              "      <th>qq_c_date</th>\n",
              "      <th>yy_c_date</th>\n",
              "      <th>wd_c_date</th>\n",
              "      <th>is_weekend_c_date</th>\n",
              "      <th>dy_c_date</th>\n",
              "      <th>wy_c_date</th>\n",
              "      <th>target_2</th>\n",
              "    </tr>\n",
              "  </thead>\n",
              "  <tbody>\n",
              "    <tr>\n",
              "      <th>dd_c_date</th>\n",
              "      <td>1.000000</td>\n",
              "      <td>0.040253</td>\n",
              "      <td>-0.030372</td>\n",
              "      <td>0.027995</td>\n",
              "      <td>0.016260</td>\n",
              "      <td>0.103187</td>\n",
              "      <td>0.087330</td>\n",
              "      <td>0.000986</td>\n",
              "    </tr>\n",
              "    <tr>\n",
              "      <th>qq_c_date</th>\n",
              "      <td>0.040253</td>\n",
              "      <td>1.000000</td>\n",
              "      <td>-0.723298</td>\n",
              "      <td>-0.007688</td>\n",
              "      <td>0.001275</td>\n",
              "      <td>0.975282</td>\n",
              "      <td>0.963739</td>\n",
              "      <td>0.001296</td>\n",
              "    </tr>\n",
              "    <tr>\n",
              "      <th>yy_c_date</th>\n",
              "      <td>-0.030372</td>\n",
              "      <td>-0.723298</td>\n",
              "      <td>1.000000</td>\n",
              "      <td>0.013880</td>\n",
              "      <td>-0.000972</td>\n",
              "      <td>-0.743090</td>\n",
              "      <td>-0.741491</td>\n",
              "      <td>-0.002700</td>\n",
              "    </tr>\n",
              "    <tr>\n",
              "      <th>wd_c_date</th>\n",
              "      <td>0.027995</td>\n",
              "      <td>-0.007688</td>\n",
              "      <td>0.013880</td>\n",
              "      <td>1.000000</td>\n",
              "      <td>0.694263</td>\n",
              "      <td>-0.009387</td>\n",
              "      <td>-0.012275</td>\n",
              "      <td>0.002802</td>\n",
              "    </tr>\n",
              "    <tr>\n",
              "      <th>is_weekend_c_date</th>\n",
              "      <td>0.016260</td>\n",
              "      <td>0.001275</td>\n",
              "      <td>-0.000972</td>\n",
              "      <td>0.694263</td>\n",
              "      <td>1.000000</td>\n",
              "      <td>0.001829</td>\n",
              "      <td>0.005123</td>\n",
              "      <td>0.000981</td>\n",
              "    </tr>\n",
              "    <tr>\n",
              "      <th>dy_c_date</th>\n",
              "      <td>0.103187</td>\n",
              "      <td>0.975282</td>\n",
              "      <td>-0.743090</td>\n",
              "      <td>-0.009387</td>\n",
              "      <td>0.001829</td>\n",
              "      <td>1.000000</td>\n",
              "      <td>0.985458</td>\n",
              "      <td>0.001406</td>\n",
              "    </tr>\n",
              "    <tr>\n",
              "      <th>wy_c_date</th>\n",
              "      <td>0.087330</td>\n",
              "      <td>0.963739</td>\n",
              "      <td>-0.741491</td>\n",
              "      <td>-0.012275</td>\n",
              "      <td>0.005123</td>\n",
              "      <td>0.985458</td>\n",
              "      <td>1.000000</td>\n",
              "      <td>0.001552</td>\n",
              "    </tr>\n",
              "    <tr>\n",
              "      <th>target_2</th>\n",
              "      <td>0.000986</td>\n",
              "      <td>0.001296</td>\n",
              "      <td>-0.002700</td>\n",
              "      <td>0.002802</td>\n",
              "      <td>0.000981</td>\n",
              "      <td>0.001406</td>\n",
              "      <td>0.001552</td>\n",
              "      <td>1.000000</td>\n",
              "    </tr>\n",
              "  </tbody>\n",
              "</table>\n",
              "</div>\n",
              "    <div class=\"colab-df-buttons\">\n",
              "\n",
              "  <div class=\"colab-df-container\">\n",
              "    <button class=\"colab-df-convert\" onclick=\"convertToInteractive('df-cd074aa6-6724-48e8-8840-443ddd94c446')\"\n",
              "            title=\"Convert this dataframe to an interactive table.\"\n",
              "            style=\"display:none;\">\n",
              "\n",
              "  <svg xmlns=\"http://www.w3.org/2000/svg\" height=\"24px\" viewBox=\"0 -960 960 960\">\n",
              "    <path d=\"M120-120v-720h720v720H120Zm60-500h600v-160H180v160Zm220 220h160v-160H400v160Zm0 220h160v-160H400v160ZM180-400h160v-160H180v160Zm440 0h160v-160H620v160ZM180-180h160v-160H180v160Zm440 0h160v-160H620v160Z\"/>\n",
              "  </svg>\n",
              "    </button>\n",
              "\n",
              "  <style>\n",
              "    .colab-df-container {\n",
              "      display:flex;\n",
              "      gap: 12px;\n",
              "    }\n",
              "\n",
              "    .colab-df-convert {\n",
              "      background-color: #E8F0FE;\n",
              "      border: none;\n",
              "      border-radius: 50%;\n",
              "      cursor: pointer;\n",
              "      display: none;\n",
              "      fill: #1967D2;\n",
              "      height: 32px;\n",
              "      padding: 0 0 0 0;\n",
              "      width: 32px;\n",
              "    }\n",
              "\n",
              "    .colab-df-convert:hover {\n",
              "      background-color: #E2EBFA;\n",
              "      box-shadow: 0px 1px 2px rgba(60, 64, 67, 0.3), 0px 1px 3px 1px rgba(60, 64, 67, 0.15);\n",
              "      fill: #174EA6;\n",
              "    }\n",
              "\n",
              "    .colab-df-buttons div {\n",
              "      margin-bottom: 4px;\n",
              "    }\n",
              "\n",
              "    [theme=dark] .colab-df-convert {\n",
              "      background-color: #3B4455;\n",
              "      fill: #D2E3FC;\n",
              "    }\n",
              "\n",
              "    [theme=dark] .colab-df-convert:hover {\n",
              "      background-color: #434B5C;\n",
              "      box-shadow: 0px 1px 3px 1px rgba(0, 0, 0, 0.15);\n",
              "      filter: drop-shadow(0px 1px 2px rgba(0, 0, 0, 0.3));\n",
              "      fill: #FFFFFF;\n",
              "    }\n",
              "  </style>\n",
              "\n",
              "    <script>\n",
              "      const buttonEl =\n",
              "        document.querySelector('#df-cd074aa6-6724-48e8-8840-443ddd94c446 button.colab-df-convert');\n",
              "      buttonEl.style.display =\n",
              "        google.colab.kernel.accessAllowed ? 'block' : 'none';\n",
              "\n",
              "      async function convertToInteractive(key) {\n",
              "        const element = document.querySelector('#df-cd074aa6-6724-48e8-8840-443ddd94c446');\n",
              "        const dataTable =\n",
              "          await google.colab.kernel.invokeFunction('convertToInteractive',\n",
              "                                                    [key], {});\n",
              "        if (!dataTable) return;\n",
              "\n",
              "        const docLinkHtml = 'Like what you see? Visit the ' +\n",
              "          '<a target=\"_blank\" href=https://colab.research.google.com/notebooks/data_table.ipynb>data table notebook</a>'\n",
              "          + ' to learn more about interactive tables.';\n",
              "        element.innerHTML = '';\n",
              "        dataTable['output_type'] = 'display_data';\n",
              "        await google.colab.output.renderOutput(dataTable, element);\n",
              "        const docLink = document.createElement('div');\n",
              "        docLink.innerHTML = docLinkHtml;\n",
              "        element.appendChild(docLink);\n",
              "      }\n",
              "    </script>\n",
              "  </div>\n",
              "\n",
              "\n",
              "<div id=\"df-b7e90726-1adc-4c4f-ae42-fc11b012a248\">\n",
              "  <button class=\"colab-df-quickchart\" onclick=\"quickchart('df-b7e90726-1adc-4c4f-ae42-fc11b012a248')\"\n",
              "            title=\"Suggest charts\"\n",
              "            style=\"display:none;\">\n",
              "\n",
              "<svg xmlns=\"http://www.w3.org/2000/svg\" height=\"24px\"viewBox=\"0 0 24 24\"\n",
              "     width=\"24px\">\n",
              "    <g>\n",
              "        <path d=\"M19 3H5c-1.1 0-2 .9-2 2v14c0 1.1.9 2 2 2h14c1.1 0 2-.9 2-2V5c0-1.1-.9-2-2-2zM9 17H7v-7h2v7zm4 0h-2V7h2v10zm4 0h-2v-4h2v4z\"/>\n",
              "    </g>\n",
              "</svg>\n",
              "  </button>\n",
              "\n",
              "<style>\n",
              "  .colab-df-quickchart {\n",
              "      --bg-color: #E8F0FE;\n",
              "      --fill-color: #1967D2;\n",
              "      --hover-bg-color: #E2EBFA;\n",
              "      --hover-fill-color: #174EA6;\n",
              "      --disabled-fill-color: #AAA;\n",
              "      --disabled-bg-color: #DDD;\n",
              "  }\n",
              "\n",
              "  [theme=dark] .colab-df-quickchart {\n",
              "      --bg-color: #3B4455;\n",
              "      --fill-color: #D2E3FC;\n",
              "      --hover-bg-color: #434B5C;\n",
              "      --hover-fill-color: #FFFFFF;\n",
              "      --disabled-bg-color: #3B4455;\n",
              "      --disabled-fill-color: #666;\n",
              "  }\n",
              "\n",
              "  .colab-df-quickchart {\n",
              "    background-color: var(--bg-color);\n",
              "    border: none;\n",
              "    border-radius: 50%;\n",
              "    cursor: pointer;\n",
              "    display: none;\n",
              "    fill: var(--fill-color);\n",
              "    height: 32px;\n",
              "    padding: 0;\n",
              "    width: 32px;\n",
              "  }\n",
              "\n",
              "  .colab-df-quickchart:hover {\n",
              "    background-color: var(--hover-bg-color);\n",
              "    box-shadow: 0 1px 2px rgba(60, 64, 67, 0.3), 0 1px 3px 1px rgba(60, 64, 67, 0.15);\n",
              "    fill: var(--button-hover-fill-color);\n",
              "  }\n",
              "\n",
              "  .colab-df-quickchart-complete:disabled,\n",
              "  .colab-df-quickchart-complete:disabled:hover {\n",
              "    background-color: var(--disabled-bg-color);\n",
              "    fill: var(--disabled-fill-color);\n",
              "    box-shadow: none;\n",
              "  }\n",
              "\n",
              "  .colab-df-spinner {\n",
              "    border: 2px solid var(--fill-color);\n",
              "    border-color: transparent;\n",
              "    border-bottom-color: var(--fill-color);\n",
              "    animation:\n",
              "      spin 1s steps(1) infinite;\n",
              "  }\n",
              "\n",
              "  @keyframes spin {\n",
              "    0% {\n",
              "      border-color: transparent;\n",
              "      border-bottom-color: var(--fill-color);\n",
              "      border-left-color: var(--fill-color);\n",
              "    }\n",
              "    20% {\n",
              "      border-color: transparent;\n",
              "      border-left-color: var(--fill-color);\n",
              "      border-top-color: var(--fill-color);\n",
              "    }\n",
              "    30% {\n",
              "      border-color: transparent;\n",
              "      border-left-color: var(--fill-color);\n",
              "      border-top-color: var(--fill-color);\n",
              "      border-right-color: var(--fill-color);\n",
              "    }\n",
              "    40% {\n",
              "      border-color: transparent;\n",
              "      border-right-color: var(--fill-color);\n",
              "      border-top-color: var(--fill-color);\n",
              "    }\n",
              "    60% {\n",
              "      border-color: transparent;\n",
              "      border-right-color: var(--fill-color);\n",
              "    }\n",
              "    80% {\n",
              "      border-color: transparent;\n",
              "      border-right-color: var(--fill-color);\n",
              "      border-bottom-color: var(--fill-color);\n",
              "    }\n",
              "    90% {\n",
              "      border-color: transparent;\n",
              "      border-bottom-color: var(--fill-color);\n",
              "    }\n",
              "  }\n",
              "</style>\n",
              "\n",
              "  <script>\n",
              "    async function quickchart(key) {\n",
              "      const quickchartButtonEl =\n",
              "        document.querySelector('#' + key + ' button');\n",
              "      quickchartButtonEl.disabled = true;  // To prevent multiple clicks.\n",
              "      quickchartButtonEl.classList.add('colab-df-spinner');\n",
              "      try {\n",
              "        const charts = await google.colab.kernel.invokeFunction(\n",
              "            'suggestCharts', [key], {});\n",
              "      } catch (error) {\n",
              "        console.error('Error during call to suggestCharts:', error);\n",
              "      }\n",
              "      quickchartButtonEl.classList.remove('colab-df-spinner');\n",
              "      quickchartButtonEl.classList.add('colab-df-quickchart-complete');\n",
              "    }\n",
              "    (() => {\n",
              "      let quickchartButtonEl =\n",
              "        document.querySelector('#df-b7e90726-1adc-4c4f-ae42-fc11b012a248 button');\n",
              "      quickchartButtonEl.style.display =\n",
              "        google.colab.kernel.accessAllowed ? 'block' : 'none';\n",
              "    })();\n",
              "  </script>\n",
              "</div>\n",
              "\n",
              "    </div>\n",
              "  </div>\n"
            ],
            "application/vnd.google.colaboratory.intrinsic+json": {
              "type": "dataframe",
              "summary": "{\n  \"name\": \"df_train[[\\\"dd_c_date\\\",\\\"qq_c_date\\\", \\\"yy_c_date\\\", \\\"wd_c_date\\\", \\\"is_weekend_c_date\\\", \\\"dy_c_date\\\", \\\"wy_c_date\\\", \\\"target_2\\\"]]\",\n  \"rows\": 8,\n  \"fields\": [\n    {\n      \"column\": \"dd_c_date\",\n      \"properties\": {\n        \"dtype\": \"number\",\n        \"std\": 0.3439090179543092,\n        \"min\": -0.03037244720345798,\n        \"max\": 1.0,\n        \"num_unique_values\": 8,\n        \"samples\": [\n          0.040253372876936803,\n          0.10318656341827767,\n          1.0\n        ],\n        \"semantic_type\": \"\",\n        \"description\": \"\"\n      }\n    },\n    {\n      \"column\": \"qq_c_date\",\n      \"properties\": {\n        \"dtype\": \"number\",\n        \"std\": 0.6292303933326198,\n        \"min\": -0.7232983467858782,\n        \"max\": 1.0,\n        \"num_unique_values\": 8,\n        \"samples\": [\n          1.0,\n          0.9752824245256582,\n          0.040253372876936803\n        ],\n        \"semantic_type\": \"\",\n        \"description\": \"\"\n      }\n    },\n    {\n      \"column\": \"yy_c_date\",\n      \"properties\": {\n        \"dtype\": \"number\",\n        \"std\": 0.5901287569071447,\n        \"min\": -0.7430895128757181,\n        \"max\": 1.0,\n        \"num_unique_values\": 8,\n        \"samples\": [\n          -0.7232983467858782,\n          -0.7430895128757181,\n          -0.03037244720345798\n        ],\n        \"semantic_type\": \"\",\n        \"description\": \"\"\n      }\n    },\n    {\n      \"column\": \"wd_c_date\",\n      \"properties\": {\n        \"dtype\": \"number\",\n        \"std\": 0.39963308070434417,\n        \"min\": -0.012275455771749795,\n        \"max\": 1.0,\n        \"num_unique_values\": 8,\n        \"samples\": [\n          -0.007687909732963991,\n          -0.009386519206706138,\n          0.027995247549990176\n        ],\n        \"semantic_type\": \"\",\n        \"description\": \"\"\n      }\n    },\n    {\n      \"column\": \"is_weekend_c_date\",\n      \"properties\": {\n        \"dtype\": \"number\",\n        \"std\": 0.39875390817588613,\n        \"min\": -0.0009723895562492968,\n        \"max\": 1.0,\n        \"num_unique_values\": 8,\n        \"samples\": [\n          0.0012748945617107842,\n          0.0018291850976675252,\n          0.016259897774081142\n        ],\n        \"semantic_type\": \"\",\n        \"description\": \"\"\n      }\n    },\n    {\n      \"column\": \"dy_c_date\",\n      \"properties\": {\n        \"dtype\": \"number\",\n        \"std\": 0.6342042026638024,\n        \"min\": -0.7430895128757181,\n        \"max\": 1.0,\n        \"num_unique_values\": 8,\n        \"samples\": [\n          0.9752824245256582,\n          1.0,\n          0.10318656341827767\n        ],\n        \"semantic_type\": \"\",\n        \"description\": \"\"\n      }\n    },\n    {\n      \"column\": \"wy_c_date\",\n      \"properties\": {\n        \"dtype\": \"number\",\n        \"std\": 0.6327204994635004,\n        \"min\": -0.7414912900282016,\n        \"max\": 1.0,\n        \"num_unique_values\": 8,\n        \"samples\": [\n          0.963739364738002,\n          0.9854579967330662,\n          0.08733048868880969\n        ],\n        \"semantic_type\": \"\",\n        \"description\": \"\"\n      }\n    },\n    {\n      \"column\": \"target_2\",\n      \"properties\": {\n        \"dtype\": \"number\",\n        \"std\": 0.353237553573792,\n        \"min\": -0.0027000178767499793,\n        \"max\": 1.0,\n        \"num_unique_values\": 8,\n        \"samples\": [\n          0.0012962979502686859,\n          0.0014058388298216948,\n          0.0009859984507804647\n        ],\n        \"semantic_type\": \"\",\n        \"description\": \"\"\n      }\n    }\n  ]\n}"
            }
          },
          "metadata": {},
          "execution_count": 235
        }
      ]
    },
    {
      "cell_type": "markdown",
      "source": [
        "нет кореляции выше 1%"
      ],
      "metadata": {
        "id": "nW4mB6v55Otj"
      }
    },
    {
      "cell_type": "code",
      "source": [
        "df_train[dict_col[0]].describe()"
      ],
      "metadata": {
        "colab": {
          "base_uri": "https://localhost:8080/",
          "height": 320
        },
        "id": "wV_QDvbkbSGM",
        "outputId": "0ce78e36-5ddf-4c58-ad3d-b389df120aeb"
      },
      "execution_count": null,
      "outputs": [
        {
          "output_type": "execute_result",
          "data": {
            "text/plain": [
              "             ID_NEW        Score_p       Score_bm       Score_ae  \\\n",
              "count  6.477340e+05  647734.000000  647688.000000  647734.000000   \n",
              "mean   7.305177e+05   10700.242487      10.146364       3.696167   \n",
              "std    3.273507e+05    6041.029738       3.432675       0.781283   \n",
              "min    1.652000e+03       0.000000       0.000000       0.000000   \n",
              "25%    4.485425e+05    6486.000000       8.000000       4.000000   \n",
              "50%    7.295305e+05    9265.000000      12.000000       4.000000   \n",
              "75%    1.010671e+06   13188.000000      13.000000       4.000000   \n",
              "max    1.334605e+06   86746.000000      53.000000       4.000000   \n",
              "\n",
              "            Score_vy       Score_vt        Score_r      Score_bcb  \\\n",
              "count  647734.000000  647734.000000  647734.000000  647734.000000   \n",
              "mean     2004.384411       4.153966      12.116329       0.582529   \n",
              "std        10.014837       0.814249       6.341187       0.493142   \n",
              "min         1.000000       4.000000       1.000000       0.000000   \n",
              "25%      1995.000000       4.000000       9.000000       0.000000   \n",
              "50%      2005.000000       4.000000      14.000000       1.000000   \n",
              "75%      2013.000000       4.000000      19.000000       1.000000   \n",
              "max      2021.000000      11.000000      20.000000       1.000000   \n",
              "\n",
              "           Score_ow    Score_ow_sh  \n",
              "count  6.477300e+05  647730.000000  \n",
              "mean   4.256353e+09    4826.252426  \n",
              "std    2.623409e+09    2200.679497  \n",
              "min    1.110100e+08    1100.000000  \n",
              "25%    1.952317e+09    3110.000000  \n",
              "50%    4.310100e+09    4750.000000  \n",
              "75%    7.111100e+09    7111.000000  \n",
              "max    7.917100e+09    7917.000000  "
            ],
            "text/html": [
              "\n",
              "  <div id=\"df-0bc8aff5-aede-4025-a0fd-37600ffab9b8\" class=\"colab-df-container\">\n",
              "    <div>\n",
              "<style scoped>\n",
              "    .dataframe tbody tr th:only-of-type {\n",
              "        vertical-align: middle;\n",
              "    }\n",
              "\n",
              "    .dataframe tbody tr th {\n",
              "        vertical-align: top;\n",
              "    }\n",
              "\n",
              "    .dataframe thead th {\n",
              "        text-align: right;\n",
              "    }\n",
              "</style>\n",
              "<table border=\"1\" class=\"dataframe\">\n",
              "  <thead>\n",
              "    <tr style=\"text-align: right;\">\n",
              "      <th></th>\n",
              "      <th>ID_NEW</th>\n",
              "      <th>Score_p</th>\n",
              "      <th>Score_bm</th>\n",
              "      <th>Score_ae</th>\n",
              "      <th>Score_vy</th>\n",
              "      <th>Score_vt</th>\n",
              "      <th>Score_r</th>\n",
              "      <th>Score_bcb</th>\n",
              "      <th>Score_ow</th>\n",
              "      <th>Score_ow_sh</th>\n",
              "    </tr>\n",
              "  </thead>\n",
              "  <tbody>\n",
              "    <tr>\n",
              "      <th>count</th>\n",
              "      <td>6.477340e+05</td>\n",
              "      <td>647734.000000</td>\n",
              "      <td>647688.000000</td>\n",
              "      <td>647734.000000</td>\n",
              "      <td>647734.000000</td>\n",
              "      <td>647734.000000</td>\n",
              "      <td>647734.000000</td>\n",
              "      <td>647734.000000</td>\n",
              "      <td>6.477300e+05</td>\n",
              "      <td>647730.000000</td>\n",
              "    </tr>\n",
              "    <tr>\n",
              "      <th>mean</th>\n",
              "      <td>7.305177e+05</td>\n",
              "      <td>10700.242487</td>\n",
              "      <td>10.146364</td>\n",
              "      <td>3.696167</td>\n",
              "      <td>2004.384411</td>\n",
              "      <td>4.153966</td>\n",
              "      <td>12.116329</td>\n",
              "      <td>0.582529</td>\n",
              "      <td>4.256353e+09</td>\n",
              "      <td>4826.252426</td>\n",
              "    </tr>\n",
              "    <tr>\n",
              "      <th>std</th>\n",
              "      <td>3.273507e+05</td>\n",
              "      <td>6041.029738</td>\n",
              "      <td>3.432675</td>\n",
              "      <td>0.781283</td>\n",
              "      <td>10.014837</td>\n",
              "      <td>0.814249</td>\n",
              "      <td>6.341187</td>\n",
              "      <td>0.493142</td>\n",
              "      <td>2.623409e+09</td>\n",
              "      <td>2200.679497</td>\n",
              "    </tr>\n",
              "    <tr>\n",
              "      <th>min</th>\n",
              "      <td>1.652000e+03</td>\n",
              "      <td>0.000000</td>\n",
              "      <td>0.000000</td>\n",
              "      <td>0.000000</td>\n",
              "      <td>1.000000</td>\n",
              "      <td>4.000000</td>\n",
              "      <td>1.000000</td>\n",
              "      <td>0.000000</td>\n",
              "      <td>1.110100e+08</td>\n",
              "      <td>1100.000000</td>\n",
              "    </tr>\n",
              "    <tr>\n",
              "      <th>25%</th>\n",
              "      <td>4.485425e+05</td>\n",
              "      <td>6486.000000</td>\n",
              "      <td>8.000000</td>\n",
              "      <td>4.000000</td>\n",
              "      <td>1995.000000</td>\n",
              "      <td>4.000000</td>\n",
              "      <td>9.000000</td>\n",
              "      <td>0.000000</td>\n",
              "      <td>1.952317e+09</td>\n",
              "      <td>3110.000000</td>\n",
              "    </tr>\n",
              "    <tr>\n",
              "      <th>50%</th>\n",
              "      <td>7.295305e+05</td>\n",
              "      <td>9265.000000</td>\n",
              "      <td>12.000000</td>\n",
              "      <td>4.000000</td>\n",
              "      <td>2005.000000</td>\n",
              "      <td>4.000000</td>\n",
              "      <td>14.000000</td>\n",
              "      <td>1.000000</td>\n",
              "      <td>4.310100e+09</td>\n",
              "      <td>4750.000000</td>\n",
              "    </tr>\n",
              "    <tr>\n",
              "      <th>75%</th>\n",
              "      <td>1.010671e+06</td>\n",
              "      <td>13188.000000</td>\n",
              "      <td>13.000000</td>\n",
              "      <td>4.000000</td>\n",
              "      <td>2013.000000</td>\n",
              "      <td>4.000000</td>\n",
              "      <td>19.000000</td>\n",
              "      <td>1.000000</td>\n",
              "      <td>7.111100e+09</td>\n",
              "      <td>7111.000000</td>\n",
              "    </tr>\n",
              "    <tr>\n",
              "      <th>max</th>\n",
              "      <td>1.334605e+06</td>\n",
              "      <td>86746.000000</td>\n",
              "      <td>53.000000</td>\n",
              "      <td>4.000000</td>\n",
              "      <td>2021.000000</td>\n",
              "      <td>11.000000</td>\n",
              "      <td>20.000000</td>\n",
              "      <td>1.000000</td>\n",
              "      <td>7.917100e+09</td>\n",
              "      <td>7917.000000</td>\n",
              "    </tr>\n",
              "  </tbody>\n",
              "</table>\n",
              "</div>\n",
              "    <div class=\"colab-df-buttons\">\n",
              "\n",
              "  <div class=\"colab-df-container\">\n",
              "    <button class=\"colab-df-convert\" onclick=\"convertToInteractive('df-0bc8aff5-aede-4025-a0fd-37600ffab9b8')\"\n",
              "            title=\"Convert this dataframe to an interactive table.\"\n",
              "            style=\"display:none;\">\n",
              "\n",
              "  <svg xmlns=\"http://www.w3.org/2000/svg\" height=\"24px\" viewBox=\"0 -960 960 960\">\n",
              "    <path d=\"M120-120v-720h720v720H120Zm60-500h600v-160H180v160Zm220 220h160v-160H400v160Zm0 220h160v-160H400v160ZM180-400h160v-160H180v160Zm440 0h160v-160H620v160ZM180-180h160v-160H180v160Zm440 0h160v-160H620v160Z\"/>\n",
              "  </svg>\n",
              "    </button>\n",
              "\n",
              "  <style>\n",
              "    .colab-df-container {\n",
              "      display:flex;\n",
              "      gap: 12px;\n",
              "    }\n",
              "\n",
              "    .colab-df-convert {\n",
              "      background-color: #E8F0FE;\n",
              "      border: none;\n",
              "      border-radius: 50%;\n",
              "      cursor: pointer;\n",
              "      display: none;\n",
              "      fill: #1967D2;\n",
              "      height: 32px;\n",
              "      padding: 0 0 0 0;\n",
              "      width: 32px;\n",
              "    }\n",
              "\n",
              "    .colab-df-convert:hover {\n",
              "      background-color: #E2EBFA;\n",
              "      box-shadow: 0px 1px 2px rgba(60, 64, 67, 0.3), 0px 1px 3px 1px rgba(60, 64, 67, 0.15);\n",
              "      fill: #174EA6;\n",
              "    }\n",
              "\n",
              "    .colab-df-buttons div {\n",
              "      margin-bottom: 4px;\n",
              "    }\n",
              "\n",
              "    [theme=dark] .colab-df-convert {\n",
              "      background-color: #3B4455;\n",
              "      fill: #D2E3FC;\n",
              "    }\n",
              "\n",
              "    [theme=dark] .colab-df-convert:hover {\n",
              "      background-color: #434B5C;\n",
              "      box-shadow: 0px 1px 3px 1px rgba(0, 0, 0, 0.15);\n",
              "      filter: drop-shadow(0px 1px 2px rgba(0, 0, 0, 0.3));\n",
              "      fill: #FFFFFF;\n",
              "    }\n",
              "  </style>\n",
              "\n",
              "    <script>\n",
              "      const buttonEl =\n",
              "        document.querySelector('#df-0bc8aff5-aede-4025-a0fd-37600ffab9b8 button.colab-df-convert');\n",
              "      buttonEl.style.display =\n",
              "        google.colab.kernel.accessAllowed ? 'block' : 'none';\n",
              "\n",
              "      async function convertToInteractive(key) {\n",
              "        const element = document.querySelector('#df-0bc8aff5-aede-4025-a0fd-37600ffab9b8');\n",
              "        const dataTable =\n",
              "          await google.colab.kernel.invokeFunction('convertToInteractive',\n",
              "                                                    [key], {});\n",
              "        if (!dataTable) return;\n",
              "\n",
              "        const docLinkHtml = 'Like what you see? Visit the ' +\n",
              "          '<a target=\"_blank\" href=https://colab.research.google.com/notebooks/data_table.ipynb>data table notebook</a>'\n",
              "          + ' to learn more about interactive tables.';\n",
              "        element.innerHTML = '';\n",
              "        dataTable['output_type'] = 'display_data';\n",
              "        await google.colab.output.renderOutput(dataTable, element);\n",
              "        const docLink = document.createElement('div');\n",
              "        docLink.innerHTML = docLinkHtml;\n",
              "        element.appendChild(docLink);\n",
              "      }\n",
              "    </script>\n",
              "  </div>\n",
              "\n",
              "\n",
              "<div id=\"df-e7636b8a-ef5c-484f-a313-8acc5f01e5ea\">\n",
              "  <button class=\"colab-df-quickchart\" onclick=\"quickchart('df-e7636b8a-ef5c-484f-a313-8acc5f01e5ea')\"\n",
              "            title=\"Suggest charts\"\n",
              "            style=\"display:none;\">\n",
              "\n",
              "<svg xmlns=\"http://www.w3.org/2000/svg\" height=\"24px\"viewBox=\"0 0 24 24\"\n",
              "     width=\"24px\">\n",
              "    <g>\n",
              "        <path d=\"M19 3H5c-1.1 0-2 .9-2 2v14c0 1.1.9 2 2 2h14c1.1 0 2-.9 2-2V5c0-1.1-.9-2-2-2zM9 17H7v-7h2v7zm4 0h-2V7h2v10zm4 0h-2v-4h2v4z\"/>\n",
              "    </g>\n",
              "</svg>\n",
              "  </button>\n",
              "\n",
              "<style>\n",
              "  .colab-df-quickchart {\n",
              "      --bg-color: #E8F0FE;\n",
              "      --fill-color: #1967D2;\n",
              "      --hover-bg-color: #E2EBFA;\n",
              "      --hover-fill-color: #174EA6;\n",
              "      --disabled-fill-color: #AAA;\n",
              "      --disabled-bg-color: #DDD;\n",
              "  }\n",
              "\n",
              "  [theme=dark] .colab-df-quickchart {\n",
              "      --bg-color: #3B4455;\n",
              "      --fill-color: #D2E3FC;\n",
              "      --hover-bg-color: #434B5C;\n",
              "      --hover-fill-color: #FFFFFF;\n",
              "      --disabled-bg-color: #3B4455;\n",
              "      --disabled-fill-color: #666;\n",
              "  }\n",
              "\n",
              "  .colab-df-quickchart {\n",
              "    background-color: var(--bg-color);\n",
              "    border: none;\n",
              "    border-radius: 50%;\n",
              "    cursor: pointer;\n",
              "    display: none;\n",
              "    fill: var(--fill-color);\n",
              "    height: 32px;\n",
              "    padding: 0;\n",
              "    width: 32px;\n",
              "  }\n",
              "\n",
              "  .colab-df-quickchart:hover {\n",
              "    background-color: var(--hover-bg-color);\n",
              "    box-shadow: 0 1px 2px rgba(60, 64, 67, 0.3), 0 1px 3px 1px rgba(60, 64, 67, 0.15);\n",
              "    fill: var(--button-hover-fill-color);\n",
              "  }\n",
              "\n",
              "  .colab-df-quickchart-complete:disabled,\n",
              "  .colab-df-quickchart-complete:disabled:hover {\n",
              "    background-color: var(--disabled-bg-color);\n",
              "    fill: var(--disabled-fill-color);\n",
              "    box-shadow: none;\n",
              "  }\n",
              "\n",
              "  .colab-df-spinner {\n",
              "    border: 2px solid var(--fill-color);\n",
              "    border-color: transparent;\n",
              "    border-bottom-color: var(--fill-color);\n",
              "    animation:\n",
              "      spin 1s steps(1) infinite;\n",
              "  }\n",
              "\n",
              "  @keyframes spin {\n",
              "    0% {\n",
              "      border-color: transparent;\n",
              "      border-bottom-color: var(--fill-color);\n",
              "      border-left-color: var(--fill-color);\n",
              "    }\n",
              "    20% {\n",
              "      border-color: transparent;\n",
              "      border-left-color: var(--fill-color);\n",
              "      border-top-color: var(--fill-color);\n",
              "    }\n",
              "    30% {\n",
              "      border-color: transparent;\n",
              "      border-left-color: var(--fill-color);\n",
              "      border-top-color: var(--fill-color);\n",
              "      border-right-color: var(--fill-color);\n",
              "    }\n",
              "    40% {\n",
              "      border-color: transparent;\n",
              "      border-right-color: var(--fill-color);\n",
              "      border-top-color: var(--fill-color);\n",
              "    }\n",
              "    60% {\n",
              "      border-color: transparent;\n",
              "      border-right-color: var(--fill-color);\n",
              "    }\n",
              "    80% {\n",
              "      border-color: transparent;\n",
              "      border-right-color: var(--fill-color);\n",
              "      border-bottom-color: var(--fill-color);\n",
              "    }\n",
              "    90% {\n",
              "      border-color: transparent;\n",
              "      border-bottom-color: var(--fill-color);\n",
              "    }\n",
              "  }\n",
              "</style>\n",
              "\n",
              "  <script>\n",
              "    async function quickchart(key) {\n",
              "      const quickchartButtonEl =\n",
              "        document.querySelector('#' + key + ' button');\n",
              "      quickchartButtonEl.disabled = true;  // To prevent multiple clicks.\n",
              "      quickchartButtonEl.classList.add('colab-df-spinner');\n",
              "      try {\n",
              "        const charts = await google.colab.kernel.invokeFunction(\n",
              "            'suggestCharts', [key], {});\n",
              "      } catch (error) {\n",
              "        console.error('Error during call to suggestCharts:', error);\n",
              "      }\n",
              "      quickchartButtonEl.classList.remove('colab-df-spinner');\n",
              "      quickchartButtonEl.classList.add('colab-df-quickchart-complete');\n",
              "    }\n",
              "    (() => {\n",
              "      let quickchartButtonEl =\n",
              "        document.querySelector('#df-e7636b8a-ef5c-484f-a313-8acc5f01e5ea button');\n",
              "      quickchartButtonEl.style.display =\n",
              "        google.colab.kernel.accessAllowed ? 'block' : 'none';\n",
              "    })();\n",
              "  </script>\n",
              "</div>\n",
              "\n",
              "    </div>\n",
              "  </div>\n"
            ],
            "application/vnd.google.colaboratory.intrinsic+json": {
              "type": "dataframe",
              "summary": "{\n  \"name\": \"df_train[dict_col[0]]\",\n  \"rows\": 8,\n  \"fields\": [\n    {\n      \"column\": \"ID_NEW\",\n      \"properties\": {\n        \"dtype\": \"number\",\n        \"std\": 409966.2814985955,\n        \"min\": 1652.0,\n        \"max\": 1334605.0,\n        \"num_unique_values\": 8,\n        \"samples\": [\n          730517.6577221514,\n          729530.5,\n          647734.0\n        ],\n        \"semantic_type\": \"\",\n        \"description\": \"\"\n      }\n    },\n    {\n      \"column\": \"Score_p\",\n      \"properties\": {\n        \"dtype\": \"number\",\n        \"std\": 224071.34322156367,\n        \"min\": 0.0,\n        \"max\": 647734.0,\n        \"num_unique_values\": 8,\n        \"samples\": [\n          10700.242486885048,\n          9265.0,\n          647734.0\n        ],\n        \"semantic_type\": \"\",\n        \"description\": \"\"\n      }\n    },\n    {\n      \"column\": \"Score_bm\",\n      \"properties\": {\n        \"dtype\": \"number\",\n        \"std\": 228987.25953331735,\n        \"min\": 0.0,\n        \"max\": 647688.0,\n        \"num_unique_values\": 8,\n        \"samples\": [\n          10.14636368127864,\n          12.0,\n          647688.0\n        ],\n        \"semantic_type\": \"\",\n        \"description\": \"\"\n      }\n    },\n    {\n      \"column\": \"Score_ae\",\n      \"properties\": {\n        \"dtype\": \"number\",\n        \"std\": 229007.51764088956,\n        \"min\": 0.0,\n        \"max\": 647734.0,\n        \"num_unique_values\": 5,\n        \"samples\": [\n          3.696166945073132,\n          4.0,\n          0.7812825012674728\n        ],\n        \"semantic_type\": \"\",\n        \"description\": \"\"\n      }\n    },\n    {\n      \"column\": \"Score_vy\",\n      \"properties\": {\n        \"dtype\": \"number\",\n        \"std\": 228502.77085955095,\n        \"min\": 1.0,\n        \"max\": 647734.0,\n        \"num_unique_values\": 8,\n        \"samples\": [\n          2004.384410884715,\n          2005.0,\n          647734.0\n        ],\n        \"semantic_type\": \"\",\n        \"description\": \"\"\n      }\n    },\n    {\n      \"column\": \"Score_vt\",\n      \"properties\": {\n        \"dtype\": \"number\",\n        \"std\": 229006.93728160244,\n        \"min\": 0.8142492075634378,\n        \"max\": 647734.0,\n        \"num_unique_values\": 5,\n        \"samples\": [\n          4.153965979862104,\n          11.0,\n          0.8142492075634378\n        ],\n        \"semantic_type\": \"\",\n        \"description\": \"\"\n      }\n    },\n    {\n      \"column\": \"Score_r\",\n      \"properties\": {\n        \"dtype\": \"number\",\n        \"std\": 229004.43776345556,\n        \"min\": 1.0,\n        \"max\": 647734.0,\n        \"num_unique_values\": 8,\n        \"samples\": [\n          12.116328616376476,\n          14.0,\n          647734.0\n        ],\n        \"semantic_type\": \"\",\n        \"description\": \"\"\n      }\n    },\n    {\n      \"column\": \"Score_bcb\",\n      \"properties\": {\n        \"dtype\": \"number\",\n        \"std\": 229008.34605042308,\n        \"min\": 0.0,\n        \"max\": 647734.0,\n        \"num_unique_values\": 5,\n        \"samples\": [\n          0.5825292481172827,\n          1.0,\n          0.49314227019334067\n        ],\n        \"semantic_type\": \"\",\n        \"description\": \"\"\n      }\n    },\n    {\n      \"column\": \"Score_ow\",\n      \"properties\": {\n        \"dtype\": \"number\",\n        \"std\": 2943847283.5182204,\n        \"min\": 647730.0,\n        \"max\": 7917100004.0,\n        \"num_unique_values\": 8,\n        \"samples\": [\n          4256352862.4715514,\n          4310100004.0,\n          647730.0\n        ],\n        \"semantic_type\": \"\",\n        \"description\": \"\"\n      }\n    },\n    {\n      \"column\": \"Score_ow_sh\",\n      \"properties\": {\n        \"dtype\": \"number\",\n        \"std\": 227452.39473234952,\n        \"min\": 1100.0,\n        \"max\": 647730.0,\n        \"num_unique_values\": 8,\n        \"samples\": [\n          4826.252426165223,\n          4750.0,\n          647730.0\n        ],\n        \"semantic_type\": \"\",\n        \"description\": \"\"\n      }\n    }\n  ]\n}"
            }
          },
          "metadata": {},
          "execution_count": 236
        }
      ]
    },
    {
      "cell_type": "markdown",
      "source": [
        "# Null values"
      ],
      "metadata": {
        "id": "t-C1DbGlC4Ir"
      }
    },
    {
      "cell_type": "code",
      "source": [
        "df_isna = df_train.isna().sum().reset_index().sort_values(0, ascending=False)\n",
        "df_isna[df_isna[0] > 0]"
      ],
      "metadata": {
        "colab": {
          "base_uri": "https://localhost:8080/",
          "height": 423
        },
        "id": "-IF9VW8sbyPv",
        "outputId": "686bf3f5-53d4-423b-bed8-3c407f02ad72"
      },
      "execution_count": null,
      "outputs": [
        {
          "output_type": "execute_result",
          "data": {
            "text/plain": [
              "           index       0\n",
              "122   SCORE_11_7  544254\n",
              "123   SCORE_11_8  544254\n",
              "124   SCORE_11_9  544254\n",
              "125  SCORE_11_10  544254\n",
              "126  SCORE_11_11  544254\n",
              "..           ...     ...\n",
              "84     SCORE_8_2    8171\n",
              "85     SCORE_8_3    8171\n",
              "2       Score_bm      46\n",
              "8       Score_ow       4\n",
              "9    Score_ow_sh       4\n",
              "\n",
              "[172 rows x 2 columns]"
            ],
            "text/html": [
              "\n",
              "  <div id=\"df-d31b51d8-5048-4629-8526-9b414fa68614\" class=\"colab-df-container\">\n",
              "    <div>\n",
              "<style scoped>\n",
              "    .dataframe tbody tr th:only-of-type {\n",
              "        vertical-align: middle;\n",
              "    }\n",
              "\n",
              "    .dataframe tbody tr th {\n",
              "        vertical-align: top;\n",
              "    }\n",
              "\n",
              "    .dataframe thead th {\n",
              "        text-align: right;\n",
              "    }\n",
              "</style>\n",
              "<table border=\"1\" class=\"dataframe\">\n",
              "  <thead>\n",
              "    <tr style=\"text-align: right;\">\n",
              "      <th></th>\n",
              "      <th>index</th>\n",
              "      <th>0</th>\n",
              "    </tr>\n",
              "  </thead>\n",
              "  <tbody>\n",
              "    <tr>\n",
              "      <th>122</th>\n",
              "      <td>SCORE_11_7</td>\n",
              "      <td>544254</td>\n",
              "    </tr>\n",
              "    <tr>\n",
              "      <th>123</th>\n",
              "      <td>SCORE_11_8</td>\n",
              "      <td>544254</td>\n",
              "    </tr>\n",
              "    <tr>\n",
              "      <th>124</th>\n",
              "      <td>SCORE_11_9</td>\n",
              "      <td>544254</td>\n",
              "    </tr>\n",
              "    <tr>\n",
              "      <th>125</th>\n",
              "      <td>SCORE_11_10</td>\n",
              "      <td>544254</td>\n",
              "    </tr>\n",
              "    <tr>\n",
              "      <th>126</th>\n",
              "      <td>SCORE_11_11</td>\n",
              "      <td>544254</td>\n",
              "    </tr>\n",
              "    <tr>\n",
              "      <th>...</th>\n",
              "      <td>...</td>\n",
              "      <td>...</td>\n",
              "    </tr>\n",
              "    <tr>\n",
              "      <th>84</th>\n",
              "      <td>SCORE_8_2</td>\n",
              "      <td>8171</td>\n",
              "    </tr>\n",
              "    <tr>\n",
              "      <th>85</th>\n",
              "      <td>SCORE_8_3</td>\n",
              "      <td>8171</td>\n",
              "    </tr>\n",
              "    <tr>\n",
              "      <th>2</th>\n",
              "      <td>Score_bm</td>\n",
              "      <td>46</td>\n",
              "    </tr>\n",
              "    <tr>\n",
              "      <th>8</th>\n",
              "      <td>Score_ow</td>\n",
              "      <td>4</td>\n",
              "    </tr>\n",
              "    <tr>\n",
              "      <th>9</th>\n",
              "      <td>Score_ow_sh</td>\n",
              "      <td>4</td>\n",
              "    </tr>\n",
              "  </tbody>\n",
              "</table>\n",
              "<p>172 rows × 2 columns</p>\n",
              "</div>\n",
              "    <div class=\"colab-df-buttons\">\n",
              "\n",
              "  <div class=\"colab-df-container\">\n",
              "    <button class=\"colab-df-convert\" onclick=\"convertToInteractive('df-d31b51d8-5048-4629-8526-9b414fa68614')\"\n",
              "            title=\"Convert this dataframe to an interactive table.\"\n",
              "            style=\"display:none;\">\n",
              "\n",
              "  <svg xmlns=\"http://www.w3.org/2000/svg\" height=\"24px\" viewBox=\"0 -960 960 960\">\n",
              "    <path d=\"M120-120v-720h720v720H120Zm60-500h600v-160H180v160Zm220 220h160v-160H400v160Zm0 220h160v-160H400v160ZM180-400h160v-160H180v160Zm440 0h160v-160H620v160ZM180-180h160v-160H180v160Zm440 0h160v-160H620v160Z\"/>\n",
              "  </svg>\n",
              "    </button>\n",
              "\n",
              "  <style>\n",
              "    .colab-df-container {\n",
              "      display:flex;\n",
              "      gap: 12px;\n",
              "    }\n",
              "\n",
              "    .colab-df-convert {\n",
              "      background-color: #E8F0FE;\n",
              "      border: none;\n",
              "      border-radius: 50%;\n",
              "      cursor: pointer;\n",
              "      display: none;\n",
              "      fill: #1967D2;\n",
              "      height: 32px;\n",
              "      padding: 0 0 0 0;\n",
              "      width: 32px;\n",
              "    }\n",
              "\n",
              "    .colab-df-convert:hover {\n",
              "      background-color: #E2EBFA;\n",
              "      box-shadow: 0px 1px 2px rgba(60, 64, 67, 0.3), 0px 1px 3px 1px rgba(60, 64, 67, 0.15);\n",
              "      fill: #174EA6;\n",
              "    }\n",
              "\n",
              "    .colab-df-buttons div {\n",
              "      margin-bottom: 4px;\n",
              "    }\n",
              "\n",
              "    [theme=dark] .colab-df-convert {\n",
              "      background-color: #3B4455;\n",
              "      fill: #D2E3FC;\n",
              "    }\n",
              "\n",
              "    [theme=dark] .colab-df-convert:hover {\n",
              "      background-color: #434B5C;\n",
              "      box-shadow: 0px 1px 3px 1px rgba(0, 0, 0, 0.15);\n",
              "      filter: drop-shadow(0px 1px 2px rgba(0, 0, 0, 0.3));\n",
              "      fill: #FFFFFF;\n",
              "    }\n",
              "  </style>\n",
              "\n",
              "    <script>\n",
              "      const buttonEl =\n",
              "        document.querySelector('#df-d31b51d8-5048-4629-8526-9b414fa68614 button.colab-df-convert');\n",
              "      buttonEl.style.display =\n",
              "        google.colab.kernel.accessAllowed ? 'block' : 'none';\n",
              "\n",
              "      async function convertToInteractive(key) {\n",
              "        const element = document.querySelector('#df-d31b51d8-5048-4629-8526-9b414fa68614');\n",
              "        const dataTable =\n",
              "          await google.colab.kernel.invokeFunction('convertToInteractive',\n",
              "                                                    [key], {});\n",
              "        if (!dataTable) return;\n",
              "\n",
              "        const docLinkHtml = 'Like what you see? Visit the ' +\n",
              "          '<a target=\"_blank\" href=https://colab.research.google.com/notebooks/data_table.ipynb>data table notebook</a>'\n",
              "          + ' to learn more about interactive tables.';\n",
              "        element.innerHTML = '';\n",
              "        dataTable['output_type'] = 'display_data';\n",
              "        await google.colab.output.renderOutput(dataTable, element);\n",
              "        const docLink = document.createElement('div');\n",
              "        docLink.innerHTML = docLinkHtml;\n",
              "        element.appendChild(docLink);\n",
              "      }\n",
              "    </script>\n",
              "  </div>\n",
              "\n",
              "\n",
              "<div id=\"df-cb221724-5b60-4901-b259-7908f5f14468\">\n",
              "  <button class=\"colab-df-quickchart\" onclick=\"quickchart('df-cb221724-5b60-4901-b259-7908f5f14468')\"\n",
              "            title=\"Suggest charts\"\n",
              "            style=\"display:none;\">\n",
              "\n",
              "<svg xmlns=\"http://www.w3.org/2000/svg\" height=\"24px\"viewBox=\"0 0 24 24\"\n",
              "     width=\"24px\">\n",
              "    <g>\n",
              "        <path d=\"M19 3H5c-1.1 0-2 .9-2 2v14c0 1.1.9 2 2 2h14c1.1 0 2-.9 2-2V5c0-1.1-.9-2-2-2zM9 17H7v-7h2v7zm4 0h-2V7h2v10zm4 0h-2v-4h2v4z\"/>\n",
              "    </g>\n",
              "</svg>\n",
              "  </button>\n",
              "\n",
              "<style>\n",
              "  .colab-df-quickchart {\n",
              "      --bg-color: #E8F0FE;\n",
              "      --fill-color: #1967D2;\n",
              "      --hover-bg-color: #E2EBFA;\n",
              "      --hover-fill-color: #174EA6;\n",
              "      --disabled-fill-color: #AAA;\n",
              "      --disabled-bg-color: #DDD;\n",
              "  }\n",
              "\n",
              "  [theme=dark] .colab-df-quickchart {\n",
              "      --bg-color: #3B4455;\n",
              "      --fill-color: #D2E3FC;\n",
              "      --hover-bg-color: #434B5C;\n",
              "      --hover-fill-color: #FFFFFF;\n",
              "      --disabled-bg-color: #3B4455;\n",
              "      --disabled-fill-color: #666;\n",
              "  }\n",
              "\n",
              "  .colab-df-quickchart {\n",
              "    background-color: var(--bg-color);\n",
              "    border: none;\n",
              "    border-radius: 50%;\n",
              "    cursor: pointer;\n",
              "    display: none;\n",
              "    fill: var(--fill-color);\n",
              "    height: 32px;\n",
              "    padding: 0;\n",
              "    width: 32px;\n",
              "  }\n",
              "\n",
              "  .colab-df-quickchart:hover {\n",
              "    background-color: var(--hover-bg-color);\n",
              "    box-shadow: 0 1px 2px rgba(60, 64, 67, 0.3), 0 1px 3px 1px rgba(60, 64, 67, 0.15);\n",
              "    fill: var(--button-hover-fill-color);\n",
              "  }\n",
              "\n",
              "  .colab-df-quickchart-complete:disabled,\n",
              "  .colab-df-quickchart-complete:disabled:hover {\n",
              "    background-color: var(--disabled-bg-color);\n",
              "    fill: var(--disabled-fill-color);\n",
              "    box-shadow: none;\n",
              "  }\n",
              "\n",
              "  .colab-df-spinner {\n",
              "    border: 2px solid var(--fill-color);\n",
              "    border-color: transparent;\n",
              "    border-bottom-color: var(--fill-color);\n",
              "    animation:\n",
              "      spin 1s steps(1) infinite;\n",
              "  }\n",
              "\n",
              "  @keyframes spin {\n",
              "    0% {\n",
              "      border-color: transparent;\n",
              "      border-bottom-color: var(--fill-color);\n",
              "      border-left-color: var(--fill-color);\n",
              "    }\n",
              "    20% {\n",
              "      border-color: transparent;\n",
              "      border-left-color: var(--fill-color);\n",
              "      border-top-color: var(--fill-color);\n",
              "    }\n",
              "    30% {\n",
              "      border-color: transparent;\n",
              "      border-left-color: var(--fill-color);\n",
              "      border-top-color: var(--fill-color);\n",
              "      border-right-color: var(--fill-color);\n",
              "    }\n",
              "    40% {\n",
              "      border-color: transparent;\n",
              "      border-right-color: var(--fill-color);\n",
              "      border-top-color: var(--fill-color);\n",
              "    }\n",
              "    60% {\n",
              "      border-color: transparent;\n",
              "      border-right-color: var(--fill-color);\n",
              "    }\n",
              "    80% {\n",
              "      border-color: transparent;\n",
              "      border-right-color: var(--fill-color);\n",
              "      border-bottom-color: var(--fill-color);\n",
              "    }\n",
              "    90% {\n",
              "      border-color: transparent;\n",
              "      border-bottom-color: var(--fill-color);\n",
              "    }\n",
              "  }\n",
              "</style>\n",
              "\n",
              "  <script>\n",
              "    async function quickchart(key) {\n",
              "      const quickchartButtonEl =\n",
              "        document.querySelector('#' + key + ' button');\n",
              "      quickchartButtonEl.disabled = true;  // To prevent multiple clicks.\n",
              "      quickchartButtonEl.classList.add('colab-df-spinner');\n",
              "      try {\n",
              "        const charts = await google.colab.kernel.invokeFunction(\n",
              "            'suggestCharts', [key], {});\n",
              "      } catch (error) {\n",
              "        console.error('Error during call to suggestCharts:', error);\n",
              "      }\n",
              "      quickchartButtonEl.classList.remove('colab-df-spinner');\n",
              "      quickchartButtonEl.classList.add('colab-df-quickchart-complete');\n",
              "    }\n",
              "    (() => {\n",
              "      let quickchartButtonEl =\n",
              "        document.querySelector('#df-cb221724-5b60-4901-b259-7908f5f14468 button');\n",
              "      quickchartButtonEl.style.display =\n",
              "        google.colab.kernel.accessAllowed ? 'block' : 'none';\n",
              "    })();\n",
              "  </script>\n",
              "</div>\n",
              "\n",
              "    </div>\n",
              "  </div>\n"
            ],
            "application/vnd.google.colaboratory.intrinsic+json": {
              "type": "dataframe",
              "summary": "{\n  \"name\": \"df_isna[df_isna[0] > 0]\",\n  \"rows\": 172,\n  \"fields\": [\n    {\n      \"column\": \"index\",\n      \"properties\": {\n        \"dtype\": \"string\",\n        \"num_unique_values\": 172,\n        \"samples\": [\n          \"SCORE_4_5\",\n          \"SCORE_3_1_1\",\n          \"SCORE_9_4\"\n        ],\n        \"semantic_type\": \"\",\n        \"description\": \"\"\n      }\n    },\n    {\n      \"column\": 0,\n      \"properties\": {\n        \"dtype\": \"number\",\n        \"std\": 147874,\n        \"min\": 4,\n        \"max\": 544254,\n        \"num_unique_values\": 19,\n        \"samples\": [\n          544254,\n          134227,\n          66948\n        ],\n        \"semantic_type\": \"\",\n        \"description\": \"\"\n      }\n    }\n  ]\n}"
            }
          },
          "metadata": {},
          "execution_count": 237
        }
      ]
    },
    {
      "cell_type": "code",
      "source": [
        "dummy_variables = []\n",
        "for col in df_train.columns:\n",
        "  if len(df_train[str(col)].value_counts()) == 2:\n",
        "    if (df_train[str(col)].value_counts().index.sort_values() == [0.0, 1.0]).all():\n",
        "      dummy_variables.append(col)\n",
        "print(dummy_variables)"
      ],
      "metadata": {
        "colab": {
          "base_uri": "https://localhost:8080/"
        },
        "id": "fcHqc7ZzC9ny",
        "outputId": "5c1aaa53-1553-475f-fbfa-77bb1cd90aac"
      },
      "execution_count": null,
      "outputs": [
        {
          "output_type": "stream",
          "name": "stdout",
          "text": [
            "['Score_bcb', 'target_2', 'SCORE_11_1', 'SCORE_11_2', 'SCORE_11_3', 'SCORE_11_4', 'SCORE_11_5', 'SCORE_11_6', 'SCORE_11_7', 'SCORE_11_8', 'SCORE_11_9', 'SCORE_11_10', 'SCORE_11_11', 'SCORE_11_12', 'SCORE_11_13', 'SCORE_11_14', 'SCORE_1_14', 'SCORE_11_15', 'is_weekend_c_date']\n"
          ]
        }
      ]
    },
    {
      "cell_type": "code",
      "source": [
        "for col in dummy_variables:\n",
        "  if col != 'target_2':\n",
        "    df_train[str(col)].fillna(0, inplace=True)\n",
        "    df_test[str(col)].fillna(0, inplace=True)"
      ],
      "metadata": {
        "id": "BEl-kijVHYw2"
      },
      "execution_count": null,
      "outputs": []
    },
    {
      "cell_type": "code",
      "source": [
        "cat_variables = []\n",
        "for col in df_train.columns:\n",
        "  if (len(df_train[str(col)].value_counts()) < 100) & (col not in dummy_variables):\n",
        "    values = df_train[str(col)].value_counts().index\n",
        "    if sum([abs(int(val) - val) * 10 for val in values]) == 0:\n",
        "      cat_variables.append(col)\n",
        "print(cat_variables)"
      ],
      "metadata": {
        "colab": {
          "base_uri": "https://localhost:8080/"
        },
        "id": "mej0udTlLEJ_",
        "outputId": "b661e9c1-00ae-4b45-a140-728ba5d4282e"
      },
      "execution_count": null,
      "outputs": [
        {
          "output_type": "stream",
          "name": "stdout",
          "text": [
            "['Score_bm', 'Score_ae', 'Score_vy', 'Score_vt', 'Score_r', 'SCORE_1_1', 'SCORE_1_2', 'SCORE_1_3', 'SCORE_1_4', 'SCORE_1_5', 'SCORE_1_6', 'SCORE_1_7', 'SCORE_1_8', 'SCORE_1_9', 'SCORE_1_10', 'SCORE_2_1', 'SCORE_2_2', 'SCORE_2_3', 'SCORE_3_1', 'SCORE_3_2', 'SCORE_3_3', 'SCORE_3_4', 'SCORE_3_5', 'SCORE_3_6', 'SCORE_3_7', 'SCORE_3_8', 'SCORE_3_9', 'SCORE_3_10', 'SCORE_4_1', 'SCORE_4_2', 'SCORE_4_3', 'SCORE_4_4', 'SCORE_4_5', 'SCORE_4_6', 'SCORE_4_7', 'SCORE_4_8', 'SCORE_4_9', 'SCORE_4_10', 'SCORE_4_11', 'SCORE_4_12', 'SCORE_4_13', 'SCORE_4_14', 'SCORE_4_15', 'SCORE_4_16', 'SCORE_4_17', 'SCORE_4_18', 'SCORE_4_19', 'SCORE_4_20', 'SCORE_4_21', 'SCORE_4_22', 'SCORE_4_23', 'SCORE_4_24', 'SCORE_4_25', 'SCORE_4_26', 'SCORE_4_27', 'SCORE_4_28', 'SCORE_4_29', 'SCORE_4_30', 'SCORE_5_1', 'SCORE_5_2', 'SCORE_5_3', 'SCORE_5_4', 'SCORE_5_5', 'SCORE_5_6', 'SCORE_5_7', 'SCORE_5_8', 'SCORE_5_9', 'SCORE_5_10', 'SCORE_5_11', 'SCORE_5_12', 'SCORE_6_1', 'SCORE_6_2', 'SCORE_6_3', 'SCORE_7_1', 'SCORE_7_2', 'SCORE_7_3', 'SCORE_8_1', 'SCORE_8_2', 'SCORE_8_3', 'SCORE_9_1', 'SCORE_9_2', 'SCORE_9_3', 'SCORE_9_4', 'SCORE_9_5', 'SCORE_9_6', 'SCORE_9_7', 'SCORE_9_8', 'SCORE_9_9', 'SCORE_9_10', 'SCORE_9_11', 'SCORE_9_12', 'SCORE_9_13', 'SCORE_9_14', 'SCORE_9_15', 'SCORE_9_16', 'SCORE_9_17', 'SCORE_9_18', 'SCORE_9_19', 'SCORE_9_20', 'SCORE_9_21', 'SCORE_9_22', 'SCORE_9_23', 'SCORE_9_24', 'SCORE_10_1', 'SCORE_10_2', 'SCORE_10_3', 'SCORE_10_4', 'SCORE_10_5', 'SCORE_10_6', 'SCORE_1_11', 'SCORE_1_12', 'SCORE_1_13', 'SCORE_1_15', 'SCORE_1_16', 'SCORE_1_17', 'SCORE_1_18', 'SCORE_1_19', 'SCORE_1_20', 'SCORE_1_21', 'SCORE_1_22', 'SCORE_1_23', 'SCORE_1_24', 'SCORE_1_25', 'SCORE_1_26', 'SCORE_2_4', 'SCORE_2_5', 'SCORE_3_1_1', 'SCORE_3_2_1', 'SCORE_3_3_1', 'SCORE_3_4_1', 'SCORE_3_5_1', 'SCORE_3_6_1', 'SCORE_3_7_1', 'SCORE_3_8_1', 'SCORE_3_9_1', 'SCORE_3_10_1', 'SCORE_5_13', 'SCORE_5_14', 'SCORE_5_15', 'SCORE_5_16', 'SCORE_5_17', 'SCORE_5_18', 'SCORE_5_19', 'SCORE_5_20', 'SCORE_6_4', 'SCORE_6_5', 'SCORE_6_6', 'SCORE_6_7', 'SCORE_6_8', 'SCORE_6_9', 'SCORE_7_4', 'SCORE_7_5', 'SCORE_7_6', 'SCORE_7_7', 'SCORE_7_8', 'SCORE_7_9', 'SCORE_9_25', 'dd_c_date', 'qq_c_date', 'yy_c_date', 'wd_c_date', 'wy_c_date']\n"
          ]
        }
      ]
    },
    {
      "cell_type": "code",
      "source": [
        "for col in cat_variables:\n",
        "  df_train[str(col)].fillna(df_train[str(col)].mode()[0], inplace=True)\n",
        "  df_test[str(col)].fillna(df_test[str(col)].mode()[0], inplace=True)"
      ],
      "metadata": {
        "id": "qTRR83niJn6A"
      },
      "execution_count": null,
      "outputs": []
    },
    {
      "cell_type": "code",
      "source": [
        "for col in df_test.columns:\n",
        "  if col not in dummy_variables and col not in cat_variables:\n",
        "    df_train[col].fillna(df_train[col].median(), inplace=True)\n",
        "    df_test[col].fillna(df_test[col].median(), inplace=True)"
      ],
      "metadata": {
        "id": "dQ0xGty3KSQt"
      },
      "execution_count": null,
      "outputs": []
    },
    {
      "cell_type": "code",
      "source": [
        "df_isna = df_train.isna().sum().reset_index().sort_values(0, ascending=False)\n",
        "df_isna[df_isna[0] > 0]"
      ],
      "metadata": {
        "colab": {
          "base_uri": "https://localhost:8080/",
          "height": 53
        },
        "id": "CMCaKJq0Imst",
        "outputId": "0a9d5ca3-f96b-4883-bcce-4de22117434a"
      },
      "execution_count": null,
      "outputs": [
        {
          "output_type": "execute_result",
          "data": {
            "text/plain": [
              "Empty DataFrame\n",
              "Columns: [index, 0]\n",
              "Index: []"
            ],
            "text/html": [
              "\n",
              "  <div id=\"df-e00af37a-6ce5-4efd-be21-29df8dde7289\" class=\"colab-df-container\">\n",
              "    <div>\n",
              "<style scoped>\n",
              "    .dataframe tbody tr th:only-of-type {\n",
              "        vertical-align: middle;\n",
              "    }\n",
              "\n",
              "    .dataframe tbody tr th {\n",
              "        vertical-align: top;\n",
              "    }\n",
              "\n",
              "    .dataframe thead th {\n",
              "        text-align: right;\n",
              "    }\n",
              "</style>\n",
              "<table border=\"1\" class=\"dataframe\">\n",
              "  <thead>\n",
              "    <tr style=\"text-align: right;\">\n",
              "      <th></th>\n",
              "      <th>index</th>\n",
              "      <th>0</th>\n",
              "    </tr>\n",
              "  </thead>\n",
              "  <tbody>\n",
              "  </tbody>\n",
              "</table>\n",
              "</div>\n",
              "    <div class=\"colab-df-buttons\">\n",
              "\n",
              "  <div class=\"colab-df-container\">\n",
              "    <button class=\"colab-df-convert\" onclick=\"convertToInteractive('df-e00af37a-6ce5-4efd-be21-29df8dde7289')\"\n",
              "            title=\"Convert this dataframe to an interactive table.\"\n",
              "            style=\"display:none;\">\n",
              "\n",
              "  <svg xmlns=\"http://www.w3.org/2000/svg\" height=\"24px\" viewBox=\"0 -960 960 960\">\n",
              "    <path d=\"M120-120v-720h720v720H120Zm60-500h600v-160H180v160Zm220 220h160v-160H400v160Zm0 220h160v-160H400v160ZM180-400h160v-160H180v160Zm440 0h160v-160H620v160ZM180-180h160v-160H180v160Zm440 0h160v-160H620v160Z\"/>\n",
              "  </svg>\n",
              "    </button>\n",
              "\n",
              "  <style>\n",
              "    .colab-df-container {\n",
              "      display:flex;\n",
              "      gap: 12px;\n",
              "    }\n",
              "\n",
              "    .colab-df-convert {\n",
              "      background-color: #E8F0FE;\n",
              "      border: none;\n",
              "      border-radius: 50%;\n",
              "      cursor: pointer;\n",
              "      display: none;\n",
              "      fill: #1967D2;\n",
              "      height: 32px;\n",
              "      padding: 0 0 0 0;\n",
              "      width: 32px;\n",
              "    }\n",
              "\n",
              "    .colab-df-convert:hover {\n",
              "      background-color: #E2EBFA;\n",
              "      box-shadow: 0px 1px 2px rgba(60, 64, 67, 0.3), 0px 1px 3px 1px rgba(60, 64, 67, 0.15);\n",
              "      fill: #174EA6;\n",
              "    }\n",
              "\n",
              "    .colab-df-buttons div {\n",
              "      margin-bottom: 4px;\n",
              "    }\n",
              "\n",
              "    [theme=dark] .colab-df-convert {\n",
              "      background-color: #3B4455;\n",
              "      fill: #D2E3FC;\n",
              "    }\n",
              "\n",
              "    [theme=dark] .colab-df-convert:hover {\n",
              "      background-color: #434B5C;\n",
              "      box-shadow: 0px 1px 3px 1px rgba(0, 0, 0, 0.15);\n",
              "      filter: drop-shadow(0px 1px 2px rgba(0, 0, 0, 0.3));\n",
              "      fill: #FFFFFF;\n",
              "    }\n",
              "  </style>\n",
              "\n",
              "    <script>\n",
              "      const buttonEl =\n",
              "        document.querySelector('#df-e00af37a-6ce5-4efd-be21-29df8dde7289 button.colab-df-convert');\n",
              "      buttonEl.style.display =\n",
              "        google.colab.kernel.accessAllowed ? 'block' : 'none';\n",
              "\n",
              "      async function convertToInteractive(key) {\n",
              "        const element = document.querySelector('#df-e00af37a-6ce5-4efd-be21-29df8dde7289');\n",
              "        const dataTable =\n",
              "          await google.colab.kernel.invokeFunction('convertToInteractive',\n",
              "                                                    [key], {});\n",
              "        if (!dataTable) return;\n",
              "\n",
              "        const docLinkHtml = 'Like what you see? Visit the ' +\n",
              "          '<a target=\"_blank\" href=https://colab.research.google.com/notebooks/data_table.ipynb>data table notebook</a>'\n",
              "          + ' to learn more about interactive tables.';\n",
              "        element.innerHTML = '';\n",
              "        dataTable['output_type'] = 'display_data';\n",
              "        await google.colab.output.renderOutput(dataTable, element);\n",
              "        const docLink = document.createElement('div');\n",
              "        docLink.innerHTML = docLinkHtml;\n",
              "        element.appendChild(docLink);\n",
              "      }\n",
              "    </script>\n",
              "  </div>\n",
              "\n",
              "\n",
              "    </div>\n",
              "  </div>\n"
            ],
            "application/vnd.google.colaboratory.intrinsic+json": {
              "type": "dataframe",
              "repr_error": "Out of range float values are not JSON compliant: nan"
            }
          },
          "metadata": {},
          "execution_count": 243
        }
      ]
    },
    {
      "cell_type": "markdown",
      "source": [
        "# Model for fraud classification"
      ],
      "metadata": {
        "id": "cmlGW6MU83L4"
      }
    },
    {
      "cell_type": "code",
      "source": [
        "X = df_train.drop(['target_2', 'target_1'], axis=1).values\n",
        "X_test = df_test.values\n",
        "y = df_train['target_2'].values"
      ],
      "metadata": {
        "id": "2D3onWHM8te5"
      },
      "execution_count": null,
      "outputs": []
    },
    {
      "cell_type": "code",
      "source": [
        "X_train, X_valid, y_train, y_valid = train_test_split(X, y, random_state=42, test_size=0.2, shuffle=True)"
      ],
      "metadata": {
        "id": "uDIjt8Z8A-Z0"
      },
      "execution_count": null,
      "outputs": []
    },
    {
      "cell_type": "code",
      "source": [
        "scaler = StandardScaler()\n",
        "X_train = scaler.fit_transform(X_train)\n",
        "X_valid = scaler.transform(X_valid)\n",
        "X_test = scaler.transform(X_test)"
      ],
      "metadata": {
        "id": "rRG7ILTc-ztn"
      },
      "execution_count": null,
      "outputs": []
    },
    {
      "cell_type": "code",
      "source": [
        "smote =  SMOTE(random_state=42)\n",
        "X_resampled, y_resampled =  smote.fit_resample(X_train, y_train)"
      ],
      "metadata": {
        "id": "awlNzTOQG0BL"
      },
      "execution_count": null,
      "outputs": []
    },
    {
      "cell_type": "markdown",
      "source": [
        "# Random Forest"
      ],
      "metadata": {
        "id": "bVeFlVhI-izo"
      }
    },
    {
      "cell_type": "code",
      "source": [
        "rfc = RandomForestClassifier(random_state=42)\n",
        "rfc.fit(X_resampled, y_resampled)"
      ],
      "metadata": {
        "colab": {
          "base_uri": "https://localhost:8080/",
          "height": 74
        },
        "id": "CbPcuiEB-ILB",
        "outputId": "e383f803-95a2-464c-8d87-a0e830a9353c"
      },
      "execution_count": null,
      "outputs": [
        {
          "output_type": "execute_result",
          "data": {
            "text/plain": [
              "RandomForestClassifier(random_state=42)"
            ],
            "text/html": [
              "<style>#sk-container-id-18 {color: black;background-color: white;}#sk-container-id-18 pre{padding: 0;}#sk-container-id-18 div.sk-toggleable {background-color: white;}#sk-container-id-18 label.sk-toggleable__label {cursor: pointer;display: block;width: 100%;margin-bottom: 0;padding: 0.3em;box-sizing: border-box;text-align: center;}#sk-container-id-18 label.sk-toggleable__label-arrow:before {content: \"▸\";float: left;margin-right: 0.25em;color: #696969;}#sk-container-id-18 label.sk-toggleable__label-arrow:hover:before {color: black;}#sk-container-id-18 div.sk-estimator:hover label.sk-toggleable__label-arrow:before {color: black;}#sk-container-id-18 div.sk-toggleable__content {max-height: 0;max-width: 0;overflow: hidden;text-align: left;background-color: #f0f8ff;}#sk-container-id-18 div.sk-toggleable__content pre {margin: 0.2em;color: black;border-radius: 0.25em;background-color: #f0f8ff;}#sk-container-id-18 input.sk-toggleable__control:checked~div.sk-toggleable__content {max-height: 200px;max-width: 100%;overflow: auto;}#sk-container-id-18 input.sk-toggleable__control:checked~label.sk-toggleable__label-arrow:before {content: \"▾\";}#sk-container-id-18 div.sk-estimator input.sk-toggleable__control:checked~label.sk-toggleable__label {background-color: #d4ebff;}#sk-container-id-18 div.sk-label input.sk-toggleable__control:checked~label.sk-toggleable__label {background-color: #d4ebff;}#sk-container-id-18 input.sk-hidden--visually {border: 0;clip: rect(1px 1px 1px 1px);clip: rect(1px, 1px, 1px, 1px);height: 1px;margin: -1px;overflow: hidden;padding: 0;position: absolute;width: 1px;}#sk-container-id-18 div.sk-estimator {font-family: monospace;background-color: #f0f8ff;border: 1px dotted black;border-radius: 0.25em;box-sizing: border-box;margin-bottom: 0.5em;}#sk-container-id-18 div.sk-estimator:hover {background-color: #d4ebff;}#sk-container-id-18 div.sk-parallel-item::after {content: \"\";width: 100%;border-bottom: 1px solid gray;flex-grow: 1;}#sk-container-id-18 div.sk-label:hover label.sk-toggleable__label {background-color: #d4ebff;}#sk-container-id-18 div.sk-serial::before {content: \"\";position: absolute;border-left: 1px solid gray;box-sizing: border-box;top: 0;bottom: 0;left: 50%;z-index: 0;}#sk-container-id-18 div.sk-serial {display: flex;flex-direction: column;align-items: center;background-color: white;padding-right: 0.2em;padding-left: 0.2em;position: relative;}#sk-container-id-18 div.sk-item {position: relative;z-index: 1;}#sk-container-id-18 div.sk-parallel {display: flex;align-items: stretch;justify-content: center;background-color: white;position: relative;}#sk-container-id-18 div.sk-item::before, #sk-container-id-18 div.sk-parallel-item::before {content: \"\";position: absolute;border-left: 1px solid gray;box-sizing: border-box;top: 0;bottom: 0;left: 50%;z-index: -1;}#sk-container-id-18 div.sk-parallel-item {display: flex;flex-direction: column;z-index: 1;position: relative;background-color: white;}#sk-container-id-18 div.sk-parallel-item:first-child::after {align-self: flex-end;width: 50%;}#sk-container-id-18 div.sk-parallel-item:last-child::after {align-self: flex-start;width: 50%;}#sk-container-id-18 div.sk-parallel-item:only-child::after {width: 0;}#sk-container-id-18 div.sk-dashed-wrapped {border: 1px dashed gray;margin: 0 0.4em 0.5em 0.4em;box-sizing: border-box;padding-bottom: 0.4em;background-color: white;}#sk-container-id-18 div.sk-label label {font-family: monospace;font-weight: bold;display: inline-block;line-height: 1.2em;}#sk-container-id-18 div.sk-label-container {text-align: center;}#sk-container-id-18 div.sk-container {/* jupyter's `normalize.less` sets `[hidden] { display: none; }` but bootstrap.min.css set `[hidden] { display: none !important; }` so we also need the `!important` here to be able to override the default hidden behavior on the sphinx rendered scikit-learn.org. See: https://github.com/scikit-learn/scikit-learn/issues/21755 */display: inline-block !important;position: relative;}#sk-container-id-18 div.sk-text-repr-fallback {display: none;}</style><div id=\"sk-container-id-18\" class=\"sk-top-container\"><div class=\"sk-text-repr-fallback\"><pre>RandomForestClassifier(random_state=42)</pre><b>In a Jupyter environment, please rerun this cell to show the HTML representation or trust the notebook. <br />On GitHub, the HTML representation is unable to render, please try loading this page with nbviewer.org.</b></div><div class=\"sk-container\" hidden><div class=\"sk-item\"><div class=\"sk-estimator sk-toggleable\"><input class=\"sk-toggleable__control sk-hidden--visually\" id=\"sk-estimator-id-18\" type=\"checkbox\" checked><label for=\"sk-estimator-id-18\" class=\"sk-toggleable__label sk-toggleable__label-arrow\">RandomForestClassifier</label><div class=\"sk-toggleable__content\"><pre>RandomForestClassifier(random_state=42)</pre></div></div></div></div></div>"
            ]
          },
          "metadata": {},
          "execution_count": 248
        }
      ]
    },
    {
      "cell_type": "code",
      "source": [
        "y_pred = rfc.predict(X_valid)\n",
        "print(classification_report(y_valid, y_pred))\n",
        "# #         precision    recall  f1-score   support\n",
        "# #  1.0       0.34      0.04      0.08       941"
      ],
      "metadata": {
        "colab": {
          "base_uri": "https://localhost:8080/"
        },
        "id": "lpvGl-BrG65s",
        "outputId": "2b651065-b6b4-412a-8fe8-849778054e73"
      },
      "execution_count": null,
      "outputs": [
        {
          "output_type": "stream",
          "name": "stdout",
          "text": [
            "              precision    recall  f1-score   support\n",
            "\n",
            "         0.0       0.99      1.00      1.00    128606\n",
            "         1.0       0.34      0.04      0.08       941\n",
            "\n",
            "    accuracy                           0.99    129547\n",
            "   macro avg       0.67      0.52      0.54    129547\n",
            "weighted avg       0.99      0.99      0.99    129547\n",
            "\n"
          ]
        }
      ]
    },
    {
      "cell_type": "code",
      "source": [
        "print(confusion_matrix(y_valid, y_pred))\n",
        "# [[128529     77]\n",
        "#  [   901     40]]\n"
      ],
      "metadata": {
        "colab": {
          "base_uri": "https://localhost:8080/"
        },
        "id": "cAvOZd3JB-tr",
        "outputId": "a46ae76c-569e-4886-e96a-146282f4883d"
      },
      "execution_count": null,
      "outputs": [
        {
          "output_type": "stream",
          "name": "stdout",
          "text": [
            "[[128529     77]\n",
            " [   901     40]]\n"
          ]
        }
      ]
    },
    {
      "cell_type": "markdown",
      "source": [
        "# Logistic Regression"
      ],
      "metadata": {
        "id": "B6SHA0C8-lk1"
      }
    },
    {
      "cell_type": "code",
      "source": [
        "logreg = LogisticRegression()\n",
        "logreg.fit(X_train, y_train)\n",
        "y_pred = logreg.predict(X_valid)\n",
        "print(classification_report(y_valid, y_pred))\n",
        "# accuracy of fraud = 0"
      ],
      "metadata": {
        "colab": {
          "base_uri": "https://localhost:8080/"
        },
        "id": "IkEos3qE_w05",
        "outputId": "b1687b57-1c20-45dd-f23b-b038f95b9894"
      },
      "execution_count": null,
      "outputs": [
        {
          "output_type": "stream",
          "name": "stderr",
          "text": [
            "/usr/local/lib/python3.10/dist-packages/sklearn/linear_model/_logistic.py:458: ConvergenceWarning: lbfgs failed to converge (status=1):\n",
            "STOP: TOTAL NO. of ITERATIONS REACHED LIMIT.\n",
            "\n",
            "Increase the number of iterations (max_iter) or scale the data as shown in:\n",
            "    https://scikit-learn.org/stable/modules/preprocessing.html\n",
            "Please also refer to the documentation for alternative solver options:\n",
            "    https://scikit-learn.org/stable/modules/linear_model.html#logistic-regression\n",
            "  n_iter_i = _check_optimize_result(\n",
            "/usr/local/lib/python3.10/dist-packages/sklearn/metrics/_classification.py:1344: UndefinedMetricWarning: Precision and F-score are ill-defined and being set to 0.0 in labels with no predicted samples. Use `zero_division` parameter to control this behavior.\n",
            "  _warn_prf(average, modifier, msg_start, len(result))\n"
          ]
        },
        {
          "output_type": "stream",
          "name": "stdout",
          "text": [
            "              precision    recall  f1-score   support\n",
            "\n",
            "         0.0       0.99      1.00      1.00    128606\n",
            "         1.0       0.00      0.00      0.00       941\n",
            "\n",
            "    accuracy                           0.99    129547\n",
            "   macro avg       0.50      0.50      0.50    129547\n",
            "weighted avg       0.99      0.99      0.99    129547\n",
            "\n"
          ]
        },
        {
          "output_type": "stream",
          "name": "stderr",
          "text": [
            "/usr/local/lib/python3.10/dist-packages/sklearn/metrics/_classification.py:1344: UndefinedMetricWarning: Precision and F-score are ill-defined and being set to 0.0 in labels with no predicted samples. Use `zero_division` parameter to control this behavior.\n",
            "  _warn_prf(average, modifier, msg_start, len(result))\n",
            "/usr/local/lib/python3.10/dist-packages/sklearn/metrics/_classification.py:1344: UndefinedMetricWarning: Precision and F-score are ill-defined and being set to 0.0 in labels with no predicted samples. Use `zero_division` parameter to control this behavior.\n",
            "  _warn_prf(average, modifier, msg_start, len(result))\n"
          ]
        }
      ]
    },
    {
      "cell_type": "code",
      "source": [
        "print(confusion_matrix(y_valid, y_pred))"
      ],
      "metadata": {
        "colab": {
          "base_uri": "https://localhost:8080/"
        },
        "id": "ciOU-Ajd-Tog",
        "outputId": "8379cec2-5478-40de-db6d-f7fc5658e2ca"
      },
      "execution_count": null,
      "outputs": [
        {
          "output_type": "stream",
          "name": "stdout",
          "text": [
            "[[128606      0]\n",
            " [   941      0]]\n"
          ]
        }
      ]
    },
    {
      "cell_type": "markdown",
      "source": [
        "# LightGBM"
      ],
      "metadata": {
        "id": "57Qffhtk-sZf"
      }
    },
    {
      "cell_type": "code",
      "source": [
        "# !pip install lightgbm --install-option=--gpu"
      ],
      "metadata": {
        "id": "jM3GQ50oVq_b"
      },
      "execution_count": null,
      "outputs": []
    },
    {
      "cell_type": "code",
      "source": [
        "# check lightgbm version\n",
        "import lightgbm\n",
        "print(lightgbm.__version__)"
      ],
      "metadata": {
        "colab": {
          "base_uri": "https://localhost:8080/"
        },
        "id": "VPWhJE-lV-Pm",
        "outputId": "2bc04016-862e-472d-a125-984529d1fcf2"
      },
      "execution_count": null,
      "outputs": [
        {
          "output_type": "stream",
          "name": "stdout",
          "text": [
            "4.1.0\n"
          ]
        }
      ]
    },
    {
      "cell_type": "code",
      "source": [
        "# param_distributions = {'max_depth': [3],\n",
        "#                         'eval_metric':['auc'],\n",
        "#               # 'lambda_l1': [10.0],\n",
        "#                #'application': ['binary'],\n",
        "#               #'num_leaves': [182, 178, 180]\n",
        "#                        }\n",
        "# modl = LGBMClassifier()\n",
        "# cv = RandomizedSearchCV(modl, param_distributions=param_distributions, scoring='roc_auc')\n",
        "# cv.fit(X_train, y_train)\n",
        "# print(cv.best_estimator_, cv.best_score_)\n"
      ],
      "metadata": {
        "id": "1-nqE0yBhFgc"
      },
      "execution_count": null,
      "outputs": []
    },
    {
      "cell_type": "code",
      "source": [
        "clf = LGBMClassifier(num_iterations=1000)\n",
        "clf.fit(X_train, y_train,eval_set = (X_valid, y_valid))"
      ],
      "metadata": {
        "colab": {
          "base_uri": "https://localhost:8080/",
          "height": 276
        },
        "id": "_sXnEwvQfrsR",
        "outputId": "6ebabd0c-446f-4e72-9e36-581292300e27"
      },
      "execution_count": null,
      "outputs": [
        {
          "output_type": "stream",
          "name": "stderr",
          "text": [
            "/usr/local/lib/python3.10/dist-packages/lightgbm/engine.py:172: UserWarning: Found `num_iterations` in params. Will use it instead of argument\n",
            "  _log_warning(f\"Found `{alias}` in params. Will use it instead of argument\")\n"
          ]
        },
        {
          "output_type": "stream",
          "name": "stdout",
          "text": [
            "[LightGBM] [Info] Number of positive: 3754, number of negative: 514433\n",
            "[LightGBM] [Info] Auto-choosing row-wise multi-threading, the overhead of testing was 0.103603 seconds.\n",
            "You can set `force_row_wise=true` to remove the overhead.\n",
            "And if memory is not enough, you can set `force_col_wise=true`.\n",
            "[LightGBM] [Info] Total Bins 3339\n",
            "[LightGBM] [Info] Number of data points in the train set: 518187, number of used features: 186\n",
            "[LightGBM] [Info] [binary:BoostFromScore]: pavg=0.007244 -> initscore=-4.920243\n",
            "[LightGBM] [Info] Start training from score -4.920243\n"
          ]
        },
        {
          "output_type": "execute_result",
          "data": {
            "text/plain": [
              "LGBMClassifier(num_iterations=1000)"
            ],
            "text/html": [
              "<style>#sk-container-id-23 {color: black;background-color: white;}#sk-container-id-23 pre{padding: 0;}#sk-container-id-23 div.sk-toggleable {background-color: white;}#sk-container-id-23 label.sk-toggleable__label {cursor: pointer;display: block;width: 100%;margin-bottom: 0;padding: 0.3em;box-sizing: border-box;text-align: center;}#sk-container-id-23 label.sk-toggleable__label-arrow:before {content: \"▸\";float: left;margin-right: 0.25em;color: #696969;}#sk-container-id-23 label.sk-toggleable__label-arrow:hover:before {color: black;}#sk-container-id-23 div.sk-estimator:hover label.sk-toggleable__label-arrow:before {color: black;}#sk-container-id-23 div.sk-toggleable__content {max-height: 0;max-width: 0;overflow: hidden;text-align: left;background-color: #f0f8ff;}#sk-container-id-23 div.sk-toggleable__content pre {margin: 0.2em;color: black;border-radius: 0.25em;background-color: #f0f8ff;}#sk-container-id-23 input.sk-toggleable__control:checked~div.sk-toggleable__content {max-height: 200px;max-width: 100%;overflow: auto;}#sk-container-id-23 input.sk-toggleable__control:checked~label.sk-toggleable__label-arrow:before {content: \"▾\";}#sk-container-id-23 div.sk-estimator input.sk-toggleable__control:checked~label.sk-toggleable__label {background-color: #d4ebff;}#sk-container-id-23 div.sk-label input.sk-toggleable__control:checked~label.sk-toggleable__label {background-color: #d4ebff;}#sk-container-id-23 input.sk-hidden--visually {border: 0;clip: rect(1px 1px 1px 1px);clip: rect(1px, 1px, 1px, 1px);height: 1px;margin: -1px;overflow: hidden;padding: 0;position: absolute;width: 1px;}#sk-container-id-23 div.sk-estimator {font-family: monospace;background-color: #f0f8ff;border: 1px dotted black;border-radius: 0.25em;box-sizing: border-box;margin-bottom: 0.5em;}#sk-container-id-23 div.sk-estimator:hover {background-color: #d4ebff;}#sk-container-id-23 div.sk-parallel-item::after {content: \"\";width: 100%;border-bottom: 1px solid gray;flex-grow: 1;}#sk-container-id-23 div.sk-label:hover label.sk-toggleable__label {background-color: #d4ebff;}#sk-container-id-23 div.sk-serial::before {content: \"\";position: absolute;border-left: 1px solid gray;box-sizing: border-box;top: 0;bottom: 0;left: 50%;z-index: 0;}#sk-container-id-23 div.sk-serial {display: flex;flex-direction: column;align-items: center;background-color: white;padding-right: 0.2em;padding-left: 0.2em;position: relative;}#sk-container-id-23 div.sk-item {position: relative;z-index: 1;}#sk-container-id-23 div.sk-parallel {display: flex;align-items: stretch;justify-content: center;background-color: white;position: relative;}#sk-container-id-23 div.sk-item::before, #sk-container-id-23 div.sk-parallel-item::before {content: \"\";position: absolute;border-left: 1px solid gray;box-sizing: border-box;top: 0;bottom: 0;left: 50%;z-index: -1;}#sk-container-id-23 div.sk-parallel-item {display: flex;flex-direction: column;z-index: 1;position: relative;background-color: white;}#sk-container-id-23 div.sk-parallel-item:first-child::after {align-self: flex-end;width: 50%;}#sk-container-id-23 div.sk-parallel-item:last-child::after {align-self: flex-start;width: 50%;}#sk-container-id-23 div.sk-parallel-item:only-child::after {width: 0;}#sk-container-id-23 div.sk-dashed-wrapped {border: 1px dashed gray;margin: 0 0.4em 0.5em 0.4em;box-sizing: border-box;padding-bottom: 0.4em;background-color: white;}#sk-container-id-23 div.sk-label label {font-family: monospace;font-weight: bold;display: inline-block;line-height: 1.2em;}#sk-container-id-23 div.sk-label-container {text-align: center;}#sk-container-id-23 div.sk-container {/* jupyter's `normalize.less` sets `[hidden] { display: none; }` but bootstrap.min.css set `[hidden] { display: none !important; }` so we also need the `!important` here to be able to override the default hidden behavior on the sphinx rendered scikit-learn.org. See: https://github.com/scikit-learn/scikit-learn/issues/21755 */display: inline-block !important;position: relative;}#sk-container-id-23 div.sk-text-repr-fallback {display: none;}</style><div id=\"sk-container-id-23\" class=\"sk-top-container\"><div class=\"sk-text-repr-fallback\"><pre>LGBMClassifier(num_iterations=1000)</pre><b>In a Jupyter environment, please rerun this cell to show the HTML representation or trust the notebook. <br />On GitHub, the HTML representation is unable to render, please try loading this page with nbviewer.org.</b></div><div class=\"sk-container\" hidden><div class=\"sk-item\"><div class=\"sk-estimator sk-toggleable\"><input class=\"sk-toggleable__control sk-hidden--visually\" id=\"sk-estimator-id-23\" type=\"checkbox\" checked><label for=\"sk-estimator-id-23\" class=\"sk-toggleable__label sk-toggleable__label-arrow\">LGBMClassifier</label><div class=\"sk-toggleable__content\"><pre>LGBMClassifier(num_iterations=1000)</pre></div></div></div></div></div>"
            ]
          },
          "metadata": {},
          "execution_count": 277
        }
      ]
    },
    {
      "cell_type": "code",
      "source": [
        "print('train roc accuracy',roc_auc_score(y_train, clf.predict(X_train)))\n",
        "\n",
        "y_valid_pred = clf.predict(X_valid)\n",
        "print('validation roc accuracy', roc_auc_score(y_valid, y_valid_pred))\n",
        "# train roc accuracy 0.8545522253511335\n",
        "# validation roc accuracy 0.5119333410269391"
      ],
      "metadata": {
        "colab": {
          "base_uri": "https://localhost:8080/"
        },
        "id": "lcPGlZiugWzI",
        "outputId": "11a90aa2-21f0-4118-b1a6-8f5518d0324a"
      },
      "execution_count": null,
      "outputs": [
        {
          "output_type": "stream",
          "name": "stdout",
          "text": [
            "train roc accuracy 0.8493577661076599\n",
            "validation roc accuracy 0.5092765928866627\n"
          ]
        }
      ]
    },
    {
      "cell_type": "code",
      "source": [
        "print(confusion_matrix(y_valid, y_valid_pred))"
      ],
      "metadata": {
        "colab": {
          "base_uri": "https://localhost:8080/"
        },
        "id": "UNjUo0X04e_F",
        "outputId": "176fdb8c-6d90-481e-c770-a0b44b2eb58b"
      },
      "execution_count": null,
      "outputs": [
        {
          "output_type": "stream",
          "name": "stdout",
          "text": [
            "[[128532     74]\n",
            " [   923     18]]\n"
          ]
        }
      ]
    },
    {
      "cell_type": "markdown",
      "source": [
        "# XGboost"
      ],
      "metadata": {
        "id": "ex9lGDOh_P8J"
      }
    },
    {
      "cell_type": "code",
      "source": [
        "import xgboost as xgb"
      ],
      "metadata": {
        "id": "QHyGvbpC6aNC"
      },
      "execution_count": null,
      "outputs": []
    },
    {
      "cell_type": "code",
      "source": [
        "clfx = xgb.XGBClassifier(\n",
        "        n_estimators=500,\n",
        "        max_depth=9,\n",
        "        learning_rate=0.05,\n",
        "        subsample=0.9,\n",
        "        colsample_bytree=0.9,\n",
        "        missing=-999,\n",
        "        random_state=2019,\n",
        "        tree_method='auto',\n",
        "        n_jobs = -1,\n",
        "\n",
        "    )"
      ],
      "metadata": {
        "id": "Ma98RW6j6Qyf"
      },
      "execution_count": null,
      "outputs": []
    },
    {
      "cell_type": "code",
      "source": [
        "clfx.fit(X_train, y_train)"
      ],
      "metadata": {
        "colab": {
          "base_uri": "https://localhost:8080/",
          "height": 248
        },
        "id": "5V1XTggn6gaD",
        "outputId": "2e22bbcb-d4e8-4c98-cd31-cb487c7d041d"
      },
      "execution_count": null,
      "outputs": [
        {
          "output_type": "execute_result",
          "data": {
            "text/plain": [
              "XGBClassifier(base_score=None, booster=None, callbacks=None,\n",
              "              colsample_bylevel=None, colsample_bynode=None,\n",
              "              colsample_bytree=0.9, device=None, early_stopping_rounds=None,\n",
              "              enable_categorical=False, eval_metric=None, feature_types=None,\n",
              "              gamma=None, grow_policy=None, importance_type=None,\n",
              "              interaction_constraints=None, learning_rate=0.05, max_bin=None,\n",
              "              max_cat_threshold=None, max_cat_to_onehot=None,\n",
              "              max_delta_step=None, max_depth=9, max_leaves=None,\n",
              "              min_child_weight=None, missing=-999, monotone_constraints=None,\n",
              "              multi_strategy=None, n_estimators=500, n_jobs=-1,\n",
              "              num_parallel_tree=None, random_state=2019, ...)"
            ],
            "text/html": [
              "<style>#sk-container-id-20 {color: black;background-color: white;}#sk-container-id-20 pre{padding: 0;}#sk-container-id-20 div.sk-toggleable {background-color: white;}#sk-container-id-20 label.sk-toggleable__label {cursor: pointer;display: block;width: 100%;margin-bottom: 0;padding: 0.3em;box-sizing: border-box;text-align: center;}#sk-container-id-20 label.sk-toggleable__label-arrow:before {content: \"▸\";float: left;margin-right: 0.25em;color: #696969;}#sk-container-id-20 label.sk-toggleable__label-arrow:hover:before {color: black;}#sk-container-id-20 div.sk-estimator:hover label.sk-toggleable__label-arrow:before {color: black;}#sk-container-id-20 div.sk-toggleable__content {max-height: 0;max-width: 0;overflow: hidden;text-align: left;background-color: #f0f8ff;}#sk-container-id-20 div.sk-toggleable__content pre {margin: 0.2em;color: black;border-radius: 0.25em;background-color: #f0f8ff;}#sk-container-id-20 input.sk-toggleable__control:checked~div.sk-toggleable__content {max-height: 200px;max-width: 100%;overflow: auto;}#sk-container-id-20 input.sk-toggleable__control:checked~label.sk-toggleable__label-arrow:before {content: \"▾\";}#sk-container-id-20 div.sk-estimator input.sk-toggleable__control:checked~label.sk-toggleable__label {background-color: #d4ebff;}#sk-container-id-20 div.sk-label input.sk-toggleable__control:checked~label.sk-toggleable__label {background-color: #d4ebff;}#sk-container-id-20 input.sk-hidden--visually {border: 0;clip: rect(1px 1px 1px 1px);clip: rect(1px, 1px, 1px, 1px);height: 1px;margin: -1px;overflow: hidden;padding: 0;position: absolute;width: 1px;}#sk-container-id-20 div.sk-estimator {font-family: monospace;background-color: #f0f8ff;border: 1px dotted black;border-radius: 0.25em;box-sizing: border-box;margin-bottom: 0.5em;}#sk-container-id-20 div.sk-estimator:hover {background-color: #d4ebff;}#sk-container-id-20 div.sk-parallel-item::after {content: \"\";width: 100%;border-bottom: 1px solid gray;flex-grow: 1;}#sk-container-id-20 div.sk-label:hover label.sk-toggleable__label {background-color: #d4ebff;}#sk-container-id-20 div.sk-serial::before {content: \"\";position: absolute;border-left: 1px solid gray;box-sizing: border-box;top: 0;bottom: 0;left: 50%;z-index: 0;}#sk-container-id-20 div.sk-serial {display: flex;flex-direction: column;align-items: center;background-color: white;padding-right: 0.2em;padding-left: 0.2em;position: relative;}#sk-container-id-20 div.sk-item {position: relative;z-index: 1;}#sk-container-id-20 div.sk-parallel {display: flex;align-items: stretch;justify-content: center;background-color: white;position: relative;}#sk-container-id-20 div.sk-item::before, #sk-container-id-20 div.sk-parallel-item::before {content: \"\";position: absolute;border-left: 1px solid gray;box-sizing: border-box;top: 0;bottom: 0;left: 50%;z-index: -1;}#sk-container-id-20 div.sk-parallel-item {display: flex;flex-direction: column;z-index: 1;position: relative;background-color: white;}#sk-container-id-20 div.sk-parallel-item:first-child::after {align-self: flex-end;width: 50%;}#sk-container-id-20 div.sk-parallel-item:last-child::after {align-self: flex-start;width: 50%;}#sk-container-id-20 div.sk-parallel-item:only-child::after {width: 0;}#sk-container-id-20 div.sk-dashed-wrapped {border: 1px dashed gray;margin: 0 0.4em 0.5em 0.4em;box-sizing: border-box;padding-bottom: 0.4em;background-color: white;}#sk-container-id-20 div.sk-label label {font-family: monospace;font-weight: bold;display: inline-block;line-height: 1.2em;}#sk-container-id-20 div.sk-label-container {text-align: center;}#sk-container-id-20 div.sk-container {/* jupyter's `normalize.less` sets `[hidden] { display: none; }` but bootstrap.min.css set `[hidden] { display: none !important; }` so we also need the `!important` here to be able to override the default hidden behavior on the sphinx rendered scikit-learn.org. See: https://github.com/scikit-learn/scikit-learn/issues/21755 */display: inline-block !important;position: relative;}#sk-container-id-20 div.sk-text-repr-fallback {display: none;}</style><div id=\"sk-container-id-20\" class=\"sk-top-container\"><div class=\"sk-text-repr-fallback\"><pre>XGBClassifier(base_score=None, booster=None, callbacks=None,\n",
              "              colsample_bylevel=None, colsample_bynode=None,\n",
              "              colsample_bytree=0.9, device=None, early_stopping_rounds=None,\n",
              "              enable_categorical=False, eval_metric=None, feature_types=None,\n",
              "              gamma=None, grow_policy=None, importance_type=None,\n",
              "              interaction_constraints=None, learning_rate=0.05, max_bin=None,\n",
              "              max_cat_threshold=None, max_cat_to_onehot=None,\n",
              "              max_delta_step=None, max_depth=9, max_leaves=None,\n",
              "              min_child_weight=None, missing=-999, monotone_constraints=None,\n",
              "              multi_strategy=None, n_estimators=500, n_jobs=-1,\n",
              "              num_parallel_tree=None, random_state=2019, ...)</pre><b>In a Jupyter environment, please rerun this cell to show the HTML representation or trust the notebook. <br />On GitHub, the HTML representation is unable to render, please try loading this page with nbviewer.org.</b></div><div class=\"sk-container\" hidden><div class=\"sk-item\"><div class=\"sk-estimator sk-toggleable\"><input class=\"sk-toggleable__control sk-hidden--visually\" id=\"sk-estimator-id-20\" type=\"checkbox\" checked><label for=\"sk-estimator-id-20\" class=\"sk-toggleable__label sk-toggleable__label-arrow\">XGBClassifier</label><div class=\"sk-toggleable__content\"><pre>XGBClassifier(base_score=None, booster=None, callbacks=None,\n",
              "              colsample_bylevel=None, colsample_bynode=None,\n",
              "              colsample_bytree=0.9, device=None, early_stopping_rounds=None,\n",
              "              enable_categorical=False, eval_metric=None, feature_types=None,\n",
              "              gamma=None, grow_policy=None, importance_type=None,\n",
              "              interaction_constraints=None, learning_rate=0.05, max_bin=None,\n",
              "              max_cat_threshold=None, max_cat_to_onehot=None,\n",
              "              max_delta_step=None, max_depth=9, max_leaves=None,\n",
              "              min_child_weight=None, missing=-999, monotone_constraints=None,\n",
              "              multi_strategy=None, n_estimators=500, n_jobs=-1,\n",
              "              num_parallel_tree=None, random_state=2019, ...)</pre></div></div></div></div></div>"
            ]
          },
          "metadata": {},
          "execution_count": 261
        }
      ]
    },
    {
      "cell_type": "code",
      "source": [
        "print('train roc accuracy',roc_auc_score(y_train, clfx.predict(X_train)))\n",
        "\n",
        "y_valid_pred = clfx.predict(X_valid)\n",
        "print('validation roc accuracy', roc_auc_score(y_valid, y_valid_pred))\n",
        "# train roc accuracy 0.7743720571777934\n",
        "# validation roc accuracy 0.5110805853193411"
      ],
      "metadata": {
        "colab": {
          "base_uri": "https://localhost:8080/"
        },
        "id": "YOsnIajB6l87",
        "outputId": "5f2bb302-0d4a-416b-cdf9-e4b1d5003d26"
      },
      "execution_count": null,
      "outputs": [
        {
          "output_type": "stream",
          "name": "stdout",
          "text": [
            "train roc accuracy 0.7381440337361314\n",
            "validation roc accuracy 0.5105686749087407\n"
          ]
        }
      ]
    },
    {
      "cell_type": "code",
      "source": [
        "print(confusion_matrix(y_valid, y_valid_pred))\n",
        "# [[128586     20]\n",
        "#  [   920     21]]"
      ],
      "metadata": {
        "colab": {
          "base_uri": "https://localhost:8080/"
        },
        "id": "N3sCQucA7HaQ",
        "outputId": "77518a62-9113-4b05-b9dd-5f8831f9b14e"
      },
      "execution_count": null,
      "outputs": [
        {
          "output_type": "stream",
          "name": "stdout",
          "text": [
            "[[128591     15]\n",
            " [   921     20]]\n"
          ]
        }
      ]
    },
    {
      "cell_type": "markdown",
      "source": [
        "# Random Forest для задачи классификации выявил наибольшее количество fraud и имеет наилучший показатель f1score. Ниже используем данную модель для тестовых данных."
      ],
      "metadata": {
        "id": "5JVnVQ4SEBrT"
      }
    },
    {
      "cell_type": "code",
      "source": [
        "y_pred_test = rfc.predict(X_test)\n",
        "y_pred_test"
      ],
      "metadata": {
        "colab": {
          "base_uri": "https://localhost:8080/"
        },
        "id": "HipuMZRQEUmZ",
        "outputId": "115c7254-df40-42b9-d9e8-8cc5d4a316ca"
      },
      "execution_count": null,
      "outputs": [
        {
          "output_type": "execute_result",
          "data": {
            "text/plain": [
              "array([0., 0., 0., ..., 0., 0., 0.])"
            ]
          },
          "metadata": {},
          "execution_count": 264
        }
      ]
    },
    {
      "cell_type": "markdown",
      "source": [
        "# Model for prediction sum of penalty within fraud detection"
      ],
      "metadata": {
        "id": "U4b5oQdtAOz1"
      }
    },
    {
      "cell_type": "code",
      "source": [
        "X = df_train.drop(['target_2', 'target_1'], axis=1).values\n",
        "X_test = df_test.values\n",
        "y = df_train['target_1'].values\n",
        "X_train, X_valid, y_train, y_valid = train_test_split(X, y, random_state=42, test_size=0.2, shuffle=True)"
      ],
      "metadata": {
        "id": "508PjunxAN1o"
      },
      "execution_count": null,
      "outputs": []
    },
    {
      "cell_type": "code",
      "source": [
        "scaler = StandardScaler()\n",
        "X_train = scaler.fit_transform(X_train)\n",
        "X_valid = scaler.transform(X_valid)\n",
        "X_test = scaler.transform(X_test)"
      ],
      "metadata": {
        "id": "PIB8-L7vAnUx"
      },
      "execution_count": null,
      "outputs": []
    },
    {
      "cell_type": "code",
      "source": [
        "from sklearn.linear_model import LinearRegression, Ridge, Lasso\n",
        "from sklearn.metrics import mean_squared_error"
      ],
      "metadata": {
        "id": "lFijEDYTA-3N"
      },
      "execution_count": null,
      "outputs": []
    },
    {
      "cell_type": "markdown",
      "source": [
        "# Linear Regression"
      ],
      "metadata": {
        "id": "fRM67OFPB6Uk"
      }
    },
    {
      "cell_type": "code",
      "source": [
        "linreg = LinearRegression()\n",
        "linreg.fit(X_train, y_train)\n",
        "y_pred = linreg.predict(X_valid)\n",
        "print(mean_squared_error(y_valid, y_pred, squared=False))"
      ],
      "metadata": {
        "colab": {
          "base_uri": "https://localhost:8080/"
        },
        "id": "ayxYMp78B-dB",
        "outputId": "937583cc-6f41-4c0e-9c39-658913b64402"
      },
      "execution_count": null,
      "outputs": [
        {
          "output_type": "stream",
          "name": "stdout",
          "text": [
            "110965.23088174843\n"
          ]
        }
      ]
    },
    {
      "cell_type": "markdown",
      "source": [
        "# Ridge"
      ],
      "metadata": {
        "id": "hXvV249BCNaq"
      }
    },
    {
      "cell_type": "code",
      "source": [
        "alpha = [0.1, 1.0, 10.0, 100.0, 1000.0]\n",
        "for alpha in alpha:\n",
        "  r = Ridge(alpha=alpha)\n",
        "  r.fit(X_train, y_train)\n",
        "  y_pred = r.predict(X_valid)\n",
        "  print(alpha, mean_squared_error(y_valid, y_pred, squared=False))"
      ],
      "metadata": {
        "colab": {
          "base_uri": "https://localhost:8080/"
        },
        "id": "MezkNexiDP-7",
        "outputId": "e276ecbd-8fff-48ec-9d59-be9bdb997bf2"
      },
      "execution_count": null,
      "outputs": [
        {
          "output_type": "stream",
          "name": "stderr",
          "text": [
            "/usr/local/lib/python3.10/dist-packages/sklearn/linear_model/_ridge.py:216: LinAlgWarning: Ill-conditioned matrix (rcond=1.08147e-24): result may not be accurate.\n",
            "  return linalg.solve(A, Xy, assume_a=\"pos\", overwrite_a=True).T\n"
          ]
        },
        {
          "output_type": "stream",
          "name": "stdout",
          "text": [
            "0.1 110965.23070449608\n"
          ]
        },
        {
          "output_type": "stream",
          "name": "stderr",
          "text": [
            "/usr/local/lib/python3.10/dist-packages/sklearn/linear_model/_ridge.py:216: LinAlgWarning: Ill-conditioned matrix (rcond=1.07696e-23): result may not be accurate.\n",
            "  return linalg.solve(A, Xy, assume_a=\"pos\", overwrite_a=True).T\n"
          ]
        },
        {
          "output_type": "stream",
          "name": "stdout",
          "text": [
            "1.0 110965.22938877785\n"
          ]
        },
        {
          "output_type": "stream",
          "name": "stderr",
          "text": [
            "/usr/local/lib/python3.10/dist-packages/sklearn/linear_model/_ridge.py:216: LinAlgWarning: Ill-conditioned matrix (rcond=6.00149e-23): result may not be accurate.\n",
            "  return linalg.solve(A, Xy, assume_a=\"pos\", overwrite_a=True).T\n"
          ]
        },
        {
          "output_type": "stream",
          "name": "stdout",
          "text": [
            "10.0 110965.21637139273\n"
          ]
        },
        {
          "output_type": "stream",
          "name": "stderr",
          "text": [
            "/usr/local/lib/python3.10/dist-packages/sklearn/linear_model/_ridge.py:216: LinAlgWarning: Ill-conditioned matrix (rcond=7.73119e-23): result may not be accurate.\n",
            "  return linalg.solve(A, Xy, assume_a=\"pos\", overwrite_a=True).T\n"
          ]
        },
        {
          "output_type": "stream",
          "name": "stdout",
          "text": [
            "100.0 110965.09736129582\n"
          ]
        },
        {
          "output_type": "stream",
          "name": "stderr",
          "text": [
            "/usr/local/lib/python3.10/dist-packages/sklearn/linear_model/_ridge.py:216: LinAlgWarning: Ill-conditioned matrix (rcond=4.40453e-22): result may not be accurate.\n",
            "  return linalg.solve(A, Xy, assume_a=\"pos\", overwrite_a=True).T\n"
          ]
        },
        {
          "output_type": "stream",
          "name": "stdout",
          "text": [
            "1000.0 110964.31192989272\n"
          ]
        }
      ]
    },
    {
      "cell_type": "markdown",
      "source": [
        "# Lasso"
      ],
      "metadata": {
        "id": "1ee_I38VDOWp"
      }
    },
    {
      "cell_type": "code",
      "source": [
        "alpha = [0.1, 1.0, 10.0, 20.0, 50.0]\n",
        "for alpha in alpha:\n",
        "  l = Lasso(alpha=alpha)\n",
        "  l.fit(X_train, y_train)\n",
        "  y_pred = l.predict(X_valid)\n",
        "  print(alpha, mean_squared_error(y_valid, y_pred, squared=False))"
      ],
      "metadata": {
        "colab": {
          "base_uri": "https://localhost:8080/"
        },
        "id": "IwlAfrLtHW1O",
        "outputId": "322f9ef3-6661-4448-e5b2-ed4d6977c34d"
      },
      "execution_count": null,
      "outputs": [
        {
          "output_type": "stream",
          "name": "stderr",
          "text": [
            "/usr/local/lib/python3.10/dist-packages/sklearn/linear_model/_coordinate_descent.py:631: ConvergenceWarning: Objective did not converge. You might want to increase the number of iterations, check the scale of the features or consider increasing regularisation. Duality gap: 6.619e+15, tolerance: 1.325e+12\n",
            "  model = cd_fast.enet_coordinate_descent(\n"
          ]
        },
        {
          "output_type": "stream",
          "name": "stdout",
          "text": [
            "0.1 110964.91049792769\n"
          ]
        },
        {
          "output_type": "stream",
          "name": "stderr",
          "text": [
            "/usr/local/lib/python3.10/dist-packages/sklearn/linear_model/_coordinate_descent.py:631: ConvergenceWarning: Objective did not converge. You might want to increase the number of iterations, check the scale of the features or consider increasing regularisation. Duality gap: 6.619e+15, tolerance: 1.325e+12\n",
            "  model = cd_fast.enet_coordinate_descent(\n"
          ]
        },
        {
          "output_type": "stream",
          "name": "stdout",
          "text": [
            "1.0 110964.18579960172\n"
          ]
        },
        {
          "output_type": "stream",
          "name": "stderr",
          "text": [
            "/usr/local/lib/python3.10/dist-packages/sklearn/linear_model/_coordinate_descent.py:631: ConvergenceWarning: Objective did not converge. You might want to increase the number of iterations, check the scale of the features or consider increasing regularisation. Duality gap: 6.619e+15, tolerance: 1.325e+12\n",
            "  model = cd_fast.enet_coordinate_descent(\n"
          ]
        },
        {
          "output_type": "stream",
          "name": "stdout",
          "text": [
            "10.0 110960.90899776852\n"
          ]
        },
        {
          "output_type": "stream",
          "name": "stderr",
          "text": [
            "/usr/local/lib/python3.10/dist-packages/sklearn/linear_model/_coordinate_descent.py:631: ConvergenceWarning: Objective did not converge. You might want to increase the number of iterations, check the scale of the features or consider increasing regularisation. Duality gap: 6.616e+15, tolerance: 1.325e+12\n",
            "  model = cd_fast.enet_coordinate_descent(\n"
          ]
        },
        {
          "output_type": "stream",
          "name": "stdout",
          "text": [
            "20.0 110959.15847223322\n"
          ]
        },
        {
          "output_type": "stream",
          "name": "stderr",
          "text": [
            "/usr/local/lib/python3.10/dist-packages/sklearn/linear_model/_coordinate_descent.py:631: ConvergenceWarning: Objective did not converge. You might want to increase the number of iterations, check the scale of the features or consider increasing regularisation. Duality gap: 5.993e+15, tolerance: 1.325e+12\n",
            "  model = cd_fast.enet_coordinate_descent(\n"
          ]
        },
        {
          "output_type": "stream",
          "name": "stdout",
          "text": [
            "50.0 110955.21900197124\n"
          ]
        }
      ]
    },
    {
      "cell_type": "markdown",
      "source": [
        "# Выбор модели с наименьшим RMSE - Lasso(alpha=50)"
      ],
      "metadata": {
        "id": "-JGiUkf6HKX7"
      }
    },
    {
      "cell_type": "code",
      "source": [
        "l = Lasso(alpha=50)\n",
        "l.fit(X_train, y_train)\n",
        "y_pred_test = l.predict(X_test)\n",
        "y_pred_test"
      ],
      "metadata": {
        "colab": {
          "base_uri": "https://localhost:8080/"
        },
        "id": "SbcrZmxLHKvt",
        "outputId": "51ab0291-4bea-4734-bbd2-419cf1fe05ee"
      },
      "execution_count": null,
      "outputs": [
        {
          "output_type": "stream",
          "name": "stderr",
          "text": [
            "/usr/local/lib/python3.10/dist-packages/sklearn/linear_model/_coordinate_descent.py:631: ConvergenceWarning: Objective did not converge. You might want to increase the number of iterations, check the scale of the features or consider increasing regularisation. Duality gap: 5.993e+15, tolerance: 1.325e+12\n",
            "  model = cd_fast.enet_coordinate_descent(\n"
          ]
        },
        {
          "output_type": "execute_result",
          "data": {
            "text/plain": [
              "array([ 4827.34748959, 13310.24861024,  9775.62364726, ...,\n",
              "        6674.09967854, 11683.24537585,  9109.32294342])"
            ]
          },
          "metadata": {},
          "execution_count": 296
        }
      ]
    }
  ]
}